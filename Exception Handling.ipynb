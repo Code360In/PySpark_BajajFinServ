{
 "cells": [
  {
   "cell_type": "markdown",
   "id": "f7306e66-bd6f-4a6e-8945-9c80483e9fd6",
   "metadata": {},
   "source": [
    "### Exception Haldling"
   ]
  },
  {
   "cell_type": "code",
   "execution_count": 6,
   "id": "7980e7c5-a902-48e3-a00e-c70b8ba26a34",
   "metadata": {},
   "outputs": [
    {
     "name": "stdin",
     "output_type": "stream",
     "text": [
      "Please enter the first number:  100\n",
      "Please enter the second number:  0\n"
     ]
    },
    {
     "ename": "ZeroDivisionError",
     "evalue": "division by zero",
     "output_type": "error",
     "traceback": [
      "\u001b[1;31m---------------------------------------------------------------------------\u001b[0m",
      "\u001b[1;31mZeroDivisionError\u001b[0m                         Traceback (most recent call last)",
      "\u001b[1;32m<ipython-input-6-68ce287482a1>\u001b[0m in \u001b[0;36m<module>\u001b[1;34m\u001b[0m\n\u001b[0;32m      1\u001b[0m \u001b[0mnum1\u001b[0m \u001b[1;33m=\u001b[0m \u001b[0mint\u001b[0m\u001b[1;33m(\u001b[0m\u001b[0minput\u001b[0m\u001b[1;33m(\u001b[0m\u001b[1;34m\"Please enter the first number: \"\u001b[0m\u001b[1;33m)\u001b[0m\u001b[1;33m)\u001b[0m\u001b[1;33m\u001b[0m\u001b[1;33m\u001b[0m\u001b[0m\n\u001b[0;32m      2\u001b[0m \u001b[0mnum2\u001b[0m \u001b[1;33m=\u001b[0m \u001b[0mint\u001b[0m\u001b[1;33m(\u001b[0m\u001b[0minput\u001b[0m\u001b[1;33m(\u001b[0m\u001b[1;34m\"Please enter the second number: \"\u001b[0m\u001b[1;33m)\u001b[0m\u001b[1;33m)\u001b[0m\u001b[1;33m\u001b[0m\u001b[1;33m\u001b[0m\u001b[0m\n\u001b[1;32m----> 3\u001b[1;33m \u001b[0mresult\u001b[0m \u001b[1;33m=\u001b[0m \u001b[0mnum1\u001b[0m \u001b[1;33m/\u001b[0m \u001b[0mnum2\u001b[0m\u001b[1;33m\u001b[0m\u001b[1;33m\u001b[0m\u001b[0m\n\u001b[0m\u001b[0;32m      4\u001b[0m \u001b[0mprint\u001b[0m \u001b[1;33m(\u001b[0m\u001b[1;34mf\"So {num1} / {num2} = {result}\"\u001b[0m\u001b[1;33m)\u001b[0m\u001b[1;33m\u001b[0m\u001b[1;33m\u001b[0m\u001b[0m\n\u001b[0;32m      5\u001b[0m \u001b[0mprint\u001b[0m \u001b[1;33m(\u001b[0m\u001b[1;34m\"End of the program script...\"\u001b[0m\u001b[1;33m)\u001b[0m\u001b[1;33m\u001b[0m\u001b[1;33m\u001b[0m\u001b[0m\n",
      "\u001b[1;31mZeroDivisionError\u001b[0m: division by zero"
     ]
    }
   ],
   "source": [
    "num1 = int(input(\"Please enter the first number: \"))\n",
    "num2 = int(input(\"Please enter the second number: \"))\n",
    "result = num1 / num2\n",
    "print (f\"So {num1} / {num2} = {result}\")\n",
    "print (\"End of the program script...\")"
   ]
  },
  {
   "cell_type": "code",
   "execution_count": 9,
   "id": "48e0acac-ebe7-42f9-8d69-b4ef79d25dff",
   "metadata": {},
   "outputs": [
    {
     "name": "stdin",
     "output_type": "stream",
     "text": [
      "Please enter the first number:  100\n",
      "Please enter the second number:  4.5\n"
     ]
    },
    {
     "ename": "ValueError",
     "evalue": "invalid literal for int() with base 10: '4.5'",
     "output_type": "error",
     "traceback": [
      "\u001b[1;31m---------------------------------------------------------------------------\u001b[0m",
      "\u001b[1;31mValueError\u001b[0m                                Traceback (most recent call last)",
      "\u001b[1;32m<ipython-input-9-5f0bdba757a5>\u001b[0m in \u001b[0;36m<module>\u001b[1;34m\u001b[0m\n\u001b[0;32m      1\u001b[0m \u001b[1;32mtry\u001b[0m\u001b[1;33m:\u001b[0m\u001b[1;33m\u001b[0m\u001b[1;33m\u001b[0m\u001b[0m\n\u001b[0;32m      2\u001b[0m     \u001b[0mnum1\u001b[0m \u001b[1;33m=\u001b[0m \u001b[0mint\u001b[0m\u001b[1;33m(\u001b[0m\u001b[0minput\u001b[0m\u001b[1;33m(\u001b[0m\u001b[1;34m\"Please enter the first number: \"\u001b[0m\u001b[1;33m)\u001b[0m\u001b[1;33m)\u001b[0m\u001b[1;33m\u001b[0m\u001b[1;33m\u001b[0m\u001b[0m\n\u001b[1;32m----> 3\u001b[1;33m     \u001b[0mnum2\u001b[0m \u001b[1;33m=\u001b[0m \u001b[0mint\u001b[0m\u001b[1;33m(\u001b[0m\u001b[0minput\u001b[0m\u001b[1;33m(\u001b[0m\u001b[1;34m\"Please enter the second number: \"\u001b[0m\u001b[1;33m)\u001b[0m\u001b[1;33m)\u001b[0m\u001b[1;33m\u001b[0m\u001b[1;33m\u001b[0m\u001b[0m\n\u001b[0m\u001b[0;32m      4\u001b[0m     \u001b[0mresult\u001b[0m \u001b[1;33m=\u001b[0m \u001b[0mnum1\u001b[0m \u001b[1;33m/\u001b[0m \u001b[0mnum2\u001b[0m\u001b[1;33m\u001b[0m\u001b[1;33m\u001b[0m\u001b[0m\n\u001b[0;32m      5\u001b[0m     \u001b[0mprint\u001b[0m \u001b[1;33m(\u001b[0m\u001b[1;34mf\"So {num1} / {num2} = {result}\"\u001b[0m\u001b[1;33m)\u001b[0m\u001b[1;33m\u001b[0m\u001b[1;33m\u001b[0m\u001b[0m\n",
      "\u001b[1;31mValueError\u001b[0m: invalid literal for int() with base 10: '4.5'"
     ]
    }
   ],
   "source": [
    "try:\n",
    "    num1 = int(input(\"Please enter the first number: \"))\n",
    "    num2 = int(input(\"Please enter the second number: \"))\n",
    "    result = num1 / num2\n",
    "    print (f\"So {num1} / {num2} = {result}\")\n",
    "except ZeroDivisionError as zde:\n",
    "    print (\"ZeroDivisionError: Division by ZERO is Illegal...\")\n",
    "    print (f\"ZeroDivisionError: Error message is - {zde}\")\n",
    "    print (f\"ZeroDivisionError: Error type is - {type(zde)}\")\n",
    "print (\"End of the program script...\")"
   ]
  },
  {
   "cell_type": "code",
   "execution_count": 13,
   "id": "43e2d97c-0fc7-4488-b7f5-340701976dd3",
   "metadata": {},
   "outputs": [
    {
     "name": "stdin",
     "output_type": "stream",
     "text": [
      "Please enter the first number:  hundred\n"
     ]
    },
    {
     "name": "stdout",
     "output_type": "stream",
     "text": [
      "ValueError: Please enter integer numbers only...\n",
      "ValueError: Error message is - invalid literal for int() with base 10: 'hundred'\n",
      "ValueError: Error type is - <class 'ValueError'>\n",
      "End of the program script...\n"
     ]
    }
   ],
   "source": [
    "try:\n",
    "    num1 = int(input(\"Please enter the first number: \"))\n",
    "    num2 = int(input(\"Please enter the second number: \"))\n",
    "    result = num1 / num2\n",
    "    print (f\"So {num1} / {num2} = {result}\")\n",
    "except ZeroDivisionError as zde:\n",
    "    print (\"ZeroDivisionError: Division by ZERO is Illegal...\")\n",
    "    print (f\"ZeroDivisionError: Error message is - {zde}\")\n",
    "    print (f\"ZeroDivisionError: Error type is - {type(zde)}\")\n",
    "except ValueError as ve:\n",
    "    print (\"ValueError: Please enter integer numbers only...\")\n",
    "    print (f\"ValueError: Error message is - {ve}\")\n",
    "    print (f\"ValueError: Error type is - {type(ve)}\")\n",
    "print (\"End of the program script...\")"
   ]
  },
  {
   "cell_type": "code",
   "execution_count": 15,
   "id": "a9eb7f07-45fb-497e-9d15-e08b4c981972",
   "metadata": {},
   "outputs": [
    {
     "name": "stdin",
     "output_type": "stream",
     "text": [
      "Please enter the first number:  100\n",
      "Please enter the second number:  two\n"
     ]
    },
    {
     "name": "stdout",
     "output_type": "stream",
     "text": [
      "ValueError: Please enter integer numbers only...\n",
      "ValueError: Error message is - invalid literal for int() with base 10: 'two'\n",
      "ValueError: Error type is - <class 'ValueError'>\n",
      "End of the program script...\n"
     ]
    }
   ],
   "source": [
    "try:\n",
    "    num1 = int(input(\"Please enter the first number: \"))\n",
    "    num2 = int(input(\"Please enter the second number: \"))\n",
    "    result = num1 / num2\n",
    "    print (f\"So {num1} / {num2} = {result}\")\n",
    "except ValueError as ve:\n",
    "    print (\"ValueError: Please enter integer numbers only...\")\n",
    "    print (f\"ValueError: Error message is - {ve}\")\n",
    "    print (f\"ValueError: Error type is - {type(ve)}\")\n",
    "except ZeroDivisionError as zde:\n",
    "    print (\"ZeroDivisionError: Division by ZERO is Illegal...\")\n",
    "    print (f\"ZeroDivisionError: Error message is - {zde}\")\n",
    "    print (f\"ZeroDivisionError: Error type is - {type(zde)}\")\n",
    "print (\"End of the program script...\")"
   ]
  },
  {
   "cell_type": "code",
   "execution_count": 23,
   "id": "0455102a-8366-470c-aea3-691aa0c57d2a",
   "metadata": {},
   "outputs": [
    {
     "name": "stdin",
     "output_type": "stream",
     "text": [
      "Please enter the first number:  100\n",
      "Please enter the second number:  0\n"
     ]
    },
    {
     "name": "stdout",
     "output_type": "stream",
     "text": [
      "ZeroDivisionError: Division by ZERO is Illegal...\n",
      "ZeroDivisionError: Error message is - division by zero\n",
      "ZeroDivisionError: Error type is - <class 'ZeroDivisionError'>\n",
      "End of the program script...\n"
     ]
    }
   ],
   "source": [
    "try:\n",
    "    num1 = int(input(\"Please enter the first number: \"))\n",
    "    num2 = int(input(\"Please enter the second number: \"))\n",
    "    result = num1 / num2\n",
    "    print (f\"So {num1} / {num2} = {result}\")\n",
    "except ValueError as ve:\n",
    "    print (\"ValueError: Please enter integer numbers only...\")\n",
    "    print (f\"ValueError: Error message is - {ve}\")\n",
    "    print (f\"ValueError: Error type is - {type(ve)}\")\n",
    "except ZeroDivisionError as zde:\n",
    "    print (\"ZeroDivisionError: Division by ZERO is Illegal...\")\n",
    "    print (f\"ZeroDivisionError: Error message is - {zde}\")\n",
    "    print (f\"ZeroDivisionError: Error type is - {type(zde)}\")\n",
    "except Exception as ex:\n",
    "    print (\"Exception: Some other exception has taken place...\")\n",
    "    print (f\"Exception: Error message is - {ex}\")\n",
    "    print (f\"Exception: Error type is - {type(ex)}\")\n",
    "\n",
    "print (\"End of the program script...\")"
   ]
  },
  {
   "cell_type": "code",
   "execution_count": 30,
   "id": "4b16da58-1a44-4722-814a-dfbc09f74d02",
   "metadata": {
    "tags": []
   },
   "outputs": [
    {
     "name": "stdin",
     "output_type": "stream",
     "text": [
      "Please enter the first number:  100\n",
      "Please enter the second number:  20\n"
     ]
    },
    {
     "name": "stdout",
     "output_type": "stream",
     "text": [
      "So 100 / 20 = 5.0\n",
      "Else: Else block is executing...\n",
      "Else: Else block will execute wheneven there is no Exception...\n",
      "Finally: Finally block is executing... \n",
      "Finally: Finally block executes always...\n",
      "End of the program script...\n"
     ]
    }
   ],
   "source": [
    "try:\n",
    "    num1 = int(input(\"Please enter the first number: \"))\n",
    "    num2 = int(input(\"Please enter the second number: \"))\n",
    "    result = num1 / num2\n",
    "    print (f\"So {num1} / {num2} = {result}\")\n",
    "except ValueError as ve:\n",
    "    print (\"ValueError: Please enter integer numbers only...\")\n",
    "    print (f\"ValueError: Error message is - {ve}\")\n",
    "    print (f\"ValueError: Error type is - {type(ve)}\")\n",
    "except ZeroDivisionError as zde:\n",
    "    print (\"ZeroDivisionError: Division by ZERO is Illegal...\")\n",
    "    print (f\"ZeroDivisionError: Error message is - {zde}\")\n",
    "    print (f\"ZeroDivisionError: Error type is - {type(zde)}\")\n",
    "except Exception as ex:\n",
    "    print (\"Exception: Some other exception has taken place...\")\n",
    "    print (f\"Exception: Error message is - {ex}\")\n",
    "    print (f\"Exception: Error type is - {type(ex)}\")\n",
    "else:\n",
    "    print (\"Else: Else block is executing...\")\n",
    "    print (\"Else: Else block will execute whenever there is no Exception...\")\n",
    "finally:\n",
    "    print (\"Finally: Finally block is executing... \")\n",
    "    print (\"Finally: Finally block executes always...\")\n",
    "print (\"End of the program script...\")"
   ]
  },
  {
   "cell_type": "code",
   "execution_count": 33,
   "id": "312a2b44-e60d-4b0b-a3d0-0d726918a82d",
   "metadata": {
    "tags": []
   },
   "outputs": [
    {
     "name": "stdin",
     "output_type": "stream",
     "text": [
      "Please enter the first number:  -900\n",
      "Please enter the second number:  20\n"
     ]
    },
    {
     "name": "stdout",
     "output_type": "stream",
     "text": [
      "NameError: Input data values are outside of the valid limits...\n",
      "NameError: Error message is - BelowTheRange\n",
      "NameError: Error type is - <class 'NameError'>\n",
      "Please give inputs above -100...\n",
      "Finally: Finally block is executing... \n",
      "Finally: Finally block executes always...\n",
      "End of the program script...\n"
     ]
    }
   ],
   "source": [
    "# user defined exceptions\n",
    "# valid ranges for num1 and num2 will be between -100 to +100\n",
    "try:\n",
    "    num1 = int(input(\"Please enter the first number: \"))\n",
    "    num2 = int(input(\"Please enter the second number: \"))\n",
    "    if (num1 < -100 or num2 < -100):\n",
    "        raise NameError(\"BelowTheRange\")\n",
    "    if (num1 > 100 or num2 > 100):\n",
    "        raise NameError(\"AboveTheRange\")\n",
    "    result = num1 / num2\n",
    "    print (f\"So {num1} / {num2} = {result}\")\n",
    "except ValueError as ve:\n",
    "    print (\"ValueError: Please enter integer numbers only...\")\n",
    "    print (f\"ValueError: Error message is - {ve}\")\n",
    "    print (f\"ValueError: Error type is - {type(ve)}\")\n",
    "except ZeroDivisionError as zde:\n",
    "    print (\"ZeroDivisionError: Division by ZERO is Illegal...\")\n",
    "    print (f\"ZeroDivisionError: Error message is - {zde}\")\n",
    "    print (f\"ZeroDivisionError: Error type is - {type(zde)}\")\n",
    "except NameError as ne:\n",
    "    print (\"NameError: Input data values are outside of the valid limits...\")\n",
    "    print (f\"NameError: Error message is - {ne}\")\n",
    "    print (f\"NameError: Error type is - {type(ne)}\")\n",
    "    if (str(ne) == \"BelowTheRange\"): print (\"Please give inputs above -100...\")\n",
    "    if (str(ne) == \"AboveTheRange\"): print (\"Please give inputs below +100...\")\n",
    "except Exception as ex:\n",
    "    print (\"Exception: Some other exception has taken place...\")\n",
    "    print (f\"Exception: Error message is - {ex}\")\n",
    "    print (f\"Exception: Error type is - {type(ex)}\")\n",
    "else:\n",
    "    print (\"Else: Else block is executing...\")\n",
    "    print (\"Else: Else block will execute whenever there is no Exception...\")\n",
    "finally:\n",
    "    print (\"Finally: Finally block is executing... \")\n",
    "    print (\"Finally: Finally block executes always...\")\n",
    "print (\"End of the program script...\")"
   ]
  },
  {
   "cell_type": "code",
   "execution_count": null,
   "id": "95d49307-821b-4e0c-8061-e36a346968be",
   "metadata": {},
   "outputs": [],
   "source": [
    "# Class Assignment:\n",
    "# Change the above code to make it to perform division operation between two numbers by taking repeatitive \n",
    "# inputs from the user if any exception occurs"
   ]
  },
  {
   "cell_type": "code",
   "execution_count": 35,
   "id": "e4b749a2-42df-4d32-9b55-4390b0da49a5",
   "metadata": {
    "tags": []
   },
   "outputs": [
    {
     "name": "stdin",
     "output_type": "stream",
     "text": [
      "Please enter the first number:  100\n",
      "Please enter the second number:  two\n"
     ]
    },
    {
     "name": "stdout",
     "output_type": "stream",
     "text": [
      "ValueError: Please enter integer numbers only...\n",
      "ValueError: Error message is - invalid literal for int() with base 10: 'two'\n",
      "ValueError: Error type is - <class 'ValueError'>\n",
      "Finally: Finally block is executing... \n",
      "Finally: Finally block executes always...\n"
     ]
    },
    {
     "name": "stdin",
     "output_type": "stream",
     "text": [
      "Please enter the first number:  100\n",
      "Please enter the second number:  0\n"
     ]
    },
    {
     "name": "stdout",
     "output_type": "stream",
     "text": [
      "ZeroDivisionError: Division by ZERO is Illegal...\n",
      "ZeroDivisionError: Error message is - division by zero\n",
      "ZeroDivisionError: Error type is - <class 'ZeroDivisionError'>\n",
      "Finally: Finally block is executing... \n",
      "Finally: Finally block executes always...\n"
     ]
    },
    {
     "name": "stdin",
     "output_type": "stream",
     "text": [
      "Please enter the first number:  -900\n",
      "Please enter the second number:  20\n"
     ]
    },
    {
     "name": "stdout",
     "output_type": "stream",
     "text": [
      "NameError: Input data values are outside of the valid limits...\n",
      "NameError: Error message is - BelowTheRange\n",
      "NameError: Error type is - <class 'NameError'>\n",
      "Please give inputs above -100...\n",
      "Finally: Finally block is executing... \n",
      "Finally: Finally block executes always...\n"
     ]
    },
    {
     "name": "stdin",
     "output_type": "stream",
     "text": [
      "Please enter the first number:  1000\n",
      "Please enter the second number:  20\n"
     ]
    },
    {
     "name": "stdout",
     "output_type": "stream",
     "text": [
      "NameError: Input data values are outside of the valid limits...\n",
      "NameError: Error message is - AboveTheRange\n",
      "NameError: Error type is - <class 'NameError'>\n",
      "Please give inputs below +100...\n",
      "Finally: Finally block is executing... \n",
      "Finally: Finally block executes always...\n"
     ]
    },
    {
     "name": "stdin",
     "output_type": "stream",
     "text": [
      "Please enter the first number:  100\n",
      "Please enter the second number:  40\n"
     ]
    },
    {
     "name": "stdout",
     "output_type": "stream",
     "text": [
      "So 100 / 40 = 2.5\n",
      "Else: Else block is executing...\n",
      "Else: Else block will execute whenever there is no Exception...\n",
      "Finally: Finally block is executing... \n",
      "Finally: Finally block executes always...\n",
      "End of the program script...\n"
     ]
    }
   ],
   "source": [
    "# user defined exceptions\n",
    "# valid ranges for num1 and num2 will be between -100 to +100\n",
    "flag = True\n",
    "while (flag):\n",
    "    try:\n",
    "        num1 = int(input(\"Please enter the first number: \"))\n",
    "        num2 = int(input(\"Please enter the second number: \"))\n",
    "        if (num1 < -100 or num2 < -100):\n",
    "            raise NameError(\"BelowTheRange\")\n",
    "        if (num1 > 100 or num2 > 100):\n",
    "            raise NameError(\"AboveTheRange\")\n",
    "        result = num1 / num2\n",
    "        print (f\"So {num1} / {num2} = {result}\")\n",
    "    except ValueError as ve:\n",
    "        print (\"ValueError: Please enter integer numbers only...\")\n",
    "        print (f\"ValueError: Error message is - {ve}\")\n",
    "        print (f\"ValueError: Error type is - {type(ve)}\")\n",
    "    except ZeroDivisionError as zde:\n",
    "        print (\"ZeroDivisionError: Division by ZERO is Illegal...\")\n",
    "        print (f\"ZeroDivisionError: Error message is - {zde}\")\n",
    "        print (f\"ZeroDivisionError: Error type is - {type(zde)}\")\n",
    "    except NameError as ne:\n",
    "        print (\"NameError: Input data values are outside of the valid limits...\")\n",
    "        print (f\"NameError: Error message is - {ne}\")\n",
    "        print (f\"NameError: Error type is - {type(ne)}\")\n",
    "        if (str(ne) == \"BelowTheRange\"): print (\"Please give inputs above -100...\")\n",
    "        if (str(ne) == \"AboveTheRange\"): print (\"Please give inputs below +100...\")\n",
    "    except Exception as ex:\n",
    "        print (\"Exception: Some other exception has taken place...\")\n",
    "        print (f\"Exception: Error message is - {ex}\")\n",
    "        print (f\"Exception: Error type is - {type(ex)}\")\n",
    "    else:\n",
    "        print (\"Else: Else block is executing...\")\n",
    "        print (\"Else: Else block will execute whenever there is no Exception...\")\n",
    "        flag = False\n",
    "    finally:\n",
    "        print (\"Finally: Finally block is executing... \")\n",
    "        print (\"Finally: Finally block executes always...\")\n",
    "print (\"End of the program script...\")"
   ]
  },
  {
   "cell_type": "code",
   "execution_count": null,
   "id": "e8a5d1cf-9dda-4a16-be99-7324e0bbdf2e",
   "metadata": {},
   "outputs": [],
   "source": []
  },
  {
   "cell_type": "code",
   "execution_count": null,
   "id": "39ead5b9-9061-4293-b5b9-a46e47638399",
   "metadata": {},
   "outputs": [],
   "source": []
  },
  {
   "cell_type": "code",
   "execution_count": null,
   "id": "e9a5df7c-cc63-434a-b346-d7e174a162b6",
   "metadata": {},
   "outputs": [],
   "source": []
  },
  {
   "cell_type": "code",
   "execution_count": null,
   "id": "e207bf54-5df7-402d-90bb-cb412401d84c",
   "metadata": {},
   "outputs": [],
   "source": []
  },
  {
   "cell_type": "code",
   "execution_count": null,
   "id": "90cbd57e-1624-4b73-8f15-1f8cf1d65cef",
   "metadata": {},
   "outputs": [],
   "source": []
  },
  {
   "cell_type": "code",
   "execution_count": null,
   "id": "1e1eddce-9b76-44e5-9b82-c08983c64213",
   "metadata": {},
   "outputs": [],
   "source": []
  },
  {
   "cell_type": "code",
   "execution_count": null,
   "id": "e10e1f1b-977e-4954-b1f0-08cdb6da75d1",
   "metadata": {},
   "outputs": [],
   "source": []
  },
  {
   "cell_type": "code",
   "execution_count": null,
   "id": "17d6f0b2-f6aa-4ba7-9c6d-f263d42cf90e",
   "metadata": {},
   "outputs": [],
   "source": []
  },
  {
   "cell_type": "code",
   "execution_count": null,
   "id": "5b594166-5c9b-4ef3-a414-ab9715a9eb48",
   "metadata": {},
   "outputs": [],
   "source": []
  },
  {
   "cell_type": "code",
   "execution_count": null,
   "id": "ba92e98b-b175-44df-8e2b-dac88ed775ec",
   "metadata": {},
   "outputs": [],
   "source": []
  },
  {
   "cell_type": "code",
   "execution_count": null,
   "id": "8dbad15c-79aa-450b-8541-1fe2d33f0f10",
   "metadata": {},
   "outputs": [],
   "source": []
  },
  {
   "cell_type": "code",
   "execution_count": null,
   "id": "59e4884c-70f7-4442-8b1a-f7ef949b12fd",
   "metadata": {},
   "outputs": [],
   "source": []
  }
 ],
 "metadata": {
  "kernelspec": {
   "display_name": "Python 3",
   "language": "python",
   "name": "python3"
  },
  "language_info": {
   "codemirror_mode": {
    "name": "ipython",
    "version": 3
   },
   "file_extension": ".py",
   "mimetype": "text/x-python",
   "name": "python",
   "nbconvert_exporter": "python",
   "pygments_lexer": "ipython3",
   "version": "3.8.8"
  }
 },
 "nbformat": 4,
 "nbformat_minor": 5
}
