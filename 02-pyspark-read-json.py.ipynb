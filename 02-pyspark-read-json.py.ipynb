{
 "cells": [
  {
   "cell_type": "markdown",
   "metadata": {
    "application/vnd.databricks.v1+cell": {
     "cellMetadata": {},
     "inputWidgets": {},
     "nuid": "71b5d628-d093-40dd-b896-f41fda219221",
     "showTitle": false,
     "title": ""
    }
   },
   "source": [
    "## 02-pyspark-read-json.py"
   ]
  },
  {
   "cell_type": "code",
   "execution_count": null,
   "metadata": {
    "application/vnd.databricks.v1+cell": {
     "cellMetadata": {},
     "inputWidgets": {},
     "nuid": "f00360b8-d098-4a22-90ca-7b7e8630ac2d",
     "showTitle": false,
     "title": ""
    }
   },
   "outputs": [
    {
     "data": {
      "text/plain": [
       "root\n",
       " |-- petalLength: double (nullable = true)\n",
       " |-- petalWidth: double (nullable = true)\n",
       " |-- sepalLength: double (nullable = true)\n",
       " |-- sepalWidth: double (nullable = true)\n",
       " |-- species: string (nullable = true)\n",
       "\n",
       "+-----------+----------+-----------+----------+-------+\n",
       "|petalLength|petalWidth|sepalLength|sepalWidth|species|\n",
       "+-----------+----------+-----------+----------+-------+\n",
       "|        1.4|       0.2|        5.1|       3.5| setosa|\n",
       "|        1.4|       0.2|        4.9|       3.0| setosa|\n",
       "|        1.3|       0.2|        4.7|       3.2| setosa|\n",
       "|        1.5|       0.2|        4.6|       3.1| setosa|\n",
       "|        1.4|       0.2|        5.0|       3.6| setosa|\n",
       "|        1.7|       0.4|        5.4|       3.9| setosa|\n",
       "|        1.4|       0.3|        4.6|       3.4| setosa|\n",
       "|        1.5|       0.2|        5.0|       3.4| setosa|\n",
       "|        1.4|       0.2|        4.4|       2.9| setosa|\n",
       "|        1.5|       0.1|        4.9|       3.1| setosa|\n",
       "|        1.5|       0.2|        5.4|       3.7| setosa|\n",
       "|        1.6|       0.2|        4.8|       3.4| setosa|\n",
       "|        1.4|       0.1|        4.8|       3.0| setosa|\n",
       "|        1.1|       0.1|        4.3|       3.0| setosa|\n",
       "|        1.2|       0.2|        5.8|       4.0| setosa|\n",
       "|        1.5|       0.4|        5.7|       4.4| setosa|\n",
       "|        1.3|       0.4|        5.4|       3.9| setosa|\n",
       "|        1.4|       0.3|        5.1|       3.5| setosa|\n",
       "|        1.7|       0.3|        5.7|       3.8| setosa|\n",
       "|        1.5|       0.3|        5.1|       3.8| setosa|\n",
       "+-----------+----------+-----------+----------+-------+\n",
       "only showing top 20 rows\n",
       "\n",
       "+-------------------+------------+-----+-----------+-------+\n",
       "|               City|RecordNumber|State|ZipCodeType|Zipcode|\n",
       "+-------------------+------------+-----+-----------+-------+\n",
       "|PASEO COSTA DEL SUR|           2|   PR|   STANDARD|    704|\n",
       "|       BDA SAN LUIS|          10|   PR|   STANDARD|    709|\n",
       "+-------------------+------------+-----+-----------+-------+\n",
       "\n"
      ]
     },
     "metadata": {
      "application/vnd.databricks.v1+output": {
       "addedWidgets": {},
       "arguments": {},
       "data": "root\n |-- petalLength: double (nullable = true)\n |-- petalWidth: double (nullable = true)\n |-- sepalLength: double (nullable = true)\n |-- sepalWidth: double (nullable = true)\n |-- species: string (nullable = true)\n\n+-----------+----------+-----------+----------+-------+\n|petalLength|petalWidth|sepalLength|sepalWidth|species|\n+-----------+----------+-----------+----------+-------+\n|        1.4|       0.2|        5.1|       3.5| setosa|\n|        1.4|       0.2|        4.9|       3.0| setosa|\n|        1.3|       0.2|        4.7|       3.2| setosa|\n|        1.5|       0.2|        4.6|       3.1| setosa|\n|        1.4|       0.2|        5.0|       3.6| setosa|\n|        1.7|       0.4|        5.4|       3.9| setosa|\n|        1.4|       0.3|        4.6|       3.4| setosa|\n|        1.5|       0.2|        5.0|       3.4| setosa|\n|        1.4|       0.2|        4.4|       2.9| setosa|\n|        1.5|       0.1|        4.9|       3.1| setosa|\n|        1.5|       0.2|        5.4|       3.7| setosa|\n|        1.6|       0.2|        4.8|       3.4| setosa|\n|        1.4|       0.1|        4.8|       3.0| setosa|\n|        1.1|       0.1|        4.3|       3.0| setosa|\n|        1.2|       0.2|        5.8|       4.0| setosa|\n|        1.5|       0.4|        5.7|       4.4| setosa|\n|        1.3|       0.4|        5.4|       3.9| setosa|\n|        1.4|       0.3|        5.1|       3.5| setosa|\n|        1.7|       0.3|        5.7|       3.8| setosa|\n|        1.5|       0.3|        5.1|       3.8| setosa|\n+-----------+----------+-----------+----------+-------+\nonly showing top 20 rows\n\n+-------------------+------------+-----+-----------+-------+\n|               City|RecordNumber|State|ZipCodeType|Zipcode|\n+-------------------+------------+-----+-----------+-------+\n|PASEO COSTA DEL SUR|           2|   PR|   STANDARD|    704|\n|       BDA SAN LUIS|          10|   PR|   STANDARD|    709|\n+-------------------+------------+-----+-----------+-------+\n\n",
       "datasetInfos": [],
       "metadata": {},
       "removedWidgets": [],
       "type": "ansi"
      }
     },
     "output_type": "display_data"
    }
   ],
   "source": [
    "# pyspark-read-json.py\n",
    "from pyspark.sql import SparkSession\n",
    "from pyspark.sql.types import StructType,StructField, StringType, IntegerType,BooleanType,DoubleType\n",
    "spark = SparkSession.builder \\\n",
    "    .master(\"local[1]\") \\\n",
    "    .appName(\"PySparkExamples\") \\\n",
    "    .getOrCreate()\n",
    "\n",
    "# Read JSON file into dataframe    \n",
    "df = spark.read.json(\"dbfs:/FileStore/tables/iris.json\", multiLine = True)\n",
    "df.printSchema()\n",
    "df.show()\n",
    "\n",
    "# Read multiline json file\n",
    "multiline_df = spark.read.option(\"multiline\", \"true\") \\\n",
    "      .json(\"dbfs:/FileStore/tables/multiline_zipcode.json\")\n",
    "multiline_df.show()"
   ]
  },
  {
   "cell_type": "code",
   "execution_count": null,
   "metadata": {
    "application/vnd.databricks.v1+cell": {
     "cellMetadata": {},
     "inputWidgets": {},
     "nuid": "24b03913-c2a1-4f66-8223-1781d5295668",
     "showTitle": false,
     "title": ""
    }
   },
   "outputs": [
    {
     "data": {
      "text/plain": [
       "+-----------+----------+-----------+----------+----------+\n",
       "|petalLength|petalWidth|sepalLength|sepalWidth|   species|\n",
       "+-----------+----------+-----------+----------+----------+\n",
       "|        4.7|       1.4|        7.0|       3.2|versicolor|\n",
       "|        4.5|       1.5|        6.4|       3.2|versicolor|\n",
       "|        4.9|       1.5|        6.9|       3.1|versicolor|\n",
       "|        4.0|       1.3|        5.5|       2.3|versicolor|\n",
       "|        4.1|       1.4|        5.4|       2.4|versicolor|\n",
       "|        6.0|       2.5|        6.3|       3.3| virginica|\n",
       "|        5.1|       1.9|        5.8|       2.7| virginica|\n",
       "|        5.9|       2.1|        7.1|       3.0| virginica|\n",
       "|        5.6|       1.8|        6.3|       2.9| virginica|\n",
       "|        5.8|       2.2|        6.5|       3.0| virginica|\n",
       "|        1.4|       0.2|        5.1|       3.5|    setosa|\n",
       "|        1.4|       0.2|        4.9|       3.0|    setosa|\n",
       "|        1.3|       0.2|        4.7|       3.2|    setosa|\n",
       "|        1.5|       0.2|        4.6|       3.1|    setosa|\n",
       "|        1.4|       0.2|        5.0|       3.6|    setosa|\n",
       "+-----------+----------+-----------+----------+----------+\n",
       "\n"
      ]
     },
     "metadata": {
      "application/vnd.databricks.v1+output": {
       "addedWidgets": {},
       "arguments": {},
       "data": "+-----------+----------+-----------+----------+----------+\n|petalLength|petalWidth|sepalLength|sepalWidth|   species|\n+-----------+----------+-----------+----------+----------+\n|        4.7|       1.4|        7.0|       3.2|versicolor|\n|        4.5|       1.5|        6.4|       3.2|versicolor|\n|        4.9|       1.5|        6.9|       3.1|versicolor|\n|        4.0|       1.3|        5.5|       2.3|versicolor|\n|        4.1|       1.4|        5.4|       2.4|versicolor|\n|        6.0|       2.5|        6.3|       3.3| virginica|\n|        5.1|       1.9|        5.8|       2.7| virginica|\n|        5.9|       2.1|        7.1|       3.0| virginica|\n|        5.6|       1.8|        6.3|       2.9| virginica|\n|        5.8|       2.2|        6.5|       3.0| virginica|\n|        1.4|       0.2|        5.1|       3.5|    setosa|\n|        1.4|       0.2|        4.9|       3.0|    setosa|\n|        1.3|       0.2|        4.7|       3.2|    setosa|\n|        1.5|       0.2|        4.6|       3.1|    setosa|\n|        1.4|       0.2|        5.0|       3.6|    setosa|\n+-----------+----------+-----------+----------+----------+\n\n",
       "datasetInfos": [],
       "metadata": {},
       "removedWidgets": [],
       "type": "ansi"
      }
     },
     "output_type": "display_data"
    }
   ],
   "source": [
    "#Read multiple files\n",
    "df2 = spark.read.json(\n",
    "    ['dbfs:/FileStore/tables/iris_setosa.json','dbfs:/FileStore/tables/iris_versicolor.json',\n",
    "     'dbfs:/FileStore/tables/iris_virginica.json'],\n",
    "    multiLine = True)\n",
    "df2.show()    "
   ]
  },
  {
   "cell_type": "code",
   "execution_count": null,
   "metadata": {
    "application/vnd.databricks.v1+cell": {
     "cellMetadata": {},
     "inputWidgets": {},
     "nuid": "5930cfcd-42b8-4352-a071-de38cb98e91f",
     "showTitle": false,
     "title": ""
    }
   },
   "outputs": [
    {
     "data": {
      "text/plain": [
       "+-----------+----------+-----------+----------+----------+\n",
       "|petalLength|petalWidth|sepalLength|sepalWidth|   species|\n",
       "+-----------+----------+-----------+----------+----------+\n",
       "|        4.7|       1.4|        7.0|       3.2|versicolor|\n",
       "|        4.5|       1.5|        6.4|       3.2|versicolor|\n",
       "|        4.9|       1.5|        6.9|       3.1|versicolor|\n",
       "|        4.0|       1.3|        5.5|       2.3|versicolor|\n",
       "|        4.1|       1.4|        5.4|       2.4|versicolor|\n",
       "|        6.0|       2.5|        6.3|       3.3| virginica|\n",
       "|        5.1|       1.9|        5.8|       2.7| virginica|\n",
       "|        5.9|       2.1|        7.1|       3.0| virginica|\n",
       "|        5.6|       1.8|        6.3|       2.9| virginica|\n",
       "|        5.8|       2.2|        6.5|       3.0| virginica|\n",
       "|        1.4|       0.2|        5.1|       3.5|    setosa|\n",
       "|        1.4|       0.2|        4.9|       3.0|    setosa|\n",
       "|        1.3|       0.2|        4.7|       3.2|    setosa|\n",
       "|        1.5|       0.2|        4.6|       3.1|    setosa|\n",
       "|        1.4|       0.2|        5.0|       3.6|    setosa|\n",
       "|        4.7|       1.4|        7.0|       3.2|versicolor|\n",
       "|        6.0|       2.5|        6.3|       3.3| virginica|\n",
       "|        1.4|       0.2|        5.1|       3.5|    setosa|\n",
       "+-----------+----------+-----------+----------+----------+\n",
       "\n",
       "+-----------+----------+----------+\n",
       "|petalLength|petalWidth|   species|\n",
       "+-----------+----------+----------+\n",
       "|        4.7|       1.4|versicolor|\n",
       "|        4.5|       1.5|versicolor|\n",
       "|        4.9|       1.5|versicolor|\n",
       "|        4.0|       1.3|versicolor|\n",
       "|        4.1|       1.4|versicolor|\n",
       "|        6.0|       2.5| virginica|\n",
       "|        5.1|       1.9| virginica|\n",
       "|        5.9|       2.1| virginica|\n",
       "|        5.6|       1.8| virginica|\n",
       "|        5.8|       2.2| virginica|\n",
       "|        1.4|       0.2|    setosa|\n",
       "|        1.4|       0.2|    setosa|\n",
       "|        1.3|       0.2|    setosa|\n",
       "|        1.5|       0.2|    setosa|\n",
       "|        1.4|       0.2|    setosa|\n",
       "|        4.7|       1.4|versicolor|\n",
       "|        6.0|       2.5| virginica|\n",
       "|        1.4|       0.2|    setosa|\n",
       "+-----------+----------+----------+\n",
       "\n",
       "+-----------+----------+----------+\n",
       "|petalLength|petalWidth|   species|\n",
       "+-----------+----------+----------+\n",
       "|        4.7|       1.4|versicolor|\n",
       "|        4.5|       1.5|versicolor|\n",
       "|        4.9|       1.5|versicolor|\n",
       "|        4.0|       1.3|versicolor|\n",
       "|        4.1|       1.4|versicolor|\n",
       "|        6.0|       2.5| virginica|\n",
       "|        5.1|       1.9| virginica|\n",
       "|        5.9|       2.1| virginica|\n",
       "|        5.6|       1.8| virginica|\n",
       "|        5.8|       2.2| virginica|\n",
       "|        1.4|       0.2|    setosa|\n",
       "|        1.4|       0.2|    setosa|\n",
       "|        1.3|       0.2|    setosa|\n",
       "|        1.5|       0.2|    setosa|\n",
       "|        1.4|       0.2|    setosa|\n",
       "|        4.7|       1.4|versicolor|\n",
       "|        6.0|       2.5| virginica|\n",
       "|        1.4|       0.2|    setosa|\n",
       "+-----------+----------+----------+\n",
       "\n"
      ]
     },
     "metadata": {
      "application/vnd.databricks.v1+output": {
       "addedWidgets": {},
       "arguments": {},
       "data": "+-----------+----------+-----------+----------+----------+\n|petalLength|petalWidth|sepalLength|sepalWidth|   species|\n+-----------+----------+-----------+----------+----------+\n|        4.7|       1.4|        7.0|       3.2|versicolor|\n|        4.5|       1.5|        6.4|       3.2|versicolor|\n|        4.9|       1.5|        6.9|       3.1|versicolor|\n|        4.0|       1.3|        5.5|       2.3|versicolor|\n|        4.1|       1.4|        5.4|       2.4|versicolor|\n|        6.0|       2.5|        6.3|       3.3| virginica|\n|        5.1|       1.9|        5.8|       2.7| virginica|\n|        5.9|       2.1|        7.1|       3.0| virginica|\n|        5.6|       1.8|        6.3|       2.9| virginica|\n|        5.8|       2.2|        6.5|       3.0| virginica|\n|        1.4|       0.2|        5.1|       3.5|    setosa|\n|        1.4|       0.2|        4.9|       3.0|    setosa|\n|        1.3|       0.2|        4.7|       3.2|    setosa|\n|        1.5|       0.2|        4.6|       3.1|    setosa|\n|        1.4|       0.2|        5.0|       3.6|    setosa|\n|        4.7|       1.4|        7.0|       3.2|versicolor|\n|        6.0|       2.5|        6.3|       3.3| virginica|\n|        1.4|       0.2|        5.1|       3.5|    setosa|\n+-----------+----------+-----------+----------+----------+\n\n+-----------+----------+----------+\n|petalLength|petalWidth|   species|\n+-----------+----------+----------+\n|        4.7|       1.4|versicolor|\n|        4.5|       1.5|versicolor|\n|        4.9|       1.5|versicolor|\n|        4.0|       1.3|versicolor|\n|        4.1|       1.4|versicolor|\n|        6.0|       2.5| virginica|\n|        5.1|       1.9| virginica|\n|        5.9|       2.1| virginica|\n|        5.6|       1.8| virginica|\n|        5.8|       2.2| virginica|\n|        1.4|       0.2|    setosa|\n|        1.4|       0.2|    setosa|\n|        1.3|       0.2|    setosa|\n|        1.5|       0.2|    setosa|\n|        1.4|       0.2|    setosa|\n|        4.7|       1.4|versicolor|\n|        6.0|       2.5| virginica|\n|        1.4|       0.2|    setosa|\n+-----------+----------+----------+\n\n+-----------+----------+----------+\n|petalLength|petalWidth|   species|\n+-----------+----------+----------+\n|        4.7|       1.4|versicolor|\n|        4.5|       1.5|versicolor|\n|        4.9|       1.5|versicolor|\n|        4.0|       1.3|versicolor|\n|        4.1|       1.4|versicolor|\n|        6.0|       2.5| virginica|\n|        5.1|       1.9| virginica|\n|        5.9|       2.1| virginica|\n|        5.6|       1.8| virginica|\n|        5.8|       2.2| virginica|\n|        1.4|       0.2|    setosa|\n|        1.4|       0.2|    setosa|\n|        1.3|       0.2|    setosa|\n|        1.5|       0.2|    setosa|\n|        1.4|       0.2|    setosa|\n|        4.7|       1.4|versicolor|\n|        6.0|       2.5| virginica|\n|        1.4|       0.2|    setosa|\n+-----------+----------+----------+\n\n",
       "datasetInfos": [],
       "metadata": {},
       "removedWidgets": [],
       "type": "ansi"
      }
     },
     "output_type": "display_data"
    }
   ],
   "source": [
    "# Read All JSON files from a directory\n",
    "df3 = spark.read.json(\"dbfs:/FileStore/tables/iris_*.json\", multiLine = True)\n",
    "df3.show()\n",
    "df3.select('petalLength', 'petalWidth', 'species').show()  # Multiple Columns\n",
    "df3.select(['petalLength', 'petalWidth', 'species']).show()"
   ]
  },
  {
   "cell_type": "code",
   "execution_count": null,
   "metadata": {
    "application/vnd.databricks.v1+cell": {
     "cellMetadata": {},
     "inputWidgets": {},
     "nuid": "e76b7d7a-15c9-4140-92e2-bcc65e20df32",
     "showTitle": false,
     "title": ""
    }
   },
   "outputs": [
    {
     "data": {
      "text/plain": [
       "root\n",
       " |-- sepalLength: double (nullable = true)\n",
       " |-- sepalWidth: double (nullable = true)\n",
       " |-- petalLength: double (nullable = true)\n",
       " |-- petalWidth: double (nullable = true)\n",
       " |-- species: string (nullable = true)\n",
       "\n",
       "+-----------+----------+-----------+----------+-------+\n",
       "|sepalLength|sepalWidth|petalLength|petalWidth|species|\n",
       "+-----------+----------+-----------+----------+-------+\n",
       "|        5.1|       3.5|        1.4|       0.2| setosa|\n",
       "|        4.9|       3.0|        1.4|       0.2| setosa|\n",
       "|        4.7|       3.2|        1.3|       0.2| setosa|\n",
       "|        4.6|       3.1|        1.5|       0.2| setosa|\n",
       "|        5.0|       3.6|        1.4|       0.2| setosa|\n",
       "+-----------+----------+-----------+----------+-------+\n",
       "only showing top 5 rows\n",
       "\n"
      ]
     },
     "metadata": {
      "application/vnd.databricks.v1+output": {
       "addedWidgets": {},
       "arguments": {},
       "data": "root\n |-- sepalLength: double (nullable = true)\n |-- sepalWidth: double (nullable = true)\n |-- petalLength: double (nullable = true)\n |-- petalWidth: double (nullable = true)\n |-- species: string (nullable = true)\n\n+-----------+----------+-----------+----------+-------+\n|sepalLength|sepalWidth|petalLength|petalWidth|species|\n+-----------+----------+-----------+----------+-------+\n|        5.1|       3.5|        1.4|       0.2| setosa|\n|        4.9|       3.0|        1.4|       0.2| setosa|\n|        4.7|       3.2|        1.3|       0.2| setosa|\n|        4.6|       3.1|        1.5|       0.2| setosa|\n|        5.0|       3.6|        1.4|       0.2| setosa|\n+-----------+----------+-----------+----------+-------+\nonly showing top 5 rows\n\n",
       "datasetInfos": [],
       "metadata": {},
       "removedWidgets": [],
       "type": "ansi"
      }
     },
     "output_type": "display_data"
    }
   ],
   "source": [
    "# Define custom schema\n",
    "iris_schema = StructType() \\\n",
    "    .add(\"sepalLength\", DoubleType(), True) \\\n",
    "    .add(\"sepalWidth\", DoubleType(), True) \\\n",
    "    .add(\"petalLength\", DoubleType(), True) \\\n",
    "    .add(\"petalWidth\", DoubleType(), True) \\\n",
    "    .add(\"species\", StringType(), True)\n",
    "\n",
    "df_with_schema = spark.read.schema(iris_schema) \\\n",
    "        .json(\"dbfs:/FileStore/tables/iris.json\", multiLine = True)\n",
    "df_with_schema.printSchema()\n",
    "df_with_schema.show(5)"
   ]
  },
  {
   "cell_type": "code",
   "execution_count": null,
   "metadata": {
    "application/vnd.databricks.v1+cell": {
     "cellMetadata": {},
     "inputWidgets": {},
     "nuid": "035eb900-bae1-4aa5-bd1e-839448ca9ff1",
     "showTitle": false,
     "title": ""
    }
   },
   "outputs": [
    {
     "data": {
      "text/plain": [
       "+-----------+----------+-----------+----------+-------+\n",
       "|petalLength|petalWidth|sepalLength|sepalWidth|species|\n",
       "+-----------+----------+-----------+----------+-------+\n",
       "|        1.4|       0.2|        5.1|       3.5| setosa|\n",
       "|        1.4|       0.2|        4.9|       3.0| setosa|\n",
       "|        1.3|       0.2|        4.7|       3.2| setosa|\n",
       "|        1.5|       0.2|        4.6|       3.1| setosa|\n",
       "|        1.4|       0.2|        5.0|       3.6| setosa|\n",
       "+-----------+----------+-----------+----------+-------+\n",
       "\n"
      ]
     },
     "metadata": {
      "application/vnd.databricks.v1+output": {
       "addedWidgets": {},
       "arguments": {},
       "data": "+-----------+----------+-----------+----------+-------+\n|petalLength|petalWidth|sepalLength|sepalWidth|species|\n+-----------+----------+-----------+----------+-------+\n|        1.4|       0.2|        5.1|       3.5| setosa|\n|        1.4|       0.2|        4.9|       3.0| setosa|\n|        1.3|       0.2|        4.7|       3.2| setosa|\n|        1.5|       0.2|        4.6|       3.1| setosa|\n|        1.4|       0.2|        5.0|       3.6| setosa|\n+-----------+----------+-----------+----------+-------+\n\n",
       "datasetInfos": [],
       "metadata": {},
       "removedWidgets": [],
       "type": "ansi"
      }
     },
     "output_type": "display_data"
    }
   ],
   "source": [
    "# Create a table from Parquet File\n",
    "# Parquet is an open source file format built to handle flat columnar storage data formats.\n",
    "# Parquet operates well with complex data in large volumes.It is known for its both performant\n",
    "# data compression and its ability to handle a wide variety of encoding types.\n",
    "spark.sql(\"CREATE OR REPLACE TEMPORARY VIEW iris_setosa_parquet USING json OPTIONS\" + \n",
    "      \" (path 'dbfs:/FileStore/tables/iris_setosa.json', multiLine = True)\")\n",
    "spark.sql(\"select * from iris_setosa_parquet\").show()"
   ]
  },
  {
   "cell_type": "code",
   "execution_count": null,
   "metadata": {
    "application/vnd.databricks.v1+cell": {
     "cellMetadata": {},
     "inputWidgets": {},
     "nuid": "f815e837-05cc-4bd7-970b-dbd7044d8a61",
     "showTitle": false,
     "title": ""
    }
   },
   "outputs": [],
   "source": [
    "# PySpark write Parquet File\n",
    "df2.write.mode('Overwrite').json(\"dbfs:/FileStore/tables/iris_writezipcodes.json\")\n",
    "# Folder containing part files will be created at dbfs:/FileStore/tables/iris_writezipcodes.json"
   ]
  },
  {
   "cell_type": "markdown",
   "metadata": {
    "application/vnd.databricks.v1+cell": {
     "cellMetadata": {},
     "inputWidgets": {},
     "nuid": "76be3700-c9cf-4602-8bb1-e333b0fff027",
     "showTitle": false,
     "title": ""
    }
   },
   "source": [
    "### Data Bricks File System (DBFS) commands:\n",
    "**To list filesystem**<br>\n",
    "%fs ls<br>\n",
    "%fs ls dbfs:/FileStore/tables<br>\n",
    "\n",
    "**To rename a file**<br>\n",
    "%fs mv dbfs:/FileStore/tables/old_file_name dbfs:/FileStore/tables/new_file_name\n",
    "\n",
    "**To delete a file from DBFS**<br>\n",
    "dbutils.fs.rm(\"dbfs:/FileStore/tables/your_file_name\")<br>\n",
    "%fs rm dbfs:/FileStore/tables/your_file_name\n",
    "\n",
    "**To delete a folder from DBFS**<br>\n",
    "%fs rm -r dbfs:/FileStore/tables/your_folder_name\n",
    "\n",
    "**to copy a file in DBFS**<br>\n",
    "%fs cp dbfs:/FileStore/tables/old_file_name dbfs:/FileStore/tables/new_file_name\n",
    "\n",
    "**To move a file to another folder in DBFS**<br>\n",
    "%fs mv dbfs:/FileStore/tables/old_file_name dbfs:/FileStore/tables/target_folder\n",
    "\n",
    "**To create a folder in DBFS**<br>\n",
    "%fs mkdirs dbfs:/FileStore/tables/mydir"
   ]
  }
 ],
 "metadata": {
  "application/vnd.databricks.v1+notebook": {
   "dashboards": [],
   "language": "python",
   "notebookMetadata": {
    "mostRecentlyExecutedCommandWithImplicitDF": {
     "commandId": 4135486000660540,
     "dataframes": [
      "_sqldf"
     ]
    },
    "pythonIndentUnit": 4
   },
   "notebookName": "02-pyspark-read-json.py",
   "notebookOrigID": 723529210337510,
   "widgets": {}
  },
  "kernelspec": {
   "display_name": "Python 3",
   "language": "python",
   "name": "python3"
  },
  "language_info": {
   "codemirror_mode": {
    "name": "ipython",
    "version": 3
   },
   "file_extension": ".py",
   "mimetype": "text/x-python",
   "name": "python",
   "nbconvert_exporter": "python",
   "pygments_lexer": "ipython3",
   "version": "3.8.8"
  }
 },
 "nbformat": 4,
 "nbformat_minor": 4
}
