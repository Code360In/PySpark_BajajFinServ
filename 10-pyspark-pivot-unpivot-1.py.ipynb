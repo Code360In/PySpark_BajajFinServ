{
 "cells": [
  {
   "cell_type": "markdown",
   "metadata": {
    "application/vnd.databricks.v1+cell": {
     "cellMetadata": {},
     "inputWidgets": {},
     "nuid": "96d00bb6-29e6-4bdc-8cc7-b33aef57d74f",
     "showTitle": false,
     "title": ""
    }
   },
   "source": [
    "## 10-pyspark-pivot-unpivot-1.py"
   ]
  },
  {
   "cell_type": "code",
   "execution_count": 0,
   "metadata": {
    "application/vnd.databricks.v1+cell": {
     "cellMetadata": {},
     "inputWidgets": {},
     "nuid": "d25d6ae5-f314-478f-b8ad-afa2c25dbeab",
     "showTitle": false,
     "title": ""
    }
   },
   "outputs": [],
   "source": [
    "# 10-pyspark-pivot-unpivot-1.py\n",
    "from pyspark.sql import SparkSession\n",
    "from pyspark.sql.functions import expr\n",
    "spark = SparkSession.builder.appName('PySparkExamples').getOrCreate()"
   ]
  },
  {
   "cell_type": "code",
   "execution_count": 0,
   "metadata": {
    "application/vnd.databricks.v1+cell": {
     "cellMetadata": {},
     "inputWidgets": {},
     "nuid": "df25989c-e9a6-48fd-b43c-181b0cdcdfd3",
     "showTitle": false,
     "title": ""
    }
   },
   "outputs": [
    {
     "data": {
      "text/plain": [
       "root\n",
       " |-- Company: string (nullable = true)\n",
       " |-- Branch: string (nullable = true)\n",
       " |-- Person: string (nullable = true)\n",
       " |-- Qty: integer (nullable = true)\n",
       " |-- Sales: integer (nullable = true)\n",
       "\n",
       "DataFrame columns are: ['Company', 'Branch', 'Person', 'Qty', 'Sales'] with column count: 5 and with row count: 12\n",
       "[Row(Company='GOOG', Branch='NY', Person='Sam', Qty=1000, Sales=200), Row(Company='GOOG', Branch='NY', Person='Charlie', Qty=4000, Sales=120)]\n",
       "+-------+------+-------+----+-----+\n",
       "|Company|Branch| Person| Qty|Sales|\n",
       "+-------+------+-------+----+-----+\n",
       "|   GOOG|    NY|    Sam|1000|  200|\n",
       "|   GOOG|    NY|Charlie|4000|  120|\n",
       "|   GOOG|    CA|  Frank|6000|  340|\n",
       "|   MSFT|    CA|   Tina|7000|  600|\n",
       "|   MSFT|    NY|    Amy|2000|  124|\n",
       "|   MSFT|    CA|Vanessa|2500|  243|\n",
       "|     FB|    CA|   Carl|9000|  870|\n",
       "|     FB|    NY|  Sarah|3050|  350|\n",
       "|   APPL|    CA|   John|7000|  250|\n",
       "|   APPL|    NY|  Linda|9500|  130|\n",
       "|   APPL|    NY|   Mike|1000|  750|\n",
       "|   APPL|    CA|  Chris|7600|  350|\n",
       "+-------+------+-------+----+-----+\n",
       "\n"
      ]
     },
     "metadata": {
      "application/vnd.databricks.v1+output": {
       "addedWidgets": {},
       "arguments": {},
       "data": "root\n |-- Company: string (nullable = true)\n |-- Branch: string (nullable = true)\n |-- Person: string (nullable = true)\n |-- Qty: integer (nullable = true)\n |-- Sales: integer (nullable = true)\n\nDataFrame columns are: ['Company', 'Branch', 'Person', 'Qty', 'Sales'] with column count: 5 and with row count: 12\n[Row(Company='GOOG', Branch='NY', Person='Sam', Qty=1000, Sales=200), Row(Company='GOOG', Branch='NY', Person='Charlie', Qty=4000, Sales=120)]\n+-------+------+-------+----+-----+\n|Company|Branch| Person| Qty|Sales|\n+-------+------+-------+----+-----+\n|   GOOG|    NY|    Sam|1000|  200|\n|   GOOG|    NY|Charlie|4000|  120|\n|   GOOG|    CA|  Frank|6000|  340|\n|   MSFT|    CA|   Tina|7000|  600|\n|   MSFT|    NY|    Amy|2000|  124|\n|   MSFT|    CA|Vanessa|2500|  243|\n|     FB|    CA|   Carl|9000|  870|\n|     FB|    NY|  Sarah|3050|  350|\n|   APPL|    CA|   John|7000|  250|\n|   APPL|    NY|  Linda|9500|  130|\n|   APPL|    NY|   Mike|1000|  750|\n|   APPL|    CA|  Chris|7600|  350|\n+-------+------+-------+----+-----+\n\n",
       "datasetInfos": [],
       "metadata": {},
       "removedWidgets": [],
       "type": "ansi"
      }
     },
     "output_type": "display_data"
    }
   ],
   "source": [
    "# Let Spark know about the header and infer the Schema types! \n",
    "# Infer scehma could be done with .csv file not with .json files\n",
    "df = spark.read.csv('dbfs:/FileStore/tables/sales_info.csv', inferSchema = True, header = True)\n",
    "df.printSchema()\n",
    "print(\"DataFrame columns are:\", df.columns, \"with column count:\", len(df.columns), \"and with row count:\", df.count())\n",
    "print(df.head(2))\n",
    "df.show()"
   ]
  },
  {
   "cell_type": "code",
   "execution_count": 0,
   "metadata": {
    "application/vnd.databricks.v1+cell": {
     "cellMetadata": {},
     "inputWidgets": {},
     "nuid": "315ec1c4-77ff-4022-a085-f98b482ee978",
     "showTitle": false,
     "title": ""
    }
   },
   "outputs": [
    {
     "data": {
      "text/plain": [
       "root\n",
       " |-- Company: string (nullable = true)\n",
       " |-- CA: long (nullable = true)\n",
       " |-- NY: long (nullable = true)\n",
       "\n",
       "+-------+---+---+\n",
       "|Company|CA |NY |\n",
       "+-------+---+---+\n",
       "|APPL   |600|880|\n",
       "|GOOG   |340|320|\n",
       "|FB     |870|350|\n",
       "|MSFT   |843|124|\n",
       "+-------+---+---+\n",
       "\n"
      ]
     },
     "metadata": {
      "application/vnd.databricks.v1+output": {
       "addedWidgets": {},
       "arguments": {},
       "data": "root\n |-- Company: string (nullable = true)\n |-- CA: long (nullable = true)\n |-- NY: long (nullable = true)\n\n+-------+---+---+\n|Company|CA |NY |\n+-------+---+---+\n|APPL   |600|880|\n|GOOG   |340|320|\n|FB     |870|350|\n|MSFT   |843|124|\n+-------+---+---+\n\n",
       "datasetInfos": [],
       "metadata": {},
       "removedWidgets": [],
       "type": "ansi"
      }
     },
     "output_type": "display_data"
    }
   ],
   "source": [
    "# Performing pivot operation\n",
    "pivotDF = df.groupBy(\"Company\").pivot(\"Branch\").sum(\"Sales\")\n",
    "pivotDF.printSchema()\n",
    "pivotDF.show(truncate = False)"
   ]
  },
  {
   "cell_type": "code",
   "execution_count": 0,
   "metadata": {
    "application/vnd.databricks.v1+cell": {
     "cellMetadata": {},
     "inputWidgets": {},
     "nuid": "71f82a62-5ff7-4c70-8282-712e311361d9",
     "showTitle": false,
     "title": ""
    }
   },
   "outputs": [
    {
     "data": {
      "text/plain": [
       "root\n",
       " |-- Company: string (nullable = true)\n",
       " |-- CA: long (nullable = true)\n",
       " |-- NY: long (nullable = true)\n",
       "\n",
       "+-------+---+---+\n",
       "|Company|CA |NY |\n",
       "+-------+---+---+\n",
       "|APPL   |600|880|\n",
       "|GOOG   |340|320|\n",
       "|FB     |870|350|\n",
       "|MSFT   |843|124|\n",
       "+-------+---+---+\n",
       "\n"
      ]
     },
     "metadata": {
      "application/vnd.databricks.v1+output": {
       "addedWidgets": {},
       "arguments": {},
       "data": "root\n |-- Company: string (nullable = true)\n |-- CA: long (nullable = true)\n |-- NY: long (nullable = true)\n\n+-------+---+---+\n|Company|CA |NY |\n+-------+---+---+\n|APPL   |600|880|\n|GOOG   |340|320|\n|FB     |870|350|\n|MSFT   |843|124|\n+-------+---+---+\n\n",
       "datasetInfos": [],
       "metadata": {},
       "removedWidgets": [],
       "type": "ansi"
      }
     },
     "output_type": "display_data"
    }
   ],
   "source": [
    "# Performing pivot operation\n",
    "pivotDF = df.groupBy(\"Company\",\"Branch\") \\\n",
    "            .sum(\"Sales\") \\\n",
    "            .groupBy(\"Company\") \\\n",
    "            .pivot(\"Branch\") \\\n",
    "            .sum(\"sum(Sales)\")\n",
    "pivotDF.printSchema()\n",
    "pivotDF.show(truncate = False)"
   ]
  },
  {
   "cell_type": "code",
   "execution_count": 0,
   "metadata": {
    "application/vnd.databricks.v1+cell": {
     "cellMetadata": {},
     "inputWidgets": {},
     "nuid": "2b774767-7afa-4292-97c5-5fa1f31027ea",
     "showTitle": false,
     "title": ""
    }
   },
   "outputs": [
    {
     "data": {
      "text/plain": [
       "+-------+----------+-----+\n",
       "|Company|Branch    |Total|\n",
       "+-------+----------+-----+\n",
       "|APPL   |California|600  |\n",
       "|APPL   |New York  |880  |\n",
       "|GOOG   |California|340  |\n",
       "|GOOG   |New York  |320  |\n",
       "|FB     |California|870  |\n",
       "|FB     |New York  |350  |\n",
       "|MSFT   |California|843  |\n",
       "|MSFT   |New York  |124  |\n",
       "+-------+----------+-----+\n",
       "\n"
      ]
     },
     "metadata": {
      "application/vnd.databricks.v1+output": {
       "addedWidgets": {},
       "arguments": {},
       "data": "+-------+----------+-----+\n|Company|Branch    |Total|\n+-------+----------+-----+\n|APPL   |California|600  |\n|APPL   |New York  |880  |\n|GOOG   |California|340  |\n|GOOG   |New York  |320  |\n|FB     |California|870  |\n|FB     |New York  |350  |\n|MSFT   |California|843  |\n|MSFT   |New York  |124  |\n+-------+----------+-----+\n\n",
       "datasetInfos": [],
       "metadata": {},
       "removedWidgets": [],
       "type": "ansi"
      }
     },
     "output_type": "display_data"
    }
   ],
   "source": [
    "# Performing unpivot operation\n",
    "unpivotExpr = \"stack(2, 'California', CA, 'New York', NY) as (Branch, Total)\"\n",
    "unPivotDF = pivotDF.select(\"Company\", expr(unpivotExpr)) \\\n",
    "            .where(\"Total is not null\")\n",
    "unPivotDF.show(truncate=False)"
   ]
  }
 ],
 "metadata": {
  "application/vnd.databricks.v1+notebook": {
   "dashboards": [],
   "language": "python",
   "notebookMetadata": {
    "pythonIndentUnit": 4
   },
   "notebookName": "10-pyspark-pivot-unpivot-1.py",
   "notebookOrigID": 3155827980721107,
   "widgets": {}
  },
  "kernelspec": {
   "display_name": "Python 3",
   "language": "python",
   "name": "python3"
  },
  "language_info": {
   "codemirror_mode": {
    "name": "ipython",
    "version": 3
   },
   "file_extension": ".py",
   "mimetype": "text/x-python",
   "name": "python",
   "nbconvert_exporter": "python",
   "pygments_lexer": "ipython3",
   "version": "3.8.8"
  }
 },
 "nbformat": 4,
 "nbformat_minor": 1
}
