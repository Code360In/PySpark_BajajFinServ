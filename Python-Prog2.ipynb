{
 "cells": [
  {
   "cell_type": "markdown",
   "id": "5c9bc673-431b-4439-bac5-09f4e41ab9e2",
   "metadata": {},
   "source": [
    "#### Dealing with inbuilt Modules"
   ]
  },
  {
   "cell_type": "code",
   "execution_count": 14,
   "id": "6655ad9a-8b9e-4cab-a8a8-6fb512587180",
   "metadata": {},
   "outputs": [
    {
     "name": "stdout",
     "output_type": "stream",
     "text": [
      "0.0 1.0 0.0\n",
      "10.0 10.0 10.0\n",
      "6.931471805599453 3.0102999566398116 10.0\n",
      "3.010299956639812 10.0\n",
      "3.141592653589793 2.718281828459045 6.283185307179586\n",
      "22.360679774997898\n",
      "20 420.0\n",
      "720 5040\n",
      "10.4 10.4\n"
     ]
    }
   ],
   "source": [
    "import math\n",
    "print (math.sin(0), math.cos(0), math.tan(0))\n",
    "print (math.sqrt(100), 100 ** 0.5, math.pow(100, 0.5))\n",
    "print (math.log(1024), math.log(1024, 10), math.log(1024, 2))\n",
    "print (math.log10(1024), math.log2(1024))\n",
    "# constants in math module\n",
    "print (math.pi, math.e, math.tau)\n",
    "print (math.dist([10, 20], [20, 40]))\n",
    "print (math.gcd(140, 60), 140 * 60 / math.gcd(140, 60))\n",
    "print (math.factorial(6), math.factorial(7))\n",
    "print (abs(-10.4), abs(10.4))"
   ]
  },
  {
   "cell_type": "code",
   "execution_count": 16,
   "id": "d0254f9c-dc72-4c38-a9b3-75495621f13d",
   "metadata": {},
   "outputs": [
    {
     "name": "stdout",
     "output_type": "stream",
     "text": [
      "Help on built-in function pow in module math:\n",
      "\n",
      "pow(x, y, /)\n",
      "    Return x**y (x to the power of y).\n",
      "\n"
     ]
    }
   ],
   "source": [
    "help(math.pow)"
   ]
  },
  {
   "cell_type": "code",
   "execution_count": null,
   "id": "5c7ce88f-a414-4d6e-bd8d-b3c147325fdb",
   "metadata": {},
   "outputs": [],
   "source": [
    "help(math)"
   ]
  },
  {
   "cell_type": "code",
   "execution_count": 19,
   "id": "742dca52-3b1e-40f2-bc60-1e418ba48189",
   "metadata": {},
   "outputs": [
    {
     "name": "stdout",
     "output_type": "stream",
     "text": [
      "                                  2023\n",
      "\n",
      "      January                   February                   March\n",
      "Mo Tu We Th Fr Sa Su      Mo Tu We Th Fr Sa Su      Mo Tu We Th Fr Sa Su\n",
      "                   1             1  2  3  4  5             1  2  3  4  5\n",
      " 2  3  4  5  6  7  8       6  7  8  9 10 11 12       6  7  8  9 10 11 12\n",
      " 9 10 11 12 13 14 15      13 14 15 16 17 18 19      13 14 15 16 17 18 19\n",
      "16 17 18 19 20 21 22      20 21 22 23 24 25 26      20 21 22 23 24 25 26\n",
      "23 24 25 26 27 28 29      27 28                     27 28 29 30 31\n",
      "30 31\n",
      "\n",
      "       April                      May                       June\n",
      "Mo Tu We Th Fr Sa Su      Mo Tu We Th Fr Sa Su      Mo Tu We Th Fr Sa Su\n",
      "                1  2       1  2  3  4  5  6  7                1  2  3  4\n",
      " 3  4  5  6  7  8  9       8  9 10 11 12 13 14       5  6  7  8  9 10 11\n",
      "10 11 12 13 14 15 16      15 16 17 18 19 20 21      12 13 14 15 16 17 18\n",
      "17 18 19 20 21 22 23      22 23 24 25 26 27 28      19 20 21 22 23 24 25\n",
      "24 25 26 27 28 29 30      29 30 31                  26 27 28 29 30\n",
      "\n",
      "        July                     August                  September\n",
      "Mo Tu We Th Fr Sa Su      Mo Tu We Th Fr Sa Su      Mo Tu We Th Fr Sa Su\n",
      "                1  2          1  2  3  4  5  6                   1  2  3\n",
      " 3  4  5  6  7  8  9       7  8  9 10 11 12 13       4  5  6  7  8  9 10\n",
      "10 11 12 13 14 15 16      14 15 16 17 18 19 20      11 12 13 14 15 16 17\n",
      "17 18 19 20 21 22 23      21 22 23 24 25 26 27      18 19 20 21 22 23 24\n",
      "24 25 26 27 28 29 30      28 29 30 31               25 26 27 28 29 30\n",
      "31\n",
      "\n",
      "      October                   November                  December\n",
      "Mo Tu We Th Fr Sa Su      Mo Tu We Th Fr Sa Su      Mo Tu We Th Fr Sa Su\n",
      "                   1             1  2  3  4  5                   1  2  3\n",
      " 2  3  4  5  6  7  8       6  7  8  9 10 11 12       4  5  6  7  8  9 10\n",
      " 9 10 11 12 13 14 15      13 14 15 16 17 18 19      11 12 13 14 15 16 17\n",
      "16 17 18 19 20 21 22      20 21 22 23 24 25 26      18 19 20 21 22 23 24\n",
      "23 24 25 26 27 28 29      27 28 29 30               25 26 27 28 29 30 31\n",
      "30 31\n"
     ]
    }
   ],
   "source": [
    "import calendar\n",
    "calendar.prcal(2023)"
   ]
  },
  {
   "cell_type": "code",
   "execution_count": 22,
   "id": "ec281587-eab2-4ecc-86e0-821f44ed554d",
   "metadata": {},
   "outputs": [
    {
     "name": "stdout",
     "output_type": "stream",
     "text": [
      "<class 'method'>\n"
     ]
    }
   ],
   "source": [
    "print (type(calendar.prcal))"
   ]
  },
  {
   "cell_type": "code",
   "execution_count": 28,
   "id": "9f656698-a521-44ff-89e4-a89561e6b7d5",
   "metadata": {},
   "outputs": [
    {
     "name": "stdout",
     "output_type": "stream",
     "text": [
      "Even\n",
      "Even\n",
      "\n",
      "Odd\n",
      "Odd\n"
     ]
    }
   ],
   "source": [
    "import numpy as np\n",
    "num1=100\n",
    "print (np.where(num1 % 2 == 0, \"Even\", \"Odd\"))\n",
    "print (\"Even\" if (num1 % 2 == 0) else \"Odd\")\n",
    "print ()\n",
    "num1 = 101\n",
    "print (np.where(num1 % 2 == 0, \"Even\", \"Odd\"))\n",
    "print (\"Even\" if (num1 % 2 == 0) else \"Odd\")"
   ]
  },
  {
   "cell_type": "markdown",
   "id": "296da8ea-da7e-44da-9bcf-d9219db8321f",
   "metadata": {},
   "source": [
    "#### String Processing"
   ]
  },
  {
   "cell_type": "code",
   "execution_count": 29,
   "id": "943ffdbe-939c-487b-8f0f-ed42afb82ae3",
   "metadata": {},
   "outputs": [
    {
     "name": "stdout",
     "output_type": "stream",
     "text": [
      "university 10 <class 'str'> 2400924420336\n"
     ]
    }
   ],
   "source": [
    "# string consists of alpha-numeric characters and special characters\n",
    "mystr = \"university\"\n",
    "print (mystr, len(mystr), type(mystr), id(mystr))"
   ]
  },
  {
   "cell_type": "code",
   "execution_count": null,
   "id": "d14ac142-2d67-47da-8391-9e2ef4f24d9c",
   "metadata": {},
   "outputs": [],
   "source": [
    "# dealing with the string processing\n",
    "Left to right ->   0  1  2  3  4  5  6  7  8  9\n",
    "          str ->   u  n  i  v  e  r  s  i  t  y\n",
    "Right to Left -> -10 -9 -8 -7 -6 -5 -4 -3 -2 -1"
   ]
  },
  {
   "cell_type": "code",
   "execution_count": 42,
   "id": "11d7557a-fc19-488e-9fff-595aa4784fc0",
   "metadata": {},
   "outputs": [
    {
     "name": "stdout",
     "output_type": "stream",
     "text": [
      "s s y y\n",
      "niversi niversi niversi niversi\n",
      "sity sity univer univer\n",
      "uiest nvriy tseiu yirvn\n",
      "ytisrevinu\n",
      "ver ver ver ver\n"
     ]
    }
   ],
   "source": [
    "# string indexing and slicing\n",
    "mystr = \"university\"\n",
    "print (mystr[6], mystr[-4], mystr[9], mystr[-1])\n",
    "print (mystr[1:8], mystr[1:-2], mystr[-9:8], mystr[-9:-2])\n",
    "print (mystr[6:], mystr[-4:], mystr[:6], mystr[:-4])\n",
    "print (mystr[::2], mystr[1::2], mystr[8::-2], mystr[9::-2])\n",
    "print (mystr[::-1])\n",
    "print (mystr[3:6], mystr[-7:-4], mystr[3:-4], mystr[-7:6])"
   ]
  },
  {
   "cell_type": "code",
   "execution_count": 43,
   "id": "39b16bdf-1beb-4214-9bce-dbeb767d00e8",
   "metadata": {},
   "outputs": [
    {
     "name": "stdout",
     "output_type": "stream",
     "text": [
      "kIIt uniVersiTY 15 <class 'str'> 2400918823472\n",
      "KIIT UNIVERSITY\n",
      "kiit university\n",
      "Kiit University\n",
      "Kiit university\n",
      "KiiT UNIvERSIty\n",
      "            kIIt uniVersiTY             \n",
      "            KIIT UNIVERSITY             \n"
     ]
    }
   ],
   "source": [
    "mystr = \"kIIt uniVersiTY\"\n",
    "print (mystr, len(mystr), type(mystr), id(mystr))\n",
    "print (mystr.upper())\n",
    "print (mystr.lower())\n",
    "print (mystr.title())\n",
    "print (mystr.capitalize())\n",
    "print (mystr.swapcase())\n",
    "print (mystr.center(40))\n",
    "print (mystr.upper().center(40))"
   ]
  },
  {
   "cell_type": "code",
   "execution_count": 48,
   "id": "48cb54d0-bb01-43e6-8169-ae11cd6a19fd",
   "metadata": {},
   "outputs": [
    {
     "name": "stdout",
     "output_type": "stream",
     "text": [
      "abcdxyz 7 2400923042864 <class 'str'>\n",
      "False True True False\n",
      "abcd123 7 2400923044528 <class 'str'>\n",
      "False False True\n",
      "1234567 7 2400919769264 <class 'str'>\n",
      "True False True\n",
      "abcd@123 8 2400919769136 <class 'str'>\n",
      "False False False\n"
     ]
    }
   ],
   "source": [
    "mystr = \"abcdxyz\"\n",
    "print (mystr, len(mystr), id(mystr), type(mystr))\n",
    "print (mystr.isnumeric(), mystr.isalpha(), mystr.isalnum(), mystr.isdigit())\n",
    "\n",
    "mystr = \"abcd123\"\n",
    "print (mystr, len(mystr), id(mystr), type(mystr))\n",
    "print (mystr.isnumeric(), mystr.isalpha(), mystr.isalnum())\n",
    "\n",
    "mystr = \"1234567\"\n",
    "print (mystr, len(mystr), id(mystr), type(mystr))\n",
    "print (mystr.isnumeric(), mystr.isalpha(), mystr.isalnum())\n",
    "\n",
    "mystr = \"abcd@123\"\n",
    "print (mystr, len(mystr), id(mystr), type(mystr))\n",
    "print (mystr.isnumeric(), mystr.isalpha(), mystr.isalnum())"
   ]
  },
  {
   "cell_type": "code",
   "execution_count": 93,
   "id": "4781b05d-2bf5-43a9-9a2e-af86ec92d914",
   "metadata": {},
   "outputs": [
    {
     "name": "stdout",
     "output_type": "stream",
     "text": [
      "False False\n",
      "True True\n",
      "False False\n",
      "True False\n",
      "False False\n",
      "True\n",
      "False\n"
     ]
    }
   ],
   "source": [
    "mystr = \"10.25\"\n",
    "print (mystr.isnumeric(), mystr.isdigit())\n",
    "mystr = \"1025\"\n",
    "print (mystr.isnumeric(), mystr.isdigit())\n",
    "mystr = \"abcd\"\n",
    "print (mystr.isnumeric(), mystr.isdigit())\n",
    "mystr = \"四\"\n",
    "print (mystr.isnumeric(), mystr.isdigit())\n",
    "mystr = \"चार\"\n",
    "print (mystr.isnumeric(), mystr.isdigit())\n",
    "mystr = \"    \"\n",
    "print (mystr.isspace())\n",
    "mystr = \"   g \"\n",
    "print (mystr.isspace())\n",
    "# isdecimal() subset of isdigit() subset of isnumeric()"
   ]
  },
  {
   "cell_type": "code",
   "execution_count": 58,
   "id": "04ea574a-6e23-4e8e-8c0a-120c7bcb19f7",
   "metadata": {},
   "outputs": [
    {
     "name": "stdout",
     "output_type": "stream",
     "text": [
      "Good night\n",
      "Good morning\n",
      "Good morning\n"
     ]
    }
   ],
   "source": [
    "mystr = \"Good morning\"\n",
    "print (mystr.replace(\"morning\", \"night\"))\n",
    "print (mystr.replace(\"evening\", \"night\"))\n",
    "print (mystr)"
   ]
  },
  {
   "cell_type": "code",
   "execution_count": 64,
   "id": "233640f7-c44f-4ed8-842f-e69ea5a8ba2c",
   "metadata": {},
   "outputs": [
    {
     "name": "stdout",
     "output_type": "stream",
     "text": [
      "Charity begins at home 22\n",
      "4\n",
      "4\n",
      "11\n",
      "-1\n"
     ]
    }
   ],
   "source": [
    "mystr = \"Charity begins at home\"\n",
    "print (mystr, len(mystr))\n",
    "print (mystr.find(\"i\"))\n",
    "print (mystr.find(\"i\", 2))\n",
    "print (mystr.find(\"i\", 6))\n",
    "print (mystr.find(\"i\", 12))"
   ]
  },
  {
   "cell_type": "code",
   "execution_count": 65,
   "id": "02861b2b-6a96-4f0a-8022-473d009f0e51",
   "metadata": {},
   "outputs": [
    {
     "name": "stdout",
     "output_type": "stream",
     "text": [
      "Charity begins at home 22\n",
      "4\n",
      "4\n",
      "11\n"
     ]
    },
    {
     "ename": "ValueError",
     "evalue": "substring not found",
     "output_type": "error",
     "traceback": [
      "\u001b[1;31m---------------------------------------------------------------------------\u001b[0m",
      "\u001b[1;31mValueError\u001b[0m                                Traceback (most recent call last)",
      "\u001b[1;32m<ipython-input-65-c465a7d8268d>\u001b[0m in \u001b[0;36m<module>\u001b[1;34m\u001b[0m\n\u001b[0;32m      4\u001b[0m \u001b[0mprint\u001b[0m \u001b[1;33m(\u001b[0m\u001b[0mmystr\u001b[0m\u001b[1;33m.\u001b[0m\u001b[0mindex\u001b[0m\u001b[1;33m(\u001b[0m\u001b[1;34m\"i\"\u001b[0m\u001b[1;33m,\u001b[0m \u001b[1;36m2\u001b[0m\u001b[1;33m)\u001b[0m\u001b[1;33m)\u001b[0m\u001b[1;33m\u001b[0m\u001b[1;33m\u001b[0m\u001b[0m\n\u001b[0;32m      5\u001b[0m \u001b[0mprint\u001b[0m \u001b[1;33m(\u001b[0m\u001b[0mmystr\u001b[0m\u001b[1;33m.\u001b[0m\u001b[0mindex\u001b[0m\u001b[1;33m(\u001b[0m\u001b[1;34m\"i\"\u001b[0m\u001b[1;33m,\u001b[0m \u001b[1;36m6\u001b[0m\u001b[1;33m)\u001b[0m\u001b[1;33m)\u001b[0m\u001b[1;33m\u001b[0m\u001b[1;33m\u001b[0m\u001b[0m\n\u001b[1;32m----> 6\u001b[1;33m \u001b[0mprint\u001b[0m \u001b[1;33m(\u001b[0m\u001b[0mmystr\u001b[0m\u001b[1;33m.\u001b[0m\u001b[0mindex\u001b[0m\u001b[1;33m(\u001b[0m\u001b[1;34m\"i\"\u001b[0m\u001b[1;33m,\u001b[0m \u001b[1;36m12\u001b[0m\u001b[1;33m)\u001b[0m\u001b[1;33m)\u001b[0m\u001b[1;33m\u001b[0m\u001b[1;33m\u001b[0m\u001b[0m\n\u001b[0m",
      "\u001b[1;31mValueError\u001b[0m: substring not found"
     ]
    }
   ],
   "source": [
    "mystr = \"Charity begins at home\"\n",
    "print (mystr, len(mystr))\n",
    "print (mystr.index(\"i\"))\n",
    "print (mystr.index(\"i\", 2))\n",
    "print (mystr.index(\"i\", 6))\n",
    "print (mystr.index(\"i\", 12))"
   ]
  },
  {
   "cell_type": "code",
   "execution_count": 71,
   "id": "80210675-5b81-4c41-90e4-7c3fb4df7c74",
   "metadata": {},
   "outputs": [
    {
     "name": "stdout",
     "output_type": "stream",
     "text": [
      "    good    morning       25\n",
      "good    morning 15\n",
      "good    morning       21\n",
      "    good    morning 19\n"
     ]
    }
   ],
   "source": [
    "mystr = \"    good    morning      \"\n",
    "print (mystr, len(mystr))\n",
    "print (mystr.strip(), len(mystr.strip()))\n",
    "print (mystr.lstrip(), len(mystr.lstrip()))\n",
    "print (mystr.rstrip(), len(mystr.rstrip()))"
   ]
  },
  {
   "cell_type": "code",
   "execution_count": 72,
   "id": "f02a723b-0e6e-4ea7-9343-774188010a9a",
   "metadata": {},
   "outputs": [
    {
     "name": "stdout",
     "output_type": "stream",
     "text": [
      "@@#@good#@#@morning###@@@ 25\n",
      "good#@#@morning 15\n",
      "good#@#@morning###@@@ 21\n",
      "@@#@good#@#@morning 19\n"
     ]
    }
   ],
   "source": [
    "mystr = \"@@#@good#@#@morning###@@@\"\n",
    "print (mystr, len(mystr))\n",
    "print (mystr.strip(\"#@\"), len(mystr.strip(\"#@\")))\n",
    "print (mystr.lstrip(\"#@\"), len(mystr.lstrip(\"#@\")))\n",
    "print (mystr.rstrip(\"#@\"), len(mystr.rstrip(\"#@\")))"
   ]
  },
  {
   "cell_type": "code",
   "execution_count": 86,
   "id": "fedf917f-c05a-401c-9026-8e56238e9cca",
   "metadata": {},
   "outputs": [
    {
     "name": "stdout",
     "output_type": "stream",
     "text": [
      "Charity begins at home 22\n",
      "True\n",
      "False\n",
      "True\n",
      "True\n",
      "False\n"
     ]
    }
   ],
   "source": [
    "mystr = \"Charity begins at home\"\n",
    "print (mystr, len(mystr))\n",
    "print (mystr.startswith(\"Cha\"))\n",
    "print (mystr.startswith(\"beg\"))\n",
    "print (mystr.startswith(\"beg\", 8))\n",
    "print (mystr.startswith(\" beg\", 7))\n",
    "print (mystr.startswith(\" beg\", 7, 9))"
   ]
  },
  {
   "cell_type": "code",
   "execution_count": 85,
   "id": "30379a30-b00e-4b36-90c1-6b1026fa2ab0",
   "metadata": {},
   "outputs": [
    {
     "name": "stdout",
     "output_type": "stream",
     "text": [
      "Charity begins at home 22\n",
      "True\n",
      "False\n",
      "True\n",
      "True\n"
     ]
    }
   ],
   "source": [
    "mystr = \"Charity begins at home\"\n",
    "print (mystr, len(mystr))\n",
    "print (mystr.endswith(\"me\"))\n",
    "print (mystr.endswith(\"ins\"))\n",
    "print (mystr.endswith(\"ins\", 0, 14))\n",
    "print (mystr.endswith(\"ins\", 10, 14))"
   ]
  },
  {
   "cell_type": "code",
   "execution_count": 91,
   "id": "1a9260a6-c260-4f10-b61a-7f768cdd938c",
   "metadata": {},
   "outputs": [
    {
     "name": "stdout",
     "output_type": "stream",
     "text": [
      "Charity begins at home 22\n",
      "['Charity', 'begins', 'at', 'home']\n",
      "Charity begins at home\n",
      "\n",
      "['Char', 'ty beg', 'ns at home']\n",
      "Char - ty beg - ns at home\n"
     ]
    }
   ],
   "source": [
    "mystr = \"Charity begins at home\"\n",
    "print (mystr, len(mystr))\n",
    "list1 = mystr.split()\n",
    "print (list1)\n",
    "result = \" \".join(list1)\n",
    "print (result)\n",
    "print()\n",
    "\n",
    "list1 = mystr.split(\"i\")\n",
    "print (list1)\n",
    "result = \" - \".join(list1)\n",
    "print (result)"
   ]
  },
  {
   "cell_type": "code",
   "execution_count": null,
   "id": "ce3bb3c4-2dc6-4a73-bf01-30d74b164c34",
   "metadata": {},
   "outputs": [],
   "source": [
    "Class Assignment:\n",
    "Input Name: \"moHan dAs kARam chAnd ganDHI\"\n",
    "Output Name: \"M. D. K. C. Gandhi\""
   ]
  },
  {
   "cell_type": "code",
   "execution_count": null,
   "id": "ae9706cd-b003-42a0-82f0-f4b8e9a22a4e",
   "metadata": {},
   "outputs": [],
   "source": []
  },
  {
   "cell_type": "code",
   "execution_count": null,
   "id": "e69af135-584f-4889-813d-84ec8acaaca0",
   "metadata": {},
   "outputs": [],
   "source": []
  },
  {
   "cell_type": "code",
   "execution_count": null,
   "id": "d5f11a9a-c24a-4fd1-8a0b-f34778ed9de1",
   "metadata": {},
   "outputs": [],
   "source": []
  },
  {
   "cell_type": "code",
   "execution_count": null,
   "id": "e285a277-1f22-49f2-9a8a-39647cd0dd1a",
   "metadata": {},
   "outputs": [],
   "source": []
  },
  {
   "cell_type": "code",
   "execution_count": null,
   "id": "c2d239ce-5a9d-411f-9512-9bf0cc15057e",
   "metadata": {},
   "outputs": [],
   "source": []
  }
 ],
 "metadata": {
  "kernelspec": {
   "display_name": "Python 3",
   "language": "python",
   "name": "python3"
  },
  "language_info": {
   "codemirror_mode": {
    "name": "ipython",
    "version": 3
   },
   "file_extension": ".py",
   "mimetype": "text/x-python",
   "name": "python",
   "nbconvert_exporter": "python",
   "pygments_lexer": "ipython3",
   "version": "3.8.8"
  }
 },
 "nbformat": 4,
 "nbformat_minor": 5
}
