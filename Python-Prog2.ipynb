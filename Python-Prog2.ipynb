{
 "cells": [
  {
   "cell_type": "markdown",
   "id": "5c9bc673-431b-4439-bac5-09f4e41ab9e2",
   "metadata": {},
   "source": [
    "#### Dealing with inbuilt Modules"
   ]
  },
  {
   "cell_type": "code",
   "execution_count": 14,
   "id": "6655ad9a-8b9e-4cab-a8a8-6fb512587180",
   "metadata": {},
   "outputs": [
    {
     "name": "stdout",
     "output_type": "stream",
     "text": [
      "0.0 1.0 0.0\n",
      "10.0 10.0 10.0\n",
      "6.931471805599453 3.0102999566398116 10.0\n",
      "3.010299956639812 10.0\n",
      "3.141592653589793 2.718281828459045 6.283185307179586\n",
      "22.360679774997898\n",
      "20 420.0\n",
      "720 5040\n",
      "10.4 10.4\n"
     ]
    }
   ],
   "source": [
    "import math\n",
    "print (math.sin(0), math.cos(0), math.tan(0))\n",
    "print (math.sqrt(100), 100 ** 0.5, math.pow(100, 0.5))\n",
    "print (math.log(1024), math.log(1024, 10), math.log(1024, 2))\n",
    "print (math.log10(1024), math.log2(1024))\n",
    "# constants in math module\n",
    "print (math.pi, math.e, math.tau)\n",
    "print (math.dist([10, 20], [20, 40]))\n",
    "print (math.gcd(140, 60), 140 * 60 / math.gcd(140, 60))\n",
    "print (math.factorial(6), math.factorial(7))\n",
    "print (abs(-10.4), abs(10.4))"
   ]
  },
  {
   "cell_type": "code",
   "execution_count": 16,
   "id": "d0254f9c-dc72-4c38-a9b3-75495621f13d",
   "metadata": {},
   "outputs": [
    {
     "name": "stdout",
     "output_type": "stream",
     "text": [
      "Help on built-in function pow in module math:\n",
      "\n",
      "pow(x, y, /)\n",
      "    Return x**y (x to the power of y).\n",
      "\n"
     ]
    }
   ],
   "source": [
    "help(math.pow)"
   ]
  },
  {
   "cell_type": "code",
   "execution_count": null,
   "id": "5c7ce88f-a414-4d6e-bd8d-b3c147325fdb",
   "metadata": {},
   "outputs": [],
   "source": [
    "help(math)"
   ]
  },
  {
   "cell_type": "code",
   "execution_count": 19,
   "id": "742dca52-3b1e-40f2-bc60-1e418ba48189",
   "metadata": {},
   "outputs": [
    {
     "name": "stdout",
     "output_type": "stream",
     "text": [
      "                                  2023\n",
      "\n",
      "      January                   February                   March\n",
      "Mo Tu We Th Fr Sa Su      Mo Tu We Th Fr Sa Su      Mo Tu We Th Fr Sa Su\n",
      "                   1             1  2  3  4  5             1  2  3  4  5\n",
      " 2  3  4  5  6  7  8       6  7  8  9 10 11 12       6  7  8  9 10 11 12\n",
      " 9 10 11 12 13 14 15      13 14 15 16 17 18 19      13 14 15 16 17 18 19\n",
      "16 17 18 19 20 21 22      20 21 22 23 24 25 26      20 21 22 23 24 25 26\n",
      "23 24 25 26 27 28 29      27 28                     27 28 29 30 31\n",
      "30 31\n",
      "\n",
      "       April                      May                       June\n",
      "Mo Tu We Th Fr Sa Su      Mo Tu We Th Fr Sa Su      Mo Tu We Th Fr Sa Su\n",
      "                1  2       1  2  3  4  5  6  7                1  2  3  4\n",
      " 3  4  5  6  7  8  9       8  9 10 11 12 13 14       5  6  7  8  9 10 11\n",
      "10 11 12 13 14 15 16      15 16 17 18 19 20 21      12 13 14 15 16 17 18\n",
      "17 18 19 20 21 22 23      22 23 24 25 26 27 28      19 20 21 22 23 24 25\n",
      "24 25 26 27 28 29 30      29 30 31                  26 27 28 29 30\n",
      "\n",
      "        July                     August                  September\n",
      "Mo Tu We Th Fr Sa Su      Mo Tu We Th Fr Sa Su      Mo Tu We Th Fr Sa Su\n",
      "                1  2          1  2  3  4  5  6                   1  2  3\n",
      " 3  4  5  6  7  8  9       7  8  9 10 11 12 13       4  5  6  7  8  9 10\n",
      "10 11 12 13 14 15 16      14 15 16 17 18 19 20      11 12 13 14 15 16 17\n",
      "17 18 19 20 21 22 23      21 22 23 24 25 26 27      18 19 20 21 22 23 24\n",
      "24 25 26 27 28 29 30      28 29 30 31               25 26 27 28 29 30\n",
      "31\n",
      "\n",
      "      October                   November                  December\n",
      "Mo Tu We Th Fr Sa Su      Mo Tu We Th Fr Sa Su      Mo Tu We Th Fr Sa Su\n",
      "                   1             1  2  3  4  5                   1  2  3\n",
      " 2  3  4  5  6  7  8       6  7  8  9 10 11 12       4  5  6  7  8  9 10\n",
      " 9 10 11 12 13 14 15      13 14 15 16 17 18 19      11 12 13 14 15 16 17\n",
      "16 17 18 19 20 21 22      20 21 22 23 24 25 26      18 19 20 21 22 23 24\n",
      "23 24 25 26 27 28 29      27 28 29 30               25 26 27 28 29 30 31\n",
      "30 31\n"
     ]
    }
   ],
   "source": [
    "import calendar\n",
    "calendar.prcal(2023)"
   ]
  },
  {
   "cell_type": "code",
   "execution_count": 22,
   "id": "ec281587-eab2-4ecc-86e0-821f44ed554d",
   "metadata": {},
   "outputs": [
    {
     "name": "stdout",
     "output_type": "stream",
     "text": [
      "<class 'method'>\n"
     ]
    }
   ],
   "source": [
    "print (type(calendar.prcal))"
   ]
  },
  {
   "cell_type": "code",
   "execution_count": 28,
   "id": "9f656698-a521-44ff-89e4-a89561e6b7d5",
   "metadata": {},
   "outputs": [
    {
     "name": "stdout",
     "output_type": "stream",
     "text": [
      "Even\n",
      "Even\n",
      "\n",
      "Odd\n",
      "Odd\n"
     ]
    }
   ],
   "source": [
    "import numpy as np\n",
    "num1=100\n",
    "print (np.where(num1 % 2 == 0, \"Even\", \"Odd\"))\n",
    "print (\"Even\" if (num1 % 2 == 0) else \"Odd\")\n",
    "print ()\n",
    "num1 = 101\n",
    "print (np.where(num1 % 2 == 0, \"Even\", \"Odd\"))\n",
    "print (\"Even\" if (num1 % 2 == 0) else \"Odd\")"
   ]
  },
  {
   "cell_type": "markdown",
   "id": "296da8ea-da7e-44da-9bcf-d9219db8321f",
   "metadata": {},
   "source": [
    "#### String Processing"
   ]
  },
  {
   "cell_type": "code",
   "execution_count": 29,
   "id": "943ffdbe-939c-487b-8f0f-ed42afb82ae3",
   "metadata": {},
   "outputs": [
    {
     "name": "stdout",
     "output_type": "stream",
     "text": [
      "university 10 <class 'str'> 2400924420336\n"
     ]
    }
   ],
   "source": [
    "# string consists of alpha-numeric characters and special characters\n",
    "mystr = \"university\"\n",
    "print (mystr, len(mystr), type(mystr), id(mystr))"
   ]
  },
  {
   "cell_type": "code",
   "execution_count": null,
   "id": "d14ac142-2d67-47da-8391-9e2ef4f24d9c",
   "metadata": {},
   "outputs": [],
   "source": [
    "# dealing with the string processing\n",
    "Left to right ->   0  1  2  3  4  5  6  7  8  9\n",
    "          str ->   u  n  i  v  e  r  s  i  t  y\n",
    "Right to Left -> -10 -9 -8 -7 -6 -5 -4 -3 -2 -1"
   ]
  },
  {
   "cell_type": "code",
   "execution_count": 38,
   "id": "11d7557a-fc19-488e-9fff-595aa4784fc0",
   "metadata": {},
   "outputs": [
    {
     "name": "stdout",
     "output_type": "stream",
     "text": [
      "s s y y\n",
      "niversi niversi niversi niversi\n",
      "sity sity univer univer\n",
      "uiest nvriy tseiu yirvn\n",
      "ytisrevinu\n"
     ]
    }
   ],
   "source": [
    "# string indexing and slicing\n",
    "mystr = \"university\"\n",
    "print (mystr[6], mystr[-4], mystr[9], mystr[-1])\n",
    "print (mystr[1:8], mystr[1:-2], mystr[-9:8], mystr[-9:-2])\n",
    "print (mystr[6:], mystr[-4:], mystr[:6], mystr[:-4])\n",
    "print (mystr[::2], mystr[1::2], mystr[8::-2], mystr[9::-2])\n",
    "print (mystr[::-1])"
   ]
  },
  {
   "cell_type": "code",
   "execution_count": 40,
   "id": "39b16bdf-1beb-4214-9bce-dbeb767d00e8",
   "metadata": {},
   "outputs": [
    {
     "name": "stdout",
     "output_type": "stream",
     "text": [
      "kIIt uniVersiTY 15 <class 'str'> 2400915496624\n",
      "KIIT UNIVERSITY\n",
      "kiit university\n",
      "Kiit University\n",
      "Kiit university\n",
      "            kIIt uniVersiTY             \n",
      "            KIIT UNIVERSITY             \n"
     ]
    }
   ],
   "source": [
    "mystr = \"kIIt uniVersiTY\"\n",
    "print (mystr, len(mystr), type(mystr), id(mystr))\n",
    "print (mystr.upper())\n",
    "print (mystr.lower())\n",
    "print (mystr.title())\n",
    "print (mystr.capitalize())\n",
    "print (mystr.center(40))\n",
    "print (mystr.upper().center(40))"
   ]
  },
  {
   "cell_type": "code",
   "execution_count": null,
   "id": "48cb54d0-bb01-43e6-8169-ae11cd6a19fd",
   "metadata": {},
   "outputs": [],
   "source": []
  }
 ],
 "metadata": {
  "kernelspec": {
   "display_name": "Python 3",
   "language": "python",
   "name": "python3"
  },
  "language_info": {
   "codemirror_mode": {
    "name": "ipython",
    "version": 3
   },
   "file_extension": ".py",
   "mimetype": "text/x-python",
   "name": "python",
   "nbconvert_exporter": "python",
   "pygments_lexer": "ipython3",
   "version": "3.8.8"
  }
 },
 "nbformat": 4,
 "nbformat_minor": 5
}
