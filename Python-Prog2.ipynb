{
 "cells": [
  {
   "cell_type": "markdown",
   "id": "5c9bc673-431b-4439-bac5-09f4e41ab9e2",
   "metadata": {},
   "source": [
    "#### Dealing with inbuilt Modules"
   ]
  },
  {
   "cell_type": "code",
   "execution_count": 14,
   "id": "6655ad9a-8b9e-4cab-a8a8-6fb512587180",
   "metadata": {},
   "outputs": [
    {
     "name": "stdout",
     "output_type": "stream",
     "text": [
      "0.0 1.0 0.0\n",
      "10.0 10.0 10.0\n",
      "6.931471805599453 3.0102999566398116 10.0\n",
      "3.010299956639812 10.0\n",
      "3.141592653589793 2.718281828459045 6.283185307179586\n",
      "22.360679774997898\n",
      "20 420.0\n",
      "720 5040\n",
      "10.4 10.4\n"
     ]
    }
   ],
   "source": [
    "import math\n",
    "print (math.sin(0), math.cos(0), math.tan(0))\n",
    "print (math.sqrt(100), 100 ** 0.5, math.pow(100, 0.5))\n",
    "print (math.log(1024), math.log(1024, 10), math.log(1024, 2))\n",
    "print (math.log10(1024), math.log2(1024))\n",
    "# constants in math module\n",
    "print (math.pi, math.e, math.tau)\n",
    "print (math.dist([10, 20], [20, 40]))\n",
    "print (math.gcd(140, 60), 140 * 60 / math.gcd(140, 60))\n",
    "print (math.factorial(6), math.factorial(7))\n",
    "print (abs(-10.4), abs(10.4))"
   ]
  },
  {
   "cell_type": "code",
   "execution_count": 16,
   "id": "d0254f9c-dc72-4c38-a9b3-75495621f13d",
   "metadata": {},
   "outputs": [
    {
     "name": "stdout",
     "output_type": "stream",
     "text": [
      "Help on built-in function pow in module math:\n",
      "\n",
      "pow(x, y, /)\n",
      "    Return x**y (x to the power of y).\n",
      "\n"
     ]
    }
   ],
   "source": [
    "help(math.pow)"
   ]
  },
  {
   "cell_type": "code",
   "execution_count": null,
   "id": "5c7ce88f-a414-4d6e-bd8d-b3c147325fdb",
   "metadata": {},
   "outputs": [],
   "source": [
    "help(math)"
   ]
  },
  {
   "cell_type": "code",
   "execution_count": 19,
   "id": "742dca52-3b1e-40f2-bc60-1e418ba48189",
   "metadata": {},
   "outputs": [
    {
     "name": "stdout",
     "output_type": "stream",
     "text": [
      "                                  2023\n",
      "\n",
      "      January                   February                   March\n",
      "Mo Tu We Th Fr Sa Su      Mo Tu We Th Fr Sa Su      Mo Tu We Th Fr Sa Su\n",
      "                   1             1  2  3  4  5             1  2  3  4  5\n",
      " 2  3  4  5  6  7  8       6  7  8  9 10 11 12       6  7  8  9 10 11 12\n",
      " 9 10 11 12 13 14 15      13 14 15 16 17 18 19      13 14 15 16 17 18 19\n",
      "16 17 18 19 20 21 22      20 21 22 23 24 25 26      20 21 22 23 24 25 26\n",
      "23 24 25 26 27 28 29      27 28                     27 28 29 30 31\n",
      "30 31\n",
      "\n",
      "       April                      May                       June\n",
      "Mo Tu We Th Fr Sa Su      Mo Tu We Th Fr Sa Su      Mo Tu We Th Fr Sa Su\n",
      "                1  2       1  2  3  4  5  6  7                1  2  3  4\n",
      " 3  4  5  6  7  8  9       8  9 10 11 12 13 14       5  6  7  8  9 10 11\n",
      "10 11 12 13 14 15 16      15 16 17 18 19 20 21      12 13 14 15 16 17 18\n",
      "17 18 19 20 21 22 23      22 23 24 25 26 27 28      19 20 21 22 23 24 25\n",
      "24 25 26 27 28 29 30      29 30 31                  26 27 28 29 30\n",
      "\n",
      "        July                     August                  September\n",
      "Mo Tu We Th Fr Sa Su      Mo Tu We Th Fr Sa Su      Mo Tu We Th Fr Sa Su\n",
      "                1  2          1  2  3  4  5  6                   1  2  3\n",
      " 3  4  5  6  7  8  9       7  8  9 10 11 12 13       4  5  6  7  8  9 10\n",
      "10 11 12 13 14 15 16      14 15 16 17 18 19 20      11 12 13 14 15 16 17\n",
      "17 18 19 20 21 22 23      21 22 23 24 25 26 27      18 19 20 21 22 23 24\n",
      "24 25 26 27 28 29 30      28 29 30 31               25 26 27 28 29 30\n",
      "31\n",
      "\n",
      "      October                   November                  December\n",
      "Mo Tu We Th Fr Sa Su      Mo Tu We Th Fr Sa Su      Mo Tu We Th Fr Sa Su\n",
      "                   1             1  2  3  4  5                   1  2  3\n",
      " 2  3  4  5  6  7  8       6  7  8  9 10 11 12       4  5  6  7  8  9 10\n",
      " 9 10 11 12 13 14 15      13 14 15 16 17 18 19      11 12 13 14 15 16 17\n",
      "16 17 18 19 20 21 22      20 21 22 23 24 25 26      18 19 20 21 22 23 24\n",
      "23 24 25 26 27 28 29      27 28 29 30               25 26 27 28 29 30 31\n",
      "30 31\n"
     ]
    }
   ],
   "source": [
    "import calendar\n",
    "calendar.prcal(2023)"
   ]
  },
  {
   "cell_type": "code",
   "execution_count": 22,
   "id": "ec281587-eab2-4ecc-86e0-821f44ed554d",
   "metadata": {},
   "outputs": [
    {
     "name": "stdout",
     "output_type": "stream",
     "text": [
      "<class 'method'>\n"
     ]
    }
   ],
   "source": [
    "print (type(calendar.prcal))"
   ]
  },
  {
   "cell_type": "code",
   "execution_count": 28,
   "id": "9f656698-a521-44ff-89e4-a89561e6b7d5",
   "metadata": {},
   "outputs": [
    {
     "name": "stdout",
     "output_type": "stream",
     "text": [
      "Even\n",
      "Even\n",
      "\n",
      "Odd\n",
      "Odd\n"
     ]
    }
   ],
   "source": [
    "import numpy as np\n",
    "num1=100\n",
    "print (np.where(num1 % 2 == 0, \"Even\", \"Odd\"))\n",
    "print (\"Even\" if (num1 % 2 == 0) else \"Odd\")\n",
    "print ()\n",
    "num1 = 101\n",
    "print (np.where(num1 % 2 == 0, \"Even\", \"Odd\"))\n",
    "print (\"Even\" if (num1 % 2 == 0) else \"Odd\")"
   ]
  },
  {
   "cell_type": "markdown",
   "id": "296da8ea-da7e-44da-9bcf-d9219db8321f",
   "metadata": {},
   "source": [
    "#### String Processing"
   ]
  },
  {
   "cell_type": "code",
   "execution_count": 29,
   "id": "943ffdbe-939c-487b-8f0f-ed42afb82ae3",
   "metadata": {},
   "outputs": [
    {
     "name": "stdout",
     "output_type": "stream",
     "text": [
      "university 10 <class 'str'> 2400924420336\n"
     ]
    }
   ],
   "source": [
    "# string consists of alpha-numeric characters and special characters\n",
    "mystr = \"university\"\n",
    "print (mystr, len(mystr), type(mystr), id(mystr))"
   ]
  },
  {
   "cell_type": "code",
   "execution_count": null,
   "id": "d14ac142-2d67-47da-8391-9e2ef4f24d9c",
   "metadata": {},
   "outputs": [],
   "source": [
    "# dealing with the string processing\n",
    "Left to right ->   0  1  2  3  4  5  6  7  8  9\n",
    "          str ->   u  n  i  v  e  r  s  i  t  y\n",
    "Right to Left -> -10 -9 -8 -7 -6 -5 -4 -3 -2 -1"
   ]
  },
  {
   "cell_type": "code",
   "execution_count": 42,
   "id": "11d7557a-fc19-488e-9fff-595aa4784fc0",
   "metadata": {},
   "outputs": [
    {
     "name": "stdout",
     "output_type": "stream",
     "text": [
      "s s y y\n",
      "niversi niversi niversi niversi\n",
      "sity sity univer univer\n",
      "uiest nvriy tseiu yirvn\n",
      "ytisrevinu\n",
      "ver ver ver ver\n"
     ]
    }
   ],
   "source": [
    "# string indexing and slicing\n",
    "mystr = \"university\"\n",
    "print (mystr[6], mystr[-4], mystr[9], mystr[-1])\n",
    "print (mystr[1:8], mystr[1:-2], mystr[-9:8], mystr[-9:-2])\n",
    "print (mystr[6:], mystr[-4:], mystr[:6], mystr[:-4])\n",
    "print (mystr[::2], mystr[1::2], mystr[8::-2], mystr[9::-2])\n",
    "print (mystr[::-1])\n",
    "print (mystr[3:6], mystr[-7:-4], mystr[3:-4], mystr[-7:6])"
   ]
  },
  {
   "cell_type": "code",
   "execution_count": 43,
   "id": "39b16bdf-1beb-4214-9bce-dbeb767d00e8",
   "metadata": {},
   "outputs": [
    {
     "name": "stdout",
     "output_type": "stream",
     "text": [
      "kIIt uniVersiTY 15 <class 'str'> 2400918823472\n",
      "KIIT UNIVERSITY\n",
      "kiit university\n",
      "Kiit University\n",
      "Kiit university\n",
      "KiiT UNIvERSIty\n",
      "            kIIt uniVersiTY             \n",
      "            KIIT UNIVERSITY             \n"
     ]
    }
   ],
   "source": [
    "mystr = \"kIIt uniVersiTY\"\n",
    "print (mystr, len(mystr), type(mystr), id(mystr))\n",
    "print (mystr.upper())\n",
    "print (mystr.lower())\n",
    "print (mystr.title())\n",
    "print (mystr.capitalize())\n",
    "print (mystr.swapcase())\n",
    "print (mystr.center(40))\n",
    "print (mystr.upper().center(40))"
   ]
  },
  {
   "cell_type": "code",
   "execution_count": 48,
   "id": "48cb54d0-bb01-43e6-8169-ae11cd6a19fd",
   "metadata": {},
   "outputs": [
    {
     "name": "stdout",
     "output_type": "stream",
     "text": [
      "abcdxyz 7 2400923042864 <class 'str'>\n",
      "False True True False\n",
      "abcd123 7 2400923044528 <class 'str'>\n",
      "False False True\n",
      "1234567 7 2400919769264 <class 'str'>\n",
      "True False True\n",
      "abcd@123 8 2400919769136 <class 'str'>\n",
      "False False False\n"
     ]
    }
   ],
   "source": [
    "mystr = \"abcdxyz\"\n",
    "print (mystr, len(mystr), id(mystr), type(mystr))\n",
    "print (mystr.isnumeric(), mystr.isalpha(), mystr.isalnum(), mystr.isdigit())\n",
    "\n",
    "mystr = \"abcd123\"\n",
    "print (mystr, len(mystr), id(mystr), type(mystr))\n",
    "print (mystr.isnumeric(), mystr.isalpha(), mystr.isalnum())\n",
    "\n",
    "mystr = \"1234567\"\n",
    "print (mystr, len(mystr), id(mystr), type(mystr))\n",
    "print (mystr.isnumeric(), mystr.isalpha(), mystr.isalnum())\n",
    "\n",
    "mystr = \"abcd@123\"\n",
    "print (mystr, len(mystr), id(mystr), type(mystr))\n",
    "print (mystr.isnumeric(), mystr.isalpha(), mystr.isalnum())"
   ]
  },
  {
   "cell_type": "code",
   "execution_count": 93,
   "id": "4781b05d-2bf5-43a9-9a2e-af86ec92d914",
   "metadata": {},
   "outputs": [
    {
     "name": "stdout",
     "output_type": "stream",
     "text": [
      "False False\n",
      "True True\n",
      "False False\n",
      "True False\n",
      "False False\n",
      "True\n",
      "False\n"
     ]
    }
   ],
   "source": [
    "mystr = \"10.25\"\n",
    "print (mystr.isnumeric(), mystr.isdigit())\n",
    "mystr = \"1025\"\n",
    "print (mystr.isnumeric(), mystr.isdigit())\n",
    "mystr = \"abcd\"\n",
    "print (mystr.isnumeric(), mystr.isdigit())\n",
    "mystr = \"四\"\n",
    "print (mystr.isnumeric(), mystr.isdigit())\n",
    "mystr = \"चार\"\n",
    "print (mystr.isnumeric(), mystr.isdigit())\n",
    "mystr = \"    \"\n",
    "print (mystr.isspace())\n",
    "mystr = \"   g \"\n",
    "print (mystr.isspace())\n",
    "# isdecimal() subset of isdigit() subset of isnumeric()"
   ]
  },
  {
   "cell_type": "code",
   "execution_count": 58,
   "id": "04ea574a-6e23-4e8e-8c0a-120c7bcb19f7",
   "metadata": {},
   "outputs": [
    {
     "name": "stdout",
     "output_type": "stream",
     "text": [
      "Good night\n",
      "Good morning\n",
      "Good morning\n"
     ]
    }
   ],
   "source": [
    "mystr = \"Good morning\"\n",
    "print (mystr.replace(\"morning\", \"night\"))\n",
    "print (mystr.replace(\"evening\", \"night\"))\n",
    "print (mystr)"
   ]
  },
  {
   "cell_type": "code",
   "execution_count": 64,
   "id": "233640f7-c44f-4ed8-842f-e69ea5a8ba2c",
   "metadata": {},
   "outputs": [
    {
     "name": "stdout",
     "output_type": "stream",
     "text": [
      "Charity begins at home 22\n",
      "4\n",
      "4\n",
      "11\n",
      "-1\n"
     ]
    }
   ],
   "source": [
    "mystr = \"Charity begins at home\"\n",
    "print (mystr, len(mystr))\n",
    "print (mystr.find(\"i\"))\n",
    "print (mystr.find(\"i\", 2))\n",
    "print (mystr.find(\"i\", 6))\n",
    "print (mystr.find(\"i\", 12))"
   ]
  },
  {
   "cell_type": "code",
   "execution_count": 65,
   "id": "02861b2b-6a96-4f0a-8022-473d009f0e51",
   "metadata": {},
   "outputs": [
    {
     "name": "stdout",
     "output_type": "stream",
     "text": [
      "Charity begins at home 22\n",
      "4\n",
      "4\n",
      "11\n"
     ]
    },
    {
     "ename": "ValueError",
     "evalue": "substring not found",
     "output_type": "error",
     "traceback": [
      "\u001b[1;31m---------------------------------------------------------------------------\u001b[0m",
      "\u001b[1;31mValueError\u001b[0m                                Traceback (most recent call last)",
      "\u001b[1;32m<ipython-input-65-c465a7d8268d>\u001b[0m in \u001b[0;36m<module>\u001b[1;34m\u001b[0m\n\u001b[0;32m      4\u001b[0m \u001b[0mprint\u001b[0m \u001b[1;33m(\u001b[0m\u001b[0mmystr\u001b[0m\u001b[1;33m.\u001b[0m\u001b[0mindex\u001b[0m\u001b[1;33m(\u001b[0m\u001b[1;34m\"i\"\u001b[0m\u001b[1;33m,\u001b[0m \u001b[1;36m2\u001b[0m\u001b[1;33m)\u001b[0m\u001b[1;33m)\u001b[0m\u001b[1;33m\u001b[0m\u001b[1;33m\u001b[0m\u001b[0m\n\u001b[0;32m      5\u001b[0m \u001b[0mprint\u001b[0m \u001b[1;33m(\u001b[0m\u001b[0mmystr\u001b[0m\u001b[1;33m.\u001b[0m\u001b[0mindex\u001b[0m\u001b[1;33m(\u001b[0m\u001b[1;34m\"i\"\u001b[0m\u001b[1;33m,\u001b[0m \u001b[1;36m6\u001b[0m\u001b[1;33m)\u001b[0m\u001b[1;33m)\u001b[0m\u001b[1;33m\u001b[0m\u001b[1;33m\u001b[0m\u001b[0m\n\u001b[1;32m----> 6\u001b[1;33m \u001b[0mprint\u001b[0m \u001b[1;33m(\u001b[0m\u001b[0mmystr\u001b[0m\u001b[1;33m.\u001b[0m\u001b[0mindex\u001b[0m\u001b[1;33m(\u001b[0m\u001b[1;34m\"i\"\u001b[0m\u001b[1;33m,\u001b[0m \u001b[1;36m12\u001b[0m\u001b[1;33m)\u001b[0m\u001b[1;33m)\u001b[0m\u001b[1;33m\u001b[0m\u001b[1;33m\u001b[0m\u001b[0m\n\u001b[0m",
      "\u001b[1;31mValueError\u001b[0m: substring not found"
     ]
    }
   ],
   "source": [
    "mystr = \"Charity begins at home\"\n",
    "print (mystr, len(mystr))\n",
    "print (mystr.index(\"i\"))\n",
    "print (mystr.index(\"i\", 2))\n",
    "print (mystr.index(\"i\", 6))\n",
    "print (mystr.index(\"i\", 12))"
   ]
  },
  {
   "cell_type": "code",
   "execution_count": 71,
   "id": "80210675-5b81-4c41-90e4-7c3fb4df7c74",
   "metadata": {},
   "outputs": [
    {
     "name": "stdout",
     "output_type": "stream",
     "text": [
      "    good    morning       25\n",
      "good    morning 15\n",
      "good    morning       21\n",
      "    good    morning 19\n"
     ]
    }
   ],
   "source": [
    "mystr = \"    good    morning      \"\n",
    "print (mystr, len(mystr))\n",
    "print (mystr.strip(), len(mystr.strip()))\n",
    "print (mystr.lstrip(), len(mystr.lstrip()))\n",
    "print (mystr.rstrip(), len(mystr.rstrip()))"
   ]
  },
  {
   "cell_type": "code",
   "execution_count": 72,
   "id": "f02a723b-0e6e-4ea7-9343-774188010a9a",
   "metadata": {},
   "outputs": [
    {
     "name": "stdout",
     "output_type": "stream",
     "text": [
      "@@#@good#@#@morning###@@@ 25\n",
      "good#@#@morning 15\n",
      "good#@#@morning###@@@ 21\n",
      "@@#@good#@#@morning 19\n"
     ]
    }
   ],
   "source": [
    "mystr = \"@@#@good#@#@morning###@@@\"\n",
    "print (mystr, len(mystr))\n",
    "print (mystr.strip(\"#@\"), len(mystr.strip(\"#@\")))\n",
    "print (mystr.lstrip(\"#@\"), len(mystr.lstrip(\"#@\")))\n",
    "print (mystr.rstrip(\"#@\"), len(mystr.rstrip(\"#@\")))"
   ]
  },
  {
   "cell_type": "code",
   "execution_count": 86,
   "id": "fedf917f-c05a-401c-9026-8e56238e9cca",
   "metadata": {},
   "outputs": [
    {
     "name": "stdout",
     "output_type": "stream",
     "text": [
      "Charity begins at home 22\n",
      "True\n",
      "False\n",
      "True\n",
      "True\n",
      "False\n"
     ]
    }
   ],
   "source": [
    "mystr = \"Charity begins at home\"\n",
    "print (mystr, len(mystr))\n",
    "print (mystr.startswith(\"Cha\"))\n",
    "print (mystr.startswith(\"beg\"))\n",
    "print (mystr.startswith(\"beg\", 8))\n",
    "print (mystr.startswith(\" beg\", 7))\n",
    "print (mystr.startswith(\" beg\", 7, 9))"
   ]
  },
  {
   "cell_type": "code",
   "execution_count": 85,
   "id": "30379a30-b00e-4b36-90c1-6b1026fa2ab0",
   "metadata": {},
   "outputs": [
    {
     "name": "stdout",
     "output_type": "stream",
     "text": [
      "Charity begins at home 22\n",
      "True\n",
      "False\n",
      "True\n",
      "True\n"
     ]
    }
   ],
   "source": [
    "mystr = \"Charity begins at home\"\n",
    "print (mystr, len(mystr))\n",
    "print (mystr.endswith(\"me\"))\n",
    "print (mystr.endswith(\"ins\"))\n",
    "print (mystr.endswith(\"ins\", 0, 14))\n",
    "print (mystr.endswith(\"ins\", 10, 14))"
   ]
  },
  {
   "cell_type": "code",
   "execution_count": 91,
   "id": "1a9260a6-c260-4f10-b61a-7f768cdd938c",
   "metadata": {},
   "outputs": [
    {
     "name": "stdout",
     "output_type": "stream",
     "text": [
      "Charity begins at home 22\n",
      "['Charity', 'begins', 'at', 'home']\n",
      "Charity begins at home\n",
      "\n",
      "['Char', 'ty beg', 'ns at home']\n",
      "Char - ty beg - ns at home\n"
     ]
    }
   ],
   "source": [
    "mystr = \"Charity begins at home\"\n",
    "print (mystr, len(mystr))\n",
    "list1 = mystr.split()\n",
    "print (list1)\n",
    "result = \" \".join(list1)\n",
    "print (result)\n",
    "print()\n",
    "\n",
    "list1 = mystr.split(\"i\")\n",
    "print (list1)\n",
    "result = \" - \".join(list1)\n",
    "print (result)"
   ]
  },
  {
   "cell_type": "code",
   "execution_count": 96,
   "id": "f212a54a-9a96-41ae-8125-89b6fdd75fa0",
   "metadata": {},
   "outputs": [
    {
     "name": "stdout",
     "output_type": "stream",
     "text": [
      "0 m\n",
      "1 a\n",
      "2 d\n",
      "3 a\n",
      "4 m\n"
     ]
    }
   ],
   "source": [
    "mystr = \"madam\"\n",
    "for i in range(len(mystr)):\n",
    "    print (i, mystr[i])"
   ]
  },
  {
   "cell_type": "code",
   "execution_count": 97,
   "id": "76a51f03-06cd-498d-b6f0-bd25709c1fe0",
   "metadata": {},
   "outputs": [
    {
     "name": "stdout",
     "output_type": "stream",
     "text": [
      "m\n",
      "a\n",
      "d\n",
      "a\n",
      "m\n"
     ]
    }
   ],
   "source": [
    "mystr = \"madam\"\n",
    "for ch in mystr:\n",
    "    print (ch)"
   ]
  },
  {
   "cell_type": "code",
   "execution_count": null,
   "id": "ce3bb3c4-2dc6-4a73-bf01-30d74b164c34",
   "metadata": {},
   "outputs": [],
   "source": [
    "Class Assignment:\n",
    "Input Name: \"moHan dAs kARam chAnd ganDHI\"\n",
    "Output Name: \"M. D. K. C. Gandhi\""
   ]
  },
  {
   "cell_type": "code",
   "execution_count": 102,
   "id": "ae9706cd-b003-42a0-82f0-f4b8e9a22a4e",
   "metadata": {},
   "outputs": [
    {
     "name": "stdout",
     "output_type": "stream",
     "text": [
      "['Mohan', 'Das', 'Karam', 'Chand', 'Gandhi']\n",
      "M. D. K. C. Gandhi\n"
     ]
    }
   ],
   "source": [
    "mystr = \"moHan dAs kARam chAnd ganDHI\"\n",
    "name_list = mystr.title().strip().split()\n",
    "print (name_list)\n",
    "outputstr = \"\"\n",
    "for name_part in name_list[:len(name_list) - 1]:\n",
    "    outputstr = outputstr + name_part[0] + \". \"\n",
    "outputstr += name_list[len(name_list) - 1]\n",
    "print (outputstr)"
   ]
  },
  {
   "cell_type": "markdown",
   "id": "7ca9e7ba-e194-4011-91ed-ef800743ce2f",
   "metadata": {},
   "source": [
    "#### List Processing"
   ]
  },
  {
   "cell_type": "code",
   "execution_count": 103,
   "id": "d5f11a9a-c24a-4fd1-8a0b-f34778ed9de1",
   "metadata": {},
   "outputs": [
    {
     "name": "stdout",
     "output_type": "stream",
     "text": [
      "[200, 300, 400, 600, 100] 5 <class 'list'> 2400915648640\n",
      "600 100\n",
      "1600 320.0\n"
     ]
    }
   ],
   "source": [
    "list1 = [200, 300, 400, 600, 100]\n",
    "print (list1, len(list1), type(list1), id(list1))\n",
    "print (max(list1), min(list1))\n",
    "print (sum(list1), sum(list1) / len(list1))"
   ]
  },
  {
   "cell_type": "code",
   "execution_count": 107,
   "id": "4c5e4c5c-8862-49af-bff3-5a415d6bb445",
   "metadata": {},
   "outputs": [
    {
     "name": "stdout",
     "output_type": "stream",
     "text": [
      "['Chennai', 'Pune', 'madurai', 'Mumbai'] 4 <class 'list'> 2400919804608\n",
      "madurai Chennai\n"
     ]
    }
   ],
   "source": [
    "list1 = [\"Chennai\", \"Pune\", \"madurai\", \"Mumbai\"]\n",
    "print (list1, len(list1), type(list1), id(list1))\n",
    "print (max(list1), min(list1))\n",
    "# print (sum(list1), sum(list1) / len(list1))"
   ]
  },
  {
   "cell_type": "code",
   "execution_count": 110,
   "id": "aab642ff-7c3e-4168-82b1-f268edcd6a30",
   "metadata": {},
   "outputs": [
    {
     "name": "stdout",
     "output_type": "stream",
     "text": [
      "['Chennai', 'Pune', 100, 300, 'madurai', 'Mumbai'] 6 <class 'list'> 2400917880000\n"
     ]
    }
   ],
   "source": [
    "list1 = [\"Chennai\", \"Pune\", 100, 300, \"madurai\", \"Mumbai\"]\n",
    "print (list1, len(list1), type(list1), id(list1))\n",
    "# print (max(list1), min(list1))\n",
    "# print (sum(list1), sum(list1) / len(list1))"
   ]
  },
  {
   "cell_type": "code",
   "execution_count": 112,
   "id": "cf843ce9-f6a3-479f-a909-4c0806eab2e9",
   "metadata": {},
   "outputs": [
    {
     "name": "stdout",
     "output_type": "stream",
     "text": [
      "['Chennai', 'Pune', 'madurai', 'Mumbai'] 4 <class 'list'> 2400916878272\n",
      "Pune Pune\n",
      "['Pune', 'madurai', 'Mumbai'] ['Pune', 'madurai', 'Mumbai']\n",
      "['Chennai', 'Pune', 'madurai'] ['Chennai', 'Pune', 'madurai']\n"
     ]
    }
   ],
   "source": [
    "# list indexing and slicing\n",
    "# left to right    0          1       2          3\n",
    "list1 =          [\"Chennai\", \"Pune\", \"madurai\", \"Mumbai\"]\n",
    "# right to left   -4         -3      -2         -1\n",
    "print (list1, len(list1), type(list1), id(list1))\n",
    "print (list1[1], list1[-3])\n",
    "print (list1[1:], list1[-3:])\n",
    "print (list1[:3], list1[:-1])"
   ]
  },
  {
   "cell_type": "code",
   "execution_count": 113,
   "id": "ce759260-9226-4aaa-84c7-7de073774472",
   "metadata": {},
   "outputs": [
    {
     "name": "stdout",
     "output_type": "stream",
     "text": [
      "['Chennai', 'Pune', 'madurai', 'Mumbai', 'Boroda', 'Delhi', 'Kolkata', 'Bangalore'] 8\n"
     ]
    }
   ],
   "source": [
    "list1 = [\"Chennai\", \"Pune\", \"madurai\", \"Mumbai\"]\n",
    "list2 = [\"Boroda\", \"Delhi\", \"Kolkata\", \"Bangalore\"]\n",
    "list3 = list1 + list2\n",
    "print (list3, len(list3))  # list concatenation"
   ]
  },
  {
   "cell_type": "code",
   "execution_count": 118,
   "id": "8a4bb551-2681-49ee-8918-162ed4dadfed",
   "metadata": {},
   "outputs": [
    {
     "name": "stdout",
     "output_type": "stream",
     "text": [
      "[['Chennai', 'Pune', 'madurai', 'Mumbai'], ['Boroda', 'Delhi', 'Kolkata', 'Bangalore', 'Goa']] 2 4 5\n",
      "gal\n",
      "[['Boroda', 'Delhi', 'Kolkata', 'Bangalore', 'Goa'], ['Chennai', 'Pune', 'madurai', 'Mumbai']]\n"
     ]
    }
   ],
   "source": [
    "list1 = [\"Chennai\", \"Pune\", \"madurai\", \"Mumbai\"]\n",
    "list2 = [\"Boroda\", \"Delhi\", \"Kolkata\", \"Bangalore\", \"Goa\"]\n",
    "list3 = [list1, list2]\n",
    "print (list3, len(list3), len(list3[0]), len(list3[1]))  # list of lists, nested lists\n",
    "print (list3[1][3][3:6])\n",
    "print (list3[::-1])"
   ]
  },
  {
   "cell_type": "code",
   "execution_count": 119,
   "id": "6a48f41b-528d-4913-bb22-8deca8fa4edc",
   "metadata": {},
   "outputs": [
    {
     "name": "stdout",
     "output_type": "stream",
     "text": [
      "['Chennai', 'Pune'] 2\n",
      "['Chennai', 'Pune', 'Kolkata'] 3\n",
      "['Chennai', 'Pune', 'Kolkata', 'Pune'] 4\n",
      "['Chennai', 'Pune', 'Kolkata', 'Pune', 'Mumbai'] 5\n"
     ]
    }
   ],
   "source": [
    "# insert operation\n",
    "list1 = [\"Chennai\", \"Pune\"]\n",
    "print (list1, len(list1))\n",
    "list1.append(\"Kolkata\")\n",
    "print (list1, len(list1))\n",
    "list1.append(\"Pune\")\n",
    "print (list1, len(list1))\n",
    "list1.append(\"Mumbai\")\n",
    "print (list1, len(list1))"
   ]
  },
  {
   "cell_type": "code",
   "execution_count": 123,
   "id": "e285a277-1f22-49f2-9a8a-39647cd0dd1a",
   "metadata": {},
   "outputs": [
    {
     "name": "stdout",
     "output_type": "stream",
     "text": [
      "['Chennai', 'Pune'] 2\n",
      "['Chennai', 'Kolkata', 'Pune'] 3\n",
      "['Chennai', 'Kolkata', 'Pune', 'Pune'] 4\n",
      "['Mumbai', 'Chennai', 'Kolkata', 'Pune', 'Pune'] 5\n"
     ]
    }
   ],
   "source": [
    "list1 = [\"Chennai\", \"Pune\"]\n",
    "print (list1, len(list1))\n",
    "list1.insert(1, \"Kolkata\")\n",
    "print (list1, len(list1))\n",
    "list1.insert(2, \"Pune\")\n",
    "print (list1, len(list1))\n",
    "list1.insert(0, \"Mumbai\")\n",
    "print (list1, len(list1))"
   ]
  },
  {
   "cell_type": "code",
   "execution_count": 125,
   "id": "c2d239ce-5a9d-411f-9512-9bf0cc15057e",
   "metadata": {},
   "outputs": [
    {
     "name": "stdout",
     "output_type": "stream",
     "text": [
      "['Chennai', 'Pune', 'madurai', 'Mumbai', 'Boroda', 'Delhi', 'Kolkata', 'Bangalore'] 8\n",
      "['Chennai', 'madurai', 'Mumbai', 'Boroda', 'Delhi', 'Kolkata', 'Bangalore'] 7\n",
      "['Chennai', 'madurai', 'Mumbai', 'Boroda', 'Kolkata', 'Bangalore'] 6\n",
      "['Chennai', 'madurai', 'Mumbai', 'Boroda', 'Bangalore'] 5\n"
     ]
    },
    {
     "ename": "ValueError",
     "evalue": "list.remove(x): x not in list",
     "output_type": "error",
     "traceback": [
      "\u001b[1;31m---------------------------------------------------------------------------\u001b[0m",
      "\u001b[1;31mValueError\u001b[0m                                Traceback (most recent call last)",
      "\u001b[1;32m<ipython-input-125-6aa81ac02491>\u001b[0m in \u001b[0;36m<module>\u001b[1;34m\u001b[0m\n\u001b[0;32m      7\u001b[0m \u001b[0mlist1\u001b[0m\u001b[1;33m.\u001b[0m\u001b[0mremove\u001b[0m\u001b[1;33m(\u001b[0m\u001b[1;34m\"Kolkata\"\u001b[0m\u001b[1;33m)\u001b[0m\u001b[1;33m\u001b[0m\u001b[1;33m\u001b[0m\u001b[0m\n\u001b[0;32m      8\u001b[0m \u001b[0mprint\u001b[0m \u001b[1;33m(\u001b[0m\u001b[0mlist1\u001b[0m\u001b[1;33m,\u001b[0m \u001b[0mlen\u001b[0m\u001b[1;33m(\u001b[0m\u001b[0mlist1\u001b[0m\u001b[1;33m)\u001b[0m\u001b[1;33m)\u001b[0m\u001b[1;33m\u001b[0m\u001b[1;33m\u001b[0m\u001b[0m\n\u001b[1;32m----> 9\u001b[1;33m \u001b[0mlist1\u001b[0m\u001b[1;33m.\u001b[0m\u001b[0mremove\u001b[0m\u001b[1;33m(\u001b[0m\u001b[1;34m\"Delhi\"\u001b[0m\u001b[1;33m)\u001b[0m\u001b[1;33m\u001b[0m\u001b[1;33m\u001b[0m\u001b[0m\n\u001b[0m",
      "\u001b[1;31mValueError\u001b[0m: list.remove(x): x not in list"
     ]
    }
   ],
   "source": [
    "list1 = ['Chennai', 'Pune', 'madurai', 'Mumbai', 'Boroda', 'Delhi', 'Kolkata', 'Bangalore']\n",
    "print (list1, len(list1))\n",
    "list1.remove(\"Pune\")\n",
    "print (list1, len(list1))\n",
    "list1.remove(\"Delhi\")\n",
    "print (list1, len(list1))\n",
    "list1.remove(\"Kolkata\")\n",
    "print (list1, len(list1))\n",
    "list1.remove(\"Delhi\")   # Error due to unsuccessful searching"
   ]
  },
  {
   "cell_type": "code",
   "execution_count": 136,
   "id": "895ffef3-0583-4812-8b6b-4e727cc81059",
   "metadata": {},
   "outputs": [
    {
     "name": "stdout",
     "output_type": "stream",
     "text": [
      "['Chennai', 'Pune', 'madurai', 'Mumbai', 'Boroda', 'Delhi', 'Kolkata', 'Bangalore'] 8\n",
      "Bangalore\n",
      "['Chennai', 'Pune', 'madurai', 'Mumbai', 'Boroda', 'Delhi', 'Kolkata'] 7\n",
      "Kolkata\n",
      "['Chennai', 'Pune', 'madurai', 'Mumbai', 'Boroda', 'Delhi'] 6\n",
      "Mumbai\n",
      "['Chennai', 'Pune', 'madurai', 'Boroda', 'Delhi'] 5\n",
      "madurai\n",
      "['Chennai', 'Pune', 'Boroda', 'Delhi'] 4\n"
     ]
    }
   ],
   "source": [
    "list1 = ['Chennai', 'Pune', 'madurai', 'Mumbai', 'Boroda', 'Delhi', 'Kolkata', 'Bangalore']\n",
    "print (list1, len(list1))\n",
    "print (list1.pop())\n",
    "print (list1, len(list1))\n",
    "print (list1.pop())\n",
    "print (list1, len(list1))\n",
    "print (list1.pop(3))\n",
    "print (list1, len(list1))\n",
    "print (list1.pop(2))\n",
    "print (list1, len(list1))"
   ]
  },
  {
   "cell_type": "code",
   "execution_count": 130,
   "id": "929b4170-bdc0-43a3-b08b-a1bf893ca08c",
   "metadata": {},
   "outputs": [
    {
     "name": "stdout",
     "output_type": "stream",
     "text": [
      "['Chennai', 'Pune', 'madurai', 'Mumbai', 'Boroda', 'Delhi', 'Kolkata', 'Bangalore'] 8\n",
      "[] 0\n"
     ]
    }
   ],
   "source": [
    "list1 = ['Chennai', 'Pune', 'madurai', 'Mumbai', 'Boroda', 'Delhi', 'Kolkata', 'Bangalore']\n",
    "print (list1, len(list1))\n",
    "list1.clear()\n",
    "print (list1, len(list1))"
   ]
  },
  {
   "cell_type": "code",
   "execution_count": 131,
   "id": "18078495-ab26-4da5-9f7a-6206ad186c8a",
   "metadata": {},
   "outputs": [
    {
     "name": "stdout",
     "output_type": "stream",
     "text": [
      "['Chennai', 'Pune', 'madurai', 'Mumbai', 'Boroda', 'Delhi', 'Kolkata', 'Bangalore'] 8\n"
     ]
    },
    {
     "ename": "NameError",
     "evalue": "name 'list1' is not defined",
     "output_type": "error",
     "traceback": [
      "\u001b[1;31m---------------------------------------------------------------------------\u001b[0m",
      "\u001b[1;31mNameError\u001b[0m                                 Traceback (most recent call last)",
      "\u001b[1;32m<ipython-input-131-89ad8eefd4bb>\u001b[0m in \u001b[0;36m<module>\u001b[1;34m\u001b[0m\n\u001b[0;32m      2\u001b[0m \u001b[0mprint\u001b[0m \u001b[1;33m(\u001b[0m\u001b[0mlist1\u001b[0m\u001b[1;33m,\u001b[0m \u001b[0mlen\u001b[0m\u001b[1;33m(\u001b[0m\u001b[0mlist1\u001b[0m\u001b[1;33m)\u001b[0m\u001b[1;33m)\u001b[0m\u001b[1;33m\u001b[0m\u001b[1;33m\u001b[0m\u001b[0m\n\u001b[0;32m      3\u001b[0m \u001b[1;32mdel\u001b[0m \u001b[0mlist1\u001b[0m\u001b[1;33m\u001b[0m\u001b[1;33m\u001b[0m\u001b[0m\n\u001b[1;32m----> 4\u001b[1;33m \u001b[0mprint\u001b[0m \u001b[1;33m(\u001b[0m\u001b[0mlist1\u001b[0m\u001b[1;33m,\u001b[0m \u001b[0mlen\u001b[0m\u001b[1;33m(\u001b[0m\u001b[0mlist1\u001b[0m\u001b[1;33m)\u001b[0m\u001b[1;33m)\u001b[0m\u001b[1;33m\u001b[0m\u001b[1;33m\u001b[0m\u001b[0m\n\u001b[0m",
      "\u001b[1;31mNameError\u001b[0m: name 'list1' is not defined"
     ]
    }
   ],
   "source": [
    "list1 = ['Chennai', 'Pune', 'madurai', 'Mumbai', 'Boroda', 'Delhi', 'Kolkata', 'Bangalore']\n",
    "print (list1, len(list1))\n",
    "del list1\n",
    "print (list1, len(list1))"
   ]
  },
  {
   "cell_type": "code",
   "execution_count": 132,
   "id": "371d8b4e-ecf0-4840-aaf9-6d94a9e167a5",
   "metadata": {},
   "outputs": [
    {
     "name": "stdout",
     "output_type": "stream",
     "text": [
      "['Chennai', 'Pune', 'madurai', 'Mumbai', 'Boroda', 'Delhi', 'Kolkata', 'Bangalore'] 8\n",
      "['Chennai', 'Pune', 'madurai', 'Boroda', 'Delhi', 'Kolkata', 'Bangalore'] 7\n"
     ]
    }
   ],
   "source": [
    "list1 = ['Chennai', 'Pune', 'madurai', 'Mumbai', 'Boroda', 'Delhi', 'Kolkata', 'Bangalore']\n",
    "print (list1, len(list1))\n",
    "del list1[3]\n",
    "print (list1, len(list1))"
   ]
  },
  {
   "cell_type": "code",
   "execution_count": 135,
   "id": "330bbc1c-519c-4b9a-9a2e-4673818dc9ac",
   "metadata": {},
   "outputs": [
    {
     "name": "stdout",
     "output_type": "stream",
     "text": [
      "['Chennai', 'Pune', 'madurai', 'Mumbai', 'Boroda', 'Delhi', 'Kolkata', 'Bangalore'] 8\n",
      "4\n",
      "['Chennai', 'Pune', 'madurai', 'Mumbai', 'Boroda', 'NCR', 'Kolkata', 'Bangalore'] 8\n"
     ]
    }
   ],
   "source": [
    "list1 = ['Chennai', 'Pune', 'madurai', 'Mumbai', 'Boroda', 'Delhi', 'Kolkata', 'Bangalore']\n",
    "print (list1, len(list1))\n",
    "print (list1.index(\"Boroda\"))\n",
    "list1[5] = \"NCR\"\n",
    "print (list1, len(list1))"
   ]
  },
  {
   "cell_type": "code",
   "execution_count": 139,
   "id": "e0492c6e-6b16-43e0-bae1-2e57277b4a5f",
   "metadata": {},
   "outputs": [
    {
     "name": "stdout",
     "output_type": "stream",
     "text": [
      "True False\n",
      "True True\n",
      "False False\n"
     ]
    }
   ],
   "source": [
    "list1 = [True, True, False, True]\n",
    "print (any(list1), all(list1))\n",
    "list1 = [True, True, True, True]\n",
    "print (any(list1), all(list1))\n",
    "list1 = [False, False, False, False]\n",
    "print (any(list1), all(list1))"
   ]
  },
  {
   "cell_type": "code",
   "execution_count": 144,
   "id": "302353fe-9564-414e-a891-6cf4beb1b972",
   "metadata": {},
   "outputs": [
    {
     "name": "stdout",
     "output_type": "stream",
     "text": [
      "[400, 500, 200, 150, 700, 350] 6\n",
      "[150, 200, 350, 400, 500, 700] 6\n",
      "[700, 500, 400, 350, 200, 150] 6\n"
     ]
    }
   ],
   "source": [
    "list1 = [400, 500, 200, 150, 700, 350]\n",
    "print (list1, len(list1))\n",
    "list1.sort()\n",
    "print (list1, len(list1))\n",
    "list1.sort(reverse=True)\n",
    "print (list1, len(list1))"
   ]
  },
  {
   "cell_type": "code",
   "execution_count": 145,
   "id": "7b9466ee-01e0-49dc-b91d-53710133540c",
   "metadata": {},
   "outputs": [
    {
     "name": "stdout",
     "output_type": "stream",
     "text": [
      "[400, 500, 200, 150, 700, 350] 6\n",
      "[150, 200, 350, 400, 500, 700] 6\n"
     ]
    }
   ],
   "source": [
    "list1 = [400, 500, 200, 150, 700, 350]\n",
    "print (list1, len(list1))\n",
    "list2 = sorted(list1)\n",
    "print (list2, len(list2))"
   ]
  },
  {
   "cell_type": "code",
   "execution_count": 158,
   "id": "afbb8415-816b-4af3-8745-061b614dba3a",
   "metadata": {},
   "outputs": [
    {
     "name": "stdout",
     "output_type": "stream",
     "text": [
      "[100, 300, 40, 230] 4 <class 'list'>\n",
      "[] 0 <class 'list'>\n",
      "(340, 560, 780, 120) 4 <class 'tuple'>\n",
      "() 0 <class 'tuple'>\n",
      "10 <class 'int'>\n",
      "(10,) 1 <class 'tuple'>\n",
      "{'Name': 'Amit', 'designation': 'Coder'} 2 <class 'dict'>\n",
      "{} 0 <class 'dict'>\n",
      "{200, 100, 300} 3 <class 'set'>\n",
      "set() 0 <class 'set'>\n"
     ]
    }
   ],
   "source": [
    "# implicit object\n",
    "var1 = [100, 300, 40, 230]\n",
    "print (var1, len(var1), type(var1))\n",
    "var1 = []\n",
    "print (var1, len(var1), type(var1))\n",
    "var1 = (340, 560, 780, 120)\n",
    "print (var1, len(var1), type(var1))\n",
    "var1 = ()\n",
    "print (var1, len(var1), type(var1))\n",
    "var1 = (10)\n",
    "print (var1, type(var1))\n",
    "var1 = (10,)   # singleton notation of a tuple\n",
    "print (var1, len(var1), type(var1))\n",
    "var1 = {'Name':'Amit', 'designation':'Coder'}\n",
    "print (var1, len(var1), type(var1))\n",
    "var1 = {}\n",
    "print (var1, len(var1), type(var1))\n",
    "var1 = {100, 200, 100, 300, 200}\n",
    "print (var1, len(var1), type(var1))\n",
    "var1 = set()\n",
    "print (var1, len(var1), type(var1))"
   ]
  },
  {
   "cell_type": "code",
   "execution_count": 162,
   "id": "d68b0f59-009a-49f1-a0e2-041c4c23b186",
   "metadata": {},
   "outputs": [
    {
     "name": "stdout",
     "output_type": "stream",
     "text": [
      "[10, 30, 50] 3\n",
      "[20, 40, 60, 80] 4\n",
      "[10, 30, 50, 20, 40, 60, 80] 7\n",
      "[10, 30, 50, 20, 40, 60, 80] 7\n",
      "[20, 40, 60, 80] 4\n"
     ]
    }
   ],
   "source": [
    "list1 = [10, 30, 50]\n",
    "list2 = [20, 40, 60, 80]\n",
    "print (list1, len(list1))\n",
    "print (list2, len(list2))\n",
    "list3 = list1 + list2\n",
    "print (list3, len(list3))\n",
    "list1.extend(list2)\n",
    "print (list1, len(list1))\n",
    "print (list2, len(list2))"
   ]
  },
  {
   "cell_type": "code",
   "execution_count": 163,
   "id": "dff244fd-00fe-4f94-8426-98ebd55da731",
   "metadata": {},
   "outputs": [
    {
     "name": "stdout",
     "output_type": "stream",
     "text": [
      "[100, 500, 200, 900] 4\n",
      "[999, 500, 200, 900] 4\n"
     ]
    }
   ],
   "source": [
    "def myfunct(my_list):\n",
    "    my_list[0] = 999\n",
    "    \n",
    "list1 = [100, 500, 200, 900]\n",
    "print (list1, len(list1))\n",
    "myfunct(list1)\n",
    "print (list1, len(list1))"
   ]
  },
  {
   "cell_type": "markdown",
   "id": "c8421754-4bc3-41a5-b0a5-4e913d5bdba6",
   "metadata": {},
   "source": [
    "#### Tuple Processing"
   ]
  },
  {
   "cell_type": "code",
   "execution_count": 165,
   "id": "91ee0b1b-eff8-49fa-b79b-953bca5bff8f",
   "metadata": {},
   "outputs": [
    {
     "name": "stdout",
     "output_type": "stream",
     "text": [
      "(200, 300, 400, 600, 100) 4 <class 'tuple'> 2400896540080\n",
      "600 100\n",
      "1600 320.0\n"
     ]
    }
   ],
   "source": [
    "tuple1 = (200, 300, 400, 600, 100)\n",
    "print (tuple1, len(list1), type(tuple1), id(tuple1))\n",
    "print (max(tuple1), min(tuple1))\n",
    "print (sum(tuple1), sum(tuple1) / len(tuple1))"
   ]
  },
  {
   "cell_type": "code",
   "execution_count": 166,
   "id": "060475ec-b390-473b-8bae-54fe8bd2d373",
   "metadata": {},
   "outputs": [
    {
     "name": "stdout",
     "output_type": "stream",
     "text": [
      "('200', '300', '400', '600', '100') 4 <class 'tuple'> 2400929784192\n",
      "600 100\n"
     ]
    },
    {
     "ename": "TypeError",
     "evalue": "unsupported operand type(s) for +: 'int' and 'str'",
     "output_type": "error",
     "traceback": [
      "\u001b[1;31m---------------------------------------------------------------------------\u001b[0m",
      "\u001b[1;31mTypeError\u001b[0m                                 Traceback (most recent call last)",
      "\u001b[1;32m<ipython-input-166-d4a51bbcfb27>\u001b[0m in \u001b[0;36m<module>\u001b[1;34m\u001b[0m\n\u001b[0;32m      2\u001b[0m \u001b[0mprint\u001b[0m \u001b[1;33m(\u001b[0m\u001b[0mtuple1\u001b[0m\u001b[1;33m,\u001b[0m \u001b[0mlen\u001b[0m\u001b[1;33m(\u001b[0m\u001b[0mlist1\u001b[0m\u001b[1;33m)\u001b[0m\u001b[1;33m,\u001b[0m \u001b[0mtype\u001b[0m\u001b[1;33m(\u001b[0m\u001b[0mtuple1\u001b[0m\u001b[1;33m)\u001b[0m\u001b[1;33m,\u001b[0m \u001b[0mid\u001b[0m\u001b[1;33m(\u001b[0m\u001b[0mtuple1\u001b[0m\u001b[1;33m)\u001b[0m\u001b[1;33m)\u001b[0m\u001b[1;33m\u001b[0m\u001b[1;33m\u001b[0m\u001b[0m\n\u001b[0;32m      3\u001b[0m \u001b[0mprint\u001b[0m \u001b[1;33m(\u001b[0m\u001b[0mmax\u001b[0m\u001b[1;33m(\u001b[0m\u001b[0mtuple1\u001b[0m\u001b[1;33m)\u001b[0m\u001b[1;33m,\u001b[0m \u001b[0mmin\u001b[0m\u001b[1;33m(\u001b[0m\u001b[0mtuple1\u001b[0m\u001b[1;33m)\u001b[0m\u001b[1;33m)\u001b[0m\u001b[1;33m\u001b[0m\u001b[1;33m\u001b[0m\u001b[0m\n\u001b[1;32m----> 4\u001b[1;33m \u001b[0mprint\u001b[0m \u001b[1;33m(\u001b[0m\u001b[0msum\u001b[0m\u001b[1;33m(\u001b[0m\u001b[0mtuple1\u001b[0m\u001b[1;33m)\u001b[0m\u001b[1;33m,\u001b[0m \u001b[0msum\u001b[0m\u001b[1;33m(\u001b[0m\u001b[0mtuple1\u001b[0m\u001b[1;33m)\u001b[0m \u001b[1;33m/\u001b[0m \u001b[0mlen\u001b[0m\u001b[1;33m(\u001b[0m\u001b[0mtuple1\u001b[0m\u001b[1;33m)\u001b[0m\u001b[1;33m)\u001b[0m\u001b[1;33m\u001b[0m\u001b[1;33m\u001b[0m\u001b[0m\n\u001b[0m",
      "\u001b[1;31mTypeError\u001b[0m: unsupported operand type(s) for +: 'int' and 'str'"
     ]
    }
   ],
   "source": [
    "tuple1 = ('200', '300', '400', '600', '100')\n",
    "print (tuple1, len(list1), type(tuple1), id(tuple1))\n",
    "print (max(tuple1), min(tuple1))\n",
    "# print (sum(tuple1), sum(tuple1) / len(tuple1))"
   ]
  },
  {
   "cell_type": "code",
   "execution_count": 169,
   "id": "f3f03904-4e79-4baf-a3dc-19d2490043f2",
   "metadata": {},
   "outputs": [
    {
     "name": "stdout",
     "output_type": "stream",
     "text": [
      "(200, 300, '400', '600', 100) 4 <class 'tuple'> 2400896540080\n"
     ]
    }
   ],
   "source": [
    "tuple1 = (200, 300, '400', '600', 100)\n",
    "print (tuple1, len(list1), type(tuple1), id(tuple1))\n",
    "# print (max(tuple1), min(tuple1))\n",
    "# print (sum(tuple1), sum(tuple1) / len(tuple1))"
   ]
  },
  {
   "cell_type": "code",
   "execution_count": 172,
   "id": "b5f00f2e-8c6f-4c75-916d-99923c4b7958",
   "metadata": {},
   "outputs": [
    {
     "name": "stdout",
     "output_type": "stream",
     "text": [
      "('guava', 'apple', 'pineapple', 'banana', 'orange') 4 <class 'tuple'> 2400925446368\n",
      "2\n",
      "1\n"
     ]
    },
    {
     "ename": "ValueError",
     "evalue": "tuple.index(x): x not in tuple",
     "output_type": "error",
     "traceback": [
      "\u001b[1;31m---------------------------------------------------------------------------\u001b[0m",
      "\u001b[1;31mValueError\u001b[0m                                Traceback (most recent call last)",
      "\u001b[1;32m<ipython-input-172-8a334d3d6786>\u001b[0m in \u001b[0;36m<module>\u001b[1;34m\u001b[0m\n\u001b[0;32m      3\u001b[0m \u001b[0mprint\u001b[0m \u001b[1;33m(\u001b[0m\u001b[0mtuple1\u001b[0m\u001b[1;33m.\u001b[0m\u001b[0mindex\u001b[0m\u001b[1;33m(\u001b[0m\u001b[1;34m'pineapple'\u001b[0m\u001b[1;33m)\u001b[0m\u001b[1;33m)\u001b[0m\u001b[1;33m\u001b[0m\u001b[1;33m\u001b[0m\u001b[0m\n\u001b[0;32m      4\u001b[0m \u001b[0mprint\u001b[0m \u001b[1;33m(\u001b[0m\u001b[0mtuple1\u001b[0m\u001b[1;33m.\u001b[0m\u001b[0mindex\u001b[0m\u001b[1;33m(\u001b[0m\u001b[1;34m'apple'\u001b[0m\u001b[1;33m)\u001b[0m\u001b[1;33m)\u001b[0m\u001b[1;33m\u001b[0m\u001b[1;33m\u001b[0m\u001b[0m\n\u001b[1;32m----> 5\u001b[1;33m \u001b[0mprint\u001b[0m \u001b[1;33m(\u001b[0m\u001b[0mtuple1\u001b[0m\u001b[1;33m.\u001b[0m\u001b[0mindex\u001b[0m\u001b[1;33m(\u001b[0m\u001b[1;34m'Pineapple'\u001b[0m\u001b[1;33m)\u001b[0m\u001b[1;33m)\u001b[0m\u001b[1;33m\u001b[0m\u001b[1;33m\u001b[0m\u001b[0m\n\u001b[0m",
      "\u001b[1;31mValueError\u001b[0m: tuple.index(x): x not in tuple"
     ]
    }
   ],
   "source": [
    "tuple1 = ('guava', 'apple', 'pineapple', 'banana', 'orange')\n",
    "print (tuple1, len(list1), type(tuple1), id(tuple1))\n",
    "print (tuple1.index('pineapple'))\n",
    "print (tuple1.index('apple'))\n",
    "print (tuple1.index('Pineapple'))"
   ]
  },
  {
   "cell_type": "code",
   "execution_count": 174,
   "id": "614e495f-24ae-40c0-9ff4-97514b06f10b",
   "metadata": {},
   "outputs": [
    {
     "name": "stdout",
     "output_type": "stream",
     "text": [
      "('guava', 'apple', 'pineapple', 'banana', 'orange', 'apple', 'pineapple', 'banana', 'banana') 4 <class 'tuple'> 2400928604224\n",
      "2\n",
      "2\n",
      "3\n",
      "0\n"
     ]
    }
   ],
   "source": [
    "tuple1 = ('guava', 'apple', 'pineapple', 'banana', 'orange', 'apple', 'pineapple', 'banana', 'banana')\n",
    "print (tuple1, len(list1), type(tuple1), id(tuple1))\n",
    "print (tuple1.count('pineapple'))\n",
    "print (tuple1.count('apple'))\n",
    "print (tuple1.count('banana'))\n",
    "print (tuple1.count('mango'))"
   ]
  },
  {
   "cell_type": "code",
   "execution_count": 177,
   "id": "5f681f57-d84b-417f-9abf-f8ca5663fd2a",
   "metadata": {},
   "outputs": [
    {
     "name": "stdout",
     "output_type": "stream",
     "text": [
      "(200, 300, 400, 600, 100) 4 <class 'tuple'> 2400929083040\n",
      "[200, 300, 400, 6000, 100] 5 <class 'list'> 2400920396480\n",
      "(200, 300, 400, 6000, 100) 5 <class 'tuple'> 2400913155632\n"
     ]
    }
   ],
   "source": [
    "tuple1 = (200, 300, 400, 600, 100)\n",
    "print (tuple1, len(list1), type(tuple1), id(tuple1))\n",
    "# tuple1[3] = 6000\n",
    "list1 = list(tuple1)\n",
    "list1[3] = 6000\n",
    "print (list1, len(list1), type(list1), id(list1))\n",
    "tuple1 = tuple(list1)\n",
    "print (tuple1, len(list1), type(tuple1), id(tuple1))"
   ]
  },
  {
   "cell_type": "markdown",
   "id": "ce5b144c-de1d-4cad-95a2-51e92928bfb0",
   "metadata": {},
   "source": [
    "#### Dictionary Processing"
   ]
  },
  {
   "cell_type": "code",
   "execution_count": 180,
   "id": "6265cb7b-251b-448a-b39f-e39cda25e820",
   "metadata": {},
   "outputs": [
    {
     "name": "stdout",
     "output_type": "stream",
     "text": [
      "{'name': 'Anirban', 'desig': 'Designer', 'location': 'Pune'} 3 <class 'dict'> 2400915424000\n",
      "dict_values(['Anirban', 'Designer', 'Pune'])\n",
      "dict_keys(['name', 'desig', 'location'])\n",
      "dict_items([('name', 'Anirban'), ('desig', 'Designer'), ('location', 'Pune')])\n"
     ]
    }
   ],
   "source": [
    "dict1 = {'name':'Anirban', 'desig':'Developer', 'location':'Pune', 'desig':'Designer'}\n",
    "print (dict1, len(dict1), type(dict1), id(dict1))\n",
    "print (dict1.values())\n",
    "print (dict1.keys())\n",
    "print (dict1.items())"
   ]
  },
  {
   "cell_type": "code",
   "execution_count": 188,
   "id": "af95445e-964e-43d4-a0d6-7624f82833dd",
   "metadata": {},
   "outputs": [
    {
     "name": "stdout",
     "output_type": "stream",
     "text": [
      "{'name': 'Anirban', 'desig': 'Developer', 'location': 'Pune', 'qualification': 'Masters'} 4 <class 'dict'> 2400919498816\n",
      "Pune\n",
      "None\n",
      "Not available\n",
      "Pune\n",
      "Developer\n"
     ]
    },
    {
     "ename": "KeyError",
     "evalue": "'salary'",
     "output_type": "error",
     "traceback": [
      "\u001b[1;31m---------------------------------------------------------------------------\u001b[0m",
      "\u001b[1;31mKeyError\u001b[0m                                  Traceback (most recent call last)",
      "\u001b[1;32m<ipython-input-188-338ea67834e9>\u001b[0m in \u001b[0;36m<module>\u001b[1;34m\u001b[0m\n\u001b[0;32m      6\u001b[0m \u001b[0mprint\u001b[0m \u001b[1;33m(\u001b[0m\u001b[0mdict1\u001b[0m\u001b[1;33m[\u001b[0m\u001b[1;34m'location'\u001b[0m\u001b[1;33m]\u001b[0m\u001b[1;33m)\u001b[0m\u001b[1;33m\u001b[0m\u001b[1;33m\u001b[0m\u001b[0m\n\u001b[0;32m      7\u001b[0m \u001b[0mprint\u001b[0m \u001b[1;33m(\u001b[0m\u001b[0mdict1\u001b[0m\u001b[1;33m[\u001b[0m\u001b[1;34m'desig'\u001b[0m\u001b[1;33m]\u001b[0m\u001b[1;33m)\u001b[0m\u001b[1;33m\u001b[0m\u001b[1;33m\u001b[0m\u001b[0m\n\u001b[1;32m----> 8\u001b[1;33m \u001b[0mprint\u001b[0m \u001b[1;33m(\u001b[0m\u001b[0mdict1\u001b[0m\u001b[1;33m[\u001b[0m\u001b[1;34m'salary'\u001b[0m\u001b[1;33m]\u001b[0m\u001b[1;33m)\u001b[0m\u001b[1;33m\u001b[0m\u001b[1;33m\u001b[0m\u001b[0m\n\u001b[0m",
      "\u001b[1;31mKeyError\u001b[0m: 'salary'"
     ]
    }
   ],
   "source": [
    "dict1 = {'name':'Anirban', 'desig':'Developer', 'location':'Pune', 'qualification':'Masters'}\n",
    "print (dict1, len(dict1), type(dict1), id(dict1))\n",
    "print (dict1.get('location'))\n",
    "print (dict1.get('salary'))\n",
    "print (dict1.get('salary', 'Not available'))\n",
    "print (dict1['location'])\n",
    "print (dict1['desig'])\n",
    "print (dict1['salary'])"
   ]
  },
  {
   "cell_type": "code",
   "execution_count": 196,
   "id": "01865862-7f56-4f44-8181-c8d0043be0da",
   "metadata": {},
   "outputs": [
    {
     "name": "stdout",
     "output_type": "stream",
     "text": [
      "{'name': 'Anirban', 'desig': 'Developer', 'location': 'Pune', 'qualification': 'Masters'} 4 <class 'dict'>\n",
      "('qualification', 'Masters')\n",
      "('location', 'Pune')\n",
      "('desig', 'Developer')\n",
      "{'name': 'Anirban'} 1 <class 'dict'>\n"
     ]
    }
   ],
   "source": [
    "dict1 = {'name':'Anirban', 'desig':'Developer', 'location':'Pune', 'qualification':'Masters'}\n",
    "print (dict1, len(dict1), type(dict1))\n",
    "print (dict1.popitem())\n",
    "print (dict1.popitem())\n",
    "print (dict1.popitem())\n",
    "print (dict1, len(dict1), type(dict1))"
   ]
  },
  {
   "cell_type": "code",
   "execution_count": 195,
   "id": "467f6069-0f89-4467-8932-c88df41b85b2",
   "metadata": {},
   "outputs": [
    {
     "name": "stdout",
     "output_type": "stream",
     "text": [
      "{'name': 'Anirban', 'desig': 'Developer', 'location': 'Pune', 'qualification': 'Masters'} 4 <class 'dict'>\n",
      "Anirban\n",
      "Pune\n",
      "Masters\n",
      "{'desig': 'Developer'} 1 <class 'dict'>\n"
     ]
    }
   ],
   "source": [
    "dict1 = {'name':'Anirban', 'desig':'Developer', 'location':'Pune', 'qualification':'Masters'}\n",
    "print (dict1, len(dict1), type(dict1))\n",
    "print (dict1.pop('name'))\n",
    "print (dict1.pop('location'))\n",
    "print (dict1.pop('qualification'))\n",
    "print (dict1, len(dict1), type(dict1))"
   ]
  },
  {
   "cell_type": "code",
   "execution_count": 197,
   "id": "0c14f185-421d-45e8-b0e1-85d9c945f0e9",
   "metadata": {},
   "outputs": [
    {
     "name": "stdout",
     "output_type": "stream",
     "text": [
      "{'name': 'Anirban', 'desig': 'Developer', 'location': 'Pune', 'qualification': 'Masters'} 4 <class 'dict'>\n",
      "{} 0 <class 'dict'>\n"
     ]
    }
   ],
   "source": [
    "dict1 = {'name':'Anirban', 'desig':'Developer', 'location':'Pune', 'qualification':'Masters'}\n",
    "print (dict1, len(dict1), type(dict1))\n",
    "dict1.clear()\n",
    "print (dict1, len(dict1), type(dict1))"
   ]
  },
  {
   "cell_type": "code",
   "execution_count": 198,
   "id": "441f9496-84b0-4093-8fa6-d9ea8bb7b650",
   "metadata": {},
   "outputs": [
    {
     "name": "stdout",
     "output_type": "stream",
     "text": [
      "{'name': 'Anirban', 'desig': 'Developer', 'location': 'Pune', 'qualification': 'Masters'} 4 <class 'dict'>\n"
     ]
    },
    {
     "ename": "NameError",
     "evalue": "name 'dict1' is not defined",
     "output_type": "error",
     "traceback": [
      "\u001b[1;31m---------------------------------------------------------------------------\u001b[0m",
      "\u001b[1;31mNameError\u001b[0m                                 Traceback (most recent call last)",
      "\u001b[1;32m<ipython-input-198-9997c7b99de6>\u001b[0m in \u001b[0;36m<module>\u001b[1;34m\u001b[0m\n\u001b[0;32m      2\u001b[0m \u001b[0mprint\u001b[0m \u001b[1;33m(\u001b[0m\u001b[0mdict1\u001b[0m\u001b[1;33m,\u001b[0m \u001b[0mlen\u001b[0m\u001b[1;33m(\u001b[0m\u001b[0mdict1\u001b[0m\u001b[1;33m)\u001b[0m\u001b[1;33m,\u001b[0m \u001b[0mtype\u001b[0m\u001b[1;33m(\u001b[0m\u001b[0mdict1\u001b[0m\u001b[1;33m)\u001b[0m\u001b[1;33m)\u001b[0m\u001b[1;33m\u001b[0m\u001b[1;33m\u001b[0m\u001b[0m\n\u001b[0;32m      3\u001b[0m \u001b[1;32mdel\u001b[0m \u001b[0mdict1\u001b[0m\u001b[1;33m\u001b[0m\u001b[1;33m\u001b[0m\u001b[0m\n\u001b[1;32m----> 4\u001b[1;33m \u001b[0mprint\u001b[0m \u001b[1;33m(\u001b[0m\u001b[0mdict1\u001b[0m\u001b[1;33m,\u001b[0m \u001b[0mlen\u001b[0m\u001b[1;33m(\u001b[0m\u001b[0mdict1\u001b[0m\u001b[1;33m)\u001b[0m\u001b[1;33m,\u001b[0m \u001b[0mtype\u001b[0m\u001b[1;33m(\u001b[0m\u001b[0mdict1\u001b[0m\u001b[1;33m)\u001b[0m\u001b[1;33m)\u001b[0m\u001b[1;33m\u001b[0m\u001b[1;33m\u001b[0m\u001b[0m\n\u001b[0m",
      "\u001b[1;31mNameError\u001b[0m: name 'dict1' is not defined"
     ]
    }
   ],
   "source": [
    "dict1 = {'name':'Anirban', 'desig':'Developer', 'location':'Pune', 'qualification':'Masters'}\n",
    "print (dict1, len(dict1), type(dict1))\n",
    "del dict1\n",
    "print (dict1, len(dict1), type(dict1))"
   ]
  },
  {
   "cell_type": "code",
   "execution_count": 199,
   "id": "bdf426f4-2160-42b9-81ce-051247210283",
   "metadata": {},
   "outputs": [
    {
     "name": "stdout",
     "output_type": "stream",
     "text": [
      "{'Key1': 100, 'Key4': 100, 'Key3': 100, 'Key5': 100} 4 <class 'dict'>\n"
     ]
    }
   ],
   "source": [
    "mykeys = ['Key1', 'Key4', 'Key3', 'Key5']\n",
    "value = 100\n",
    "dict1 = dict.fromkeys(mykeys, value)\n",
    "print (dict1, len(dict1), type(dict1))"
   ]
  },
  {
   "cell_type": "code",
   "execution_count": 201,
   "id": "2e8b029c-403a-4102-b646-f98396233103",
   "metadata": {},
   "outputs": [
    {
     "name": "stdout",
     "output_type": "stream",
     "text": [
      "{'Key1': [100, 400, 500, 100], 'Key4': [100, 400, 500, 100], 'Key3': [100, 400, 500, 100], 'Key5': [100, 400, 500, 100]} 4 <class 'dict'>\n"
     ]
    }
   ],
   "source": [
    "mykeys = ['Key1', 'Key4', 'Key3', 'Key5']\n",
    "values = [100, 400, 500, 100]\n",
    "dict1 = dict.fromkeys(mykeys, values)\n",
    "print (dict1, len(dict1), type(dict1))"
   ]
  },
  {
   "cell_type": "code",
   "execution_count": 204,
   "id": "b1b39317-49b1-4c1c-8182-3f067609cc3e",
   "metadata": {},
   "outputs": [
    {
     "name": "stdout",
     "output_type": "stream",
     "text": [
      "{'name': 'Anirban', 'desig': 'Developer', 'location': 'Pune', 'qualification': 'Masters'} 4\n",
      "{'name': 'Anirban', 'desig': 'Developer', 'location': 'Pune', 'qualification': 'Masters'} 4\n",
      "{'name': 'Anirban', 'desig': 'Developer', 'location': 'Pune', 'qualification': 'Masters', 'salary': 55000} 5\n"
     ]
    }
   ],
   "source": [
    "dict1 = {'name':'Anirban', 'desig':'Developer', 'location':'Pune', 'qualification':'Masters'}\n",
    "print (dict1, len(dict1))\n",
    "dict1.setdefault('location', 'Mumbai')\n",
    "print (dict1, len(dict1))\n",
    "dict1.setdefault('salary', 55000)\n",
    "print (dict1, len(dict1))"
   ]
  },
  {
   "cell_type": "code",
   "execution_count": 212,
   "id": "f0ce6fe0-75ef-467c-84fa-d021eab1f0a0",
   "metadata": {},
   "outputs": [
    {
     "name": "stdout",
     "output_type": "stream",
     "text": [
      "<zip object at 0x0000022F02226040>\n",
      "[('apple', 300), ('pineapple', 500), ('lemon', 600), ('mango', 100)]\n",
      "(('apple', 300), ('pineapple', 500), ('lemon', 600), ('mango', 100))\n",
      "{'apple': 300, 'pineapple': 500, 'lemon': 600, 'mango': 100}\n",
      "{'apple': 300, 'pineapple': 500, 'lemon': 600, 'mango': 100}\n",
      "{'apple': 300, 'pineapple': 500, 'lemon': 600, 'mango': 100}\n"
     ]
    }
   ],
   "source": [
    "fruits = ['apple', 'pineapple', 'lemon', 'mango', 'Lime', 'Orange']\n",
    "prices = [300, 500, 600, 100]\n",
    "print (zip(fruits, prices))\n",
    "print (list(zip(fruits, prices)))\n",
    "print (tuple(zip(fruits, prices)))\n",
    "print (dict(list(zip(fruits, prices))))\n",
    "print (dict(tuple(zip(fruits, prices))))\n",
    "print (dict(zip(fruits, prices)))"
   ]
  },
  {
   "cell_type": "code",
   "execution_count": 214,
   "id": "1804a5e4-742a-405d-9047-6e875da78c50",
   "metadata": {},
   "outputs": [
    {
     "name": "stdout",
     "output_type": "stream",
     "text": [
      "{'name': 'Anirban', 'desig': 'Developer'} 2\n",
      "{'location': 'Pune', 'qualification': 'Masters'} 2\n",
      "{'name': 'Anirban', 'desig': 'Developer', 'location': 'Pune', 'qualification': 'Masters'} 4\n"
     ]
    }
   ],
   "source": [
    "dict1 = {'name':'Anirban', 'desig':'Developer'}\n",
    "print (dict1, len(dict1))\n",
    "dict2 = {'location':'Pune', 'qualification':'Masters'}\n",
    "print (dict2, len(dict2))\n",
    "dict1.update(dict2)\n",
    "print (dict1, len(dict1))"
   ]
  },
  {
   "cell_type": "code",
   "execution_count": null,
   "id": "07bc58ce-1483-4be9-b41a-1a79714d0e6c",
   "metadata": {},
   "outputs": [],
   "source": [
    "Class Assignment:\n",
    "Find the frequency of each distinct character in a user given string.\n",
    "Example:\n",
    "    Input: missiccippi\n",
    "    Output: m -> 1, s -> 2, c -> 2, p -> 2, i -> 4"
   ]
  },
  {
   "cell_type": "code",
   "execution_count": 215,
   "id": "c2c56c5e-9145-4c01-9bcf-a2a1bee7a689",
   "metadata": {},
   "outputs": [
    {
     "name": "stdout",
     "output_type": "stream",
     "text": [
      "Character m with frequency -> 1...\n",
      "Character i with frequency -> 4...\n",
      "Character s with frequency -> 2...\n",
      "Character c with frequency -> 2...\n",
      "Character p with frequency -> 2...\n",
      "End of the program...\n"
     ]
    }
   ],
   "source": [
    "myword = \"missiccippi\"\n",
    "char_dict = {}\n",
    "for ch in myword:\n",
    "    if (ch in char_dict):\n",
    "        char_dict[ch] += 1\n",
    "    else:\n",
    "        char_dict[ch] = 1\n",
    "for items in char_dict.items():\n",
    "    print (f\"Character {items[0]} with frequency -> {items[1]}...\")\n",
    "print (\"End of the program...\")"
   ]
  },
  {
   "cell_type": "markdown",
   "id": "8e10bb21-450e-44e8-9d29-3bd2476601a4",
   "metadata": {},
   "source": [
    "#### Dealing Set"
   ]
  },
  {
   "cell_type": "code",
   "execution_count": 219,
   "id": "c5bde244-54dd-43dd-8d51-cc314a465261",
   "metadata": {},
   "outputs": [
    {
     "name": "stdout",
     "output_type": "stream",
     "text": [
      "{'mango', 'coconut', 'guava', 'pineapple'} 4 <class 'set'> 2400928700224\n"
     ]
    }
   ],
   "source": [
    "# creating set from a list\n",
    "fruits = ['coconut', 'mango', 'guava', 'pineapple', 'mango', 'guava', 'pineapple']\n",
    "set1 = set(fruits)\n",
    "print (set1, len(set1), type(set1), id(set1))"
   ]
  },
  {
   "cell_type": "code",
   "execution_count": 220,
   "id": "68acfad4-93d8-41f4-a35b-6998b5767d1f",
   "metadata": {},
   "outputs": [
    {
     "name": "stdout",
     "output_type": "stream",
     "text": [
      "{'mango', 'coconut', 'guava', 'pineapple'} 4 <class 'set'> 2400928700672\n"
     ]
    }
   ],
   "source": [
    "# creating set directly\n",
    "set1 = {'coconut', 'mango', 'guava', 'pineapple', 'mango', 'guava', 'pineapple'}\n",
    "print (set1, len(set1), type(set1), id(set1))"
   ]
  },
  {
   "cell_type": "code",
   "execution_count": 229,
   "id": "ea767c86-061a-44cb-a0ac-d519dda188cd",
   "metadata": {},
   "outputs": [
    {
     "name": "stdout",
     "output_type": "stream",
     "text": [
      "{'viper', 'cobra', 'python'} 3 <class 'set'>\n",
      "{'c++', 'python', 'java'} 3 <class 'set'>\n",
      "{'python', 'java', 'c++', 'viper', 'cobra'} 5 <class 'set'>\n",
      "{'python', 'java', 'c++', 'viper', 'cobra'} 5 <class 'set'>\n",
      "{'viper', 'cobra', 'python'} 3 <class 'set'>\n",
      "{'c++', 'python', 'java'} 3 <class 'set'>\n"
     ]
    }
   ],
   "source": [
    "# set operation - union\n",
    "snakes = set(['viper', 'cobra', 'python'])\n",
    "languages = set(['java', 'python', 'c++'])\n",
    "print (snakes, len(snakes), type(snakes))\n",
    "print (languages, len(languages), type(languages))\n",
    "result = snakes.union(languages)\n",
    "print (result, len(result), type(result))\n",
    "result = snakes | languages\n",
    "print (result, len(result), type(result))\n",
    "print (snakes, len(snakes), type(snakes))\n",
    "print (languages, len(languages), type(languages))"
   ]
  },
  {
   "cell_type": "code",
   "execution_count": 233,
   "id": "95c5c9cc-605c-4b2e-8aa7-8e362fd68681",
   "metadata": {},
   "outputs": [
    {
     "name": "stdout",
     "output_type": "stream",
     "text": [
      "{'viper', 'cobra', 'python'} 3 <class 'set'>\n",
      "{'c++', 'python', 'java'} 3 <class 'set'>\n",
      "{'python'} 1 <class 'set'>\n",
      "{'python'} 1 <class 'set'>\n",
      "--------------------------------------------\n",
      "{'c++', 'python', 'java'} 3 <class 'set'>\n",
      "{'python'} 1 <class 'set'>\n"
     ]
    }
   ],
   "source": [
    "# set operation - intersection\n",
    "snakes = set(['viper', 'cobra', 'python'])\n",
    "languages = set(['java', 'python', 'c++'])\n",
    "print (snakes, len(snakes), type(snakes))\n",
    "print (languages, len(languages), type(languages))\n",
    "result = snakes.intersection(languages)\n",
    "print (result, len(result), type(result))\n",
    "result = snakes & languages\n",
    "print (result, len(result), type(result))\n",
    "print (\"--------------------------------------------\")\n",
    "snakes.intersection_update(languages)\n",
    "print (languages, len(languages), type(languages))\n",
    "print (snakes, len(snakes), type(snakes))"
   ]
  },
  {
   "cell_type": "code",
   "execution_count": 236,
   "id": "22f35055-4dcc-457b-ae22-082a9095f7ac",
   "metadata": {},
   "outputs": [
    {
     "name": "stdout",
     "output_type": "stream",
     "text": [
      "{'viper', 'cobra', 'python'} 3 <class 'set'>\n",
      "{'c++', 'python', 'java'} 3 <class 'set'>\n",
      "{'viper', 'cobra'} 2 <class 'set'>\n",
      "{'viper', 'cobra'} 2 <class 'set'>\n",
      "--------------------------------------------\n",
      "{'c++', 'python', 'java'} 3 <class 'set'>\n",
      "{'viper', 'cobra'} 2 <class 'set'>\n"
     ]
    }
   ],
   "source": [
    "# set operation - difference\n",
    "snakes = set(['viper', 'cobra', 'python'])\n",
    "languages = set(['java', 'python', 'c++'])\n",
    "print (snakes, len(snakes), type(snakes))\n",
    "print (languages, len(languages), type(languages))\n",
    "result = snakes.difference(languages)\n",
    "print (result, len(result), type(result))\n",
    "result = snakes - languages\n",
    "print (result, len(result), type(result))\n",
    "print (\"--------------------------------------------\")\n",
    "snakes.difference_update(languages)\n",
    "print (languages, len(languages), type(languages))\n",
    "print (snakes, len(snakes), type(snakes))"
   ]
  },
  {
   "cell_type": "code",
   "execution_count": 238,
   "id": "8fd5e713-a530-41e2-ab35-ff73974674ff",
   "metadata": {},
   "outputs": [
    {
     "name": "stdout",
     "output_type": "stream",
     "text": [
      "{'viper', 'cobra', 'python'} 3 <class 'set'>\n",
      "{'c++', 'python', 'java'} 3 <class 'set'>\n",
      "{'c++', 'java', 'viper', 'cobra'} 4 <class 'set'>\n",
      "{'c++', 'java', 'viper', 'cobra'} 4 <class 'set'>\n",
      "--------------------------------------------\n",
      "{'c++', 'python', 'java'} 3 <class 'set'>\n",
      "{'c++', 'viper', 'cobra', 'java'} 4 <class 'set'>\n"
     ]
    }
   ],
   "source": [
    "# set operation - symmetric difference\n",
    "snakes = set(['viper', 'cobra', 'python'])\n",
    "languages = set(['java', 'python', 'c++'])\n",
    "print (snakes, len(snakes), type(snakes))\n",
    "print (languages, len(languages), type(languages))\n",
    "result = snakes.symmetric_difference(languages)\n",
    "print (result, len(result), type(result))\n",
    "result = snakes ^ languages\n",
    "print (result, len(result), type(result))\n",
    "print (\"--------------------------------------------\")\n",
    "snakes.symmetric_difference_update(languages)\n",
    "print (languages, len(languages), type(languages))\n",
    "print (snakes, len(snakes), type(snakes))"
   ]
  },
  {
   "cell_type": "code",
   "execution_count": 246,
   "id": "672e8320-a6bb-4948-a912-5a92aa6889b1",
   "metadata": {},
   "outputs": [
    {
     "name": "stdout",
     "output_type": "stream",
     "text": [
      "{100, 200, 300, 400, 500} 5\n",
      "{400, 100, 300} 3\n",
      "{600, 800, 900} 3\n",
      "False True\n",
      "False True\n",
      "True False\n"
     ]
    }
   ],
   "source": [
    "set1 = set([100, 200, 300, 500, 400])\n",
    "set2 = set([300, 400, 100])\n",
    "set3 = set([600, 900, 800])\n",
    "print (set1, len(set1))\n",
    "print (set2, len(set2))\n",
    "print (set3, len(set3))\n",
    "print (set1.issubset(set2), set2.issubset(set1))\n",
    "print (set1.isdisjoint(set2), set1.isdisjoint(set3))\n",
    "print (set1.issuperset(set2), set2.issuperset(set1))"
   ]
  },
  {
   "cell_type": "code",
   "execution_count": 248,
   "id": "f7dc12e8-675c-41c0-95c3-cfb7418d8d55",
   "metadata": {},
   "outputs": [
    {
     "name": "stdout",
     "output_type": "stream",
     "text": [
      "{'c++', 'python', 'java'} 3\n",
      "{'haskel', 'prolog', 'c++', 'python', 'java', 'golang'} 6 <class 'set'>\n"
     ]
    }
   ],
   "source": [
    "languages = set(['java', 'python', 'c++'])\n",
    "print (languages, len(languages))\n",
    "languages.add('prolog')\n",
    "languages.add('haskel')\n",
    "languages.add('golang')\n",
    "print (languages, len(languages), type(languages))"
   ]
  },
  {
   "cell_type": "code",
   "execution_count": 251,
   "id": "8a2db276-d258-43fa-b6bc-3b0add0a14c2",
   "metadata": {},
   "outputs": [
    {
     "name": "stdout",
     "output_type": "stream",
     "text": [
      "{'haskel', 'prolog', 'c++', 'java', 'python', 'golang'} 6\n",
      "haskel\n",
      "{'prolog', 'c++', 'java', 'python', 'golang'} 5\n",
      "prolog\n",
      "{'c++', 'java', 'python', 'golang'} 4\n",
      "c++\n",
      "{'java', 'python', 'golang'} 3\n",
      "java\n",
      "{'python', 'golang'} 2\n"
     ]
    }
   ],
   "source": [
    "languages = set(['haskel', 'prolog', 'c++', 'python', 'java', 'golang'])\n",
    "print (languages, len(languages))\n",
    "print (languages.pop())\n",
    "print (languages, len(languages))\n",
    "print (languages.pop())\n",
    "print (languages, len(languages))\n",
    "print (languages.pop())\n",
    "print (languages, len(languages))\n",
    "print (languages.pop())\n",
    "print (languages, len(languages))"
   ]
  },
  {
   "cell_type": "code",
   "execution_count": 252,
   "id": "1e8754ae-07f2-40e8-92c4-9acf25185c76",
   "metadata": {},
   "outputs": [
    {
     "name": "stdout",
     "output_type": "stream",
     "text": [
      "{'haskel', 'prolog', 'c++', 'java', 'python', 'golang'} 6\n",
      "{'haskel', 'prolog', 'java', 'python', 'golang'} 5\n",
      "{'haskel', 'java', 'python', 'golang'} 4\n",
      "{'haskel', 'java', 'golang'} 3\n"
     ]
    }
   ],
   "source": [
    "languages = set(['haskel', 'prolog', 'c++', 'python', 'java', 'golang'])\n",
    "print (languages, len(languages))\n",
    "languages.remove('c++')\n",
    "print (languages, len(languages))\n",
    "languages.remove('prolog')\n",
    "print (languages, len(languages))\n",
    "languages.remove('python')\n",
    "print (languages, len(languages))"
   ]
  },
  {
   "cell_type": "code",
   "execution_count": 259,
   "id": "477c17fa-5619-4a05-811c-5bbe45590a05",
   "metadata": {},
   "outputs": [
    {
     "name": "stdout",
     "output_type": "stream",
     "text": [
      "{'haskel', 'prolog', 'c++', 'java', 'python', 'golang'} 6\n",
      "{'prolog', 'c++', 'java', 'python', 'golang'} 5\n",
      "{'prolog', 'c++', 'java', 'python', 'golang'} 5\n",
      "{'prolog', 'c++', 'python', 'golang'} 4\n"
     ]
    },
    {
     "ename": "KeyError",
     "evalue": "'c'",
     "output_type": "error",
     "traceback": [
      "\u001b[1;31m---------------------------------------------------------------------------\u001b[0m",
      "\u001b[1;31mKeyError\u001b[0m                                  Traceback (most recent call last)",
      "\u001b[1;32m<ipython-input-259-47f4896b0a22>\u001b[0m in \u001b[0;36m<module>\u001b[1;34m\u001b[0m\n\u001b[0;32m      7\u001b[0m \u001b[0mlanguages\u001b[0m\u001b[1;33m.\u001b[0m\u001b[0mremove\u001b[0m\u001b[1;33m(\u001b[0m\u001b[1;34m'java'\u001b[0m\u001b[1;33m)\u001b[0m\u001b[1;33m\u001b[0m\u001b[1;33m\u001b[0m\u001b[0m\n\u001b[0;32m      8\u001b[0m \u001b[0mprint\u001b[0m \u001b[1;33m(\u001b[0m\u001b[0mlanguages\u001b[0m\u001b[1;33m,\u001b[0m \u001b[0mlen\u001b[0m\u001b[1;33m(\u001b[0m\u001b[0mlanguages\u001b[0m\u001b[1;33m)\u001b[0m\u001b[1;33m)\u001b[0m\u001b[1;33m\u001b[0m\u001b[1;33m\u001b[0m\u001b[0m\n\u001b[1;32m----> 9\u001b[1;33m \u001b[0mlanguages\u001b[0m\u001b[1;33m.\u001b[0m\u001b[0mremove\u001b[0m\u001b[1;33m(\u001b[0m\u001b[1;34m'c'\u001b[0m\u001b[1;33m)\u001b[0m\u001b[1;33m\u001b[0m\u001b[1;33m\u001b[0m\u001b[0m\n\u001b[0m",
      "\u001b[1;31mKeyError\u001b[0m: 'c'"
     ]
    }
   ],
   "source": [
    "languages = set(['haskel', 'prolog', 'c++', 'python', 'java', 'golang'])\n",
    "print (languages, len(languages))\n",
    "languages.discard('haskel')\n",
    "print (languages, len(languages))\n",
    "languages.discard('fortran')\n",
    "print (languages, len(languages))\n",
    "languages.remove('java')\n",
    "print (languages, len(languages))\n",
    "languages.remove('c')"
   ]
  },
  {
   "cell_type": "code",
   "execution_count": 253,
   "id": "b1103001-3ccd-4fb7-b2ef-299f105568b5",
   "metadata": {},
   "outputs": [
    {
     "name": "stdout",
     "output_type": "stream",
     "text": [
      "{'haskel', 'prolog', 'c++', 'java', 'python', 'golang'} 6\n",
      "set() 0\n"
     ]
    }
   ],
   "source": [
    "languages = set(['haskel', 'prolog', 'c++', 'python', 'java', 'golang'])\n",
    "print (languages, len(languages))\n",
    "languages.clear()\n",
    "print (languages, len(languages))"
   ]
  },
  {
   "cell_type": "code",
   "execution_count": 254,
   "id": "fc46d08b-fe0c-475d-88e4-f38f96df2abf",
   "metadata": {},
   "outputs": [
    {
     "name": "stdout",
     "output_type": "stream",
     "text": [
      "{'haskel', 'prolog', 'c++', 'java', 'python', 'golang'} 6\n"
     ]
    },
    {
     "ename": "NameError",
     "evalue": "name 'languages' is not defined",
     "output_type": "error",
     "traceback": [
      "\u001b[1;31m---------------------------------------------------------------------------\u001b[0m",
      "\u001b[1;31mNameError\u001b[0m                                 Traceback (most recent call last)",
      "\u001b[1;32m<ipython-input-254-8cce58e257c5>\u001b[0m in \u001b[0;36m<module>\u001b[1;34m\u001b[0m\n\u001b[0;32m      2\u001b[0m \u001b[0mprint\u001b[0m \u001b[1;33m(\u001b[0m\u001b[0mlanguages\u001b[0m\u001b[1;33m,\u001b[0m \u001b[0mlen\u001b[0m\u001b[1;33m(\u001b[0m\u001b[0mlanguages\u001b[0m\u001b[1;33m)\u001b[0m\u001b[1;33m)\u001b[0m\u001b[1;33m\u001b[0m\u001b[1;33m\u001b[0m\u001b[0m\n\u001b[0;32m      3\u001b[0m \u001b[1;32mdel\u001b[0m \u001b[0mlanguages\u001b[0m\u001b[1;33m\u001b[0m\u001b[1;33m\u001b[0m\u001b[0m\n\u001b[1;32m----> 4\u001b[1;33m \u001b[0mprint\u001b[0m \u001b[1;33m(\u001b[0m\u001b[0mlanguages\u001b[0m\u001b[1;33m,\u001b[0m \u001b[0mlen\u001b[0m\u001b[1;33m(\u001b[0m\u001b[0mlanguages\u001b[0m\u001b[1;33m)\u001b[0m\u001b[1;33m)\u001b[0m\u001b[1;33m\u001b[0m\u001b[1;33m\u001b[0m\u001b[0m\n\u001b[0m",
      "\u001b[1;31mNameError\u001b[0m: name 'languages' is not defined"
     ]
    }
   ],
   "source": [
    "languages = set(['haskel', 'prolog', 'c++', 'python', 'java', 'golang'])\n",
    "print (languages, len(languages))\n",
    "del languages\n",
    "print (languages, len(languages))"
   ]
  },
  {
   "cell_type": "code",
   "execution_count": 255,
   "id": "0551833b-bf0f-403e-ac28-3c253bdc124e",
   "metadata": {},
   "outputs": [
    {
     "name": "stdout",
     "output_type": "stream",
     "text": [
      "{'haskel', 'prolog', 'c++', 'java', 'python', 'golang'} 6\n",
      "{'haskel', 'prolog', 'c++', 'java', 'golang'} 5\n",
      "{'haskel', 'prolog', 'c++', 'java', 'golang', 'python 11.0'} 6\n"
     ]
    }
   ],
   "source": [
    "languages = set(['haskel', 'prolog', 'c++', 'python', 'java', 'golang'])\n",
    "print (languages, len(languages))\n",
    "languages.remove('python')\n",
    "print (languages, len(languages))\n",
    "languages.add('python 11.0')\n",
    "print (languages, len(languages))"
   ]
  },
  {
   "cell_type": "code",
   "execution_count": 261,
   "id": "40698235-34e4-401e-89ec-82fbd66a8004",
   "metadata": {},
   "outputs": [
    {
     "name": "stdout",
     "output_type": "stream",
     "text": [
      "{'cobol', 'python', 'perl'} 3\n",
      "{'c++', 'r', 'kotlin'} 3\n",
      "{'r', 'python', 'kotlin', 'cobol', 'c++', 'perl'} 6\n",
      "{'c++', 'r', 'kotlin'} 3\n"
     ]
    }
   ],
   "source": [
    "set1 = set(['perl', 'python', 'cobol'])\n",
    "print (set1, len(set1))\n",
    "set2 = set(['c++', 'r', 'kotlin'])\n",
    "print (set2, len(set2))\n",
    "set1.update(set2)\n",
    "print (set1, len(set1))\n",
    "print (set2, len(set2))"
   ]
  },
  {
   "cell_type": "markdown",
   "id": "3f09fc0c-7fe7-417c-9494-5d5d88f79d31",
   "metadata": {},
   "source": [
    "#### Dealing Frozen Set"
   ]
  },
  {
   "cell_type": "code",
   "execution_count": 221,
   "id": "8e92d184-2e0a-4ed6-a507-23e26cca78bc",
   "metadata": {},
   "outputs": [
    {
     "name": "stdout",
     "output_type": "stream",
     "text": [
      "frozenset({'mango', 'coconut', 'guava', 'pineapple'}) 4 <class 'frozenset'> 2400928698656\n"
     ]
    }
   ],
   "source": [
    "# creating frozenset from a list\n",
    "fruits = ['coconut', 'mango', 'guava', 'pineapple', 'mango', 'guava', 'pineapple']\n",
    "set1 = frozenset(fruits)\n",
    "print (set1, len(set1), type(set1), id(set1))"
   ]
  },
  {
   "cell_type": "code",
   "execution_count": 223,
   "id": "9772a7f5-ea1c-4cd1-b7b4-858d868bb242",
   "metadata": {},
   "outputs": [
    {
     "name": "stdout",
     "output_type": "stream",
     "text": [
      "frozenset({'mango', 'coconut', 'guava', 'pineapple'}) 4 <class 'frozenset'> 2400928700224\n"
     ]
    }
   ],
   "source": [
    "set1 = frozenset(['coconut', 'mango', 'guava', 'pineapple', 'mango', 'guava', 'pineapple'])\n",
    "print (set1, len(set1), type(set1), id(set1))"
   ]
  },
  {
   "cell_type": "code",
   "execution_count": 234,
   "id": "df501cad-021b-43a6-99cb-712cbf7d2cba",
   "metadata": {},
   "outputs": [
    {
     "name": "stdout",
     "output_type": "stream",
     "text": [
      "frozenset({'viper', 'cobra', 'python'}) 3 <class 'frozenset'>\n",
      "frozenset({'c++', 'python', 'java'}) 3 <class 'frozenset'>\n",
      "frozenset({'python', 'java', 'c++', 'viper', 'cobra'}) 5 <class 'frozenset'>\n",
      "frozenset({'python', 'java', 'c++', 'viper', 'cobra'}) 5 <class 'frozenset'>\n",
      "frozenset({'viper', 'cobra', 'python'}) 3 <class 'frozenset'>\n",
      "frozenset({'c++', 'python', 'java'}) 3 <class 'frozenset'>\n"
     ]
    }
   ],
   "source": [
    "# frozenset operation - union\n",
    "snakes = frozenset(['viper', 'cobra', 'python'])\n",
    "languages = frozenset(['java', 'python', 'c++'])\n",
    "print (snakes, len(snakes), type(snakes))\n",
    "print (languages, len(languages), type(languages))\n",
    "result = snakes.union(languages)\n",
    "print (result, len(result), type(result))\n",
    "result = snakes | languages\n",
    "print (result, len(result), type(result))\n",
    "print (snakes, len(snakes), type(snakes))\n",
    "print (languages, len(languages), type(languages))"
   ]
  },
  {
   "cell_type": "code",
   "execution_count": 235,
   "id": "9b94bade-3c15-464e-ade8-6ff20981588d",
   "metadata": {},
   "outputs": [
    {
     "name": "stdout",
     "output_type": "stream",
     "text": [
      "frozenset({'viper', 'cobra', 'python'}) 3 <class 'frozenset'>\n",
      "frozenset({'c++', 'python', 'java'}) 3 <class 'frozenset'>\n",
      "frozenset({'python'}) 1 <class 'frozenset'>\n",
      "frozenset({'python'}) 1 <class 'frozenset'>\n"
     ]
    }
   ],
   "source": [
    "# frozenset operation - intersection\n",
    "snakes = frozenset(['viper', 'cobra', 'python'])\n",
    "languages = frozenset(['java', 'python', 'c++'])\n",
    "print (snakes, len(snakes), type(snakes))\n",
    "print (languages, len(languages), type(languages))\n",
    "result = snakes.intersection(languages)\n",
    "print (result, len(result), type(result))\n",
    "result = snakes & languages\n",
    "print (result, len(result), type(result))"
   ]
  },
  {
   "cell_type": "code",
   "execution_count": 237,
   "id": "ba8c6250-f011-429c-b7f6-110778a6b8ee",
   "metadata": {},
   "outputs": [
    {
     "name": "stdout",
     "output_type": "stream",
     "text": [
      "frozenset({'viper', 'cobra', 'python'}) 3 <class 'frozenset'>\n",
      "frozenset({'c++', 'python', 'java'}) 3 <class 'frozenset'>\n",
      "frozenset({'viper', 'cobra'}) 2 <class 'frozenset'>\n",
      "frozenset({'viper', 'cobra'}) 2 <class 'frozenset'>\n"
     ]
    }
   ],
   "source": [
    "# frozenset operation - difference\n",
    "snakes = frozenset(['viper', 'cobra', 'python'])\n",
    "languages = frozenset(['java', 'python', 'c++'])\n",
    "print (snakes, len(snakes), type(snakes))\n",
    "print (languages, len(languages), type(languages))\n",
    "result = snakes.difference(languages)\n",
    "print (result, len(result), type(result))\n",
    "result = snakes - languages\n",
    "print (result, len(result), type(result))"
   ]
  },
  {
   "cell_type": "code",
   "execution_count": 240,
   "id": "c168ade1-ffda-448c-b0e7-adb7c0239a36",
   "metadata": {},
   "outputs": [
    {
     "name": "stdout",
     "output_type": "stream",
     "text": [
      "frozenset({'viper', 'cobra', 'python'}) 3 <class 'frozenset'>\n",
      "frozenset({'c++', 'python', 'java'}) 3 <class 'frozenset'>\n",
      "frozenset({'c++', 'java', 'viper', 'cobra'}) 4 <class 'frozenset'>\n",
      "frozenset({'c++', 'java', 'viper', 'cobra'}) 4 <class 'frozenset'>\n"
     ]
    }
   ],
   "source": [
    "# frozenset operation - symmetric difference\n",
    "snakes = frozenset(['viper', 'cobra', 'python'])\n",
    "languages = frozenset(['java', 'python', 'c++'])\n",
    "print (snakes, len(snakes), type(snakes))\n",
    "print (languages, len(languages), type(languages))\n",
    "result = snakes.symmetric_difference(languages)\n",
    "print (result, len(result), type(result))\n",
    "result = snakes ^ languages\n",
    "print (result, len(result), type(result))"
   ]
  },
  {
   "cell_type": "code",
   "execution_count": 247,
   "id": "f32439a9-1798-4e27-aaf9-459279040e06",
   "metadata": {},
   "outputs": [
    {
     "name": "stdout",
     "output_type": "stream",
     "text": [
      "frozenset({100, 200, 300, 400, 500}) 5\n",
      "frozenset({400, 100, 300}) 3\n",
      "frozenset({600, 800, 900}) 3\n",
      "False True\n",
      "False True\n",
      "True False\n"
     ]
    }
   ],
   "source": [
    "set1 = frozenset([100, 200, 300, 500, 400])\n",
    "set2 = frozenset([300, 400, 100])\n",
    "set3 = frozenset([600, 900, 800])\n",
    "print (set1, len(set1))\n",
    "print (set2, len(set2))\n",
    "print (set3, len(set3))\n",
    "print (set1.issubset(set2), set2.issubset(set1))\n",
    "print (set1.isdisjoint(set2), set1.isdisjoint(set3))\n",
    "print (set1.issuperset(set2), set2.issuperset(set1))"
   ]
  },
  {
   "cell_type": "code",
   "execution_count": null,
   "id": "ad5eebb6-99fc-451b-b815-65c77a1ff4b1",
   "metadata": {},
   "outputs": [],
   "source": []
  }
 ],
 "metadata": {
  "kernelspec": {
   "display_name": "Python 3",
   "language": "python",
   "name": "python3"
  },
  "language_info": {
   "codemirror_mode": {
    "name": "ipython",
    "version": 3
   },
   "file_extension": ".py",
   "mimetype": "text/x-python",
   "name": "python",
   "nbconvert_exporter": "python",
   "pygments_lexer": "ipython3",
   "version": "3.8.8"
  }
 },
 "nbformat": 4,
 "nbformat_minor": 5
}
