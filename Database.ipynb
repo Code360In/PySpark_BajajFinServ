{
 "cells": [
  {
   "cell_type": "markdown",
   "id": "94576fa7-dd90-484b-837c-66cdb9594d49",
   "metadata": {},
   "source": [
    "### Database Handling with Python"
   ]
  },
  {
   "cell_type": "code",
   "execution_count": 1,
   "id": "b21fe823-ac9d-4bce-a878-8fad0e0c4d79",
   "metadata": {},
   "outputs": [
    {
     "name": "stdout",
     "output_type": "stream",
     "text": [
      "Connection with the database has been completed successfully...\n",
      "End of this section...\n"
     ]
    }
   ],
   "source": [
    "# creation of a Database\n",
    "# importing the required modules\n",
    "import sqlite3\n",
    "try:\n",
    "    # use the database if it pre-exists or create a new one\n",
    "    connection = sqlite3.connect(\"myemp.db\")\n",
    "    # as \"myemp.db\" is a databse file so extension .db has been provided\n",
    "except exception as ex:\n",
    "    print (\"Error type ->\", type(ex))\n",
    "    print (\"Error message ->\", ex)\n",
    "else:\n",
    "    print (\"Connection with the database has been completed successfully...\")\n",
    "print (\"End of this section...\")"
   ]
  },
  {
   "cell_type": "markdown",
   "id": "d80d7c3b-2a16-4767-bebe-6d35a68a5225",
   "metadata": {},
   "source": [
    "> Open the SQLite online manager from \"https://extendsclass.com/sqlite-browser.html\""
   ]
  },
  {
   "cell_type": "code",
   "execution_count": 2,
   "id": "3999fd2a-9221-4c00-85db-519aa147e521",
   "metadata": {},
   "outputs": [
    {
     "name": "stdout",
     "output_type": "stream",
     "text": [
      "The table has been created successfully...\n",
      "End of this section...\n"
     ]
    }
   ],
   "source": [
    "# create employee table as employee(emp_id, emp_name, emp_city, emp_salary)\n",
    "sqlStr = \"\"\"\n",
    "         CREATE TABLE employee (\n",
    "             emp_id INTEGER PRIMARY KEY,\n",
    "             emp_name TEXT,\n",
    "             emp_city TEXT,\n",
    "             emp_salary REAL\n",
    "         );\n",
    "         \"\"\"\n",
    "try:    # create the table if it does not pre-exist\n",
    "    connection.execute(sqlStr)\n",
    "except exception as ex:\n",
    "    print (\"Error Type ->\", type(ex))\n",
    "    print (\"Error message ->\", ex)\n",
    "else:\n",
    "    print (\"The table has been created successfully...\")\n",
    "print (\"End of this section...\")"
   ]
  },
  {
   "cell_type": "code",
   "execution_count": 11,
   "id": "8fd340b6-a90e-4ec7-8e3d-1d417fd2c666",
   "metadata": {},
   "outputs": [
    {
     "name": "stdout",
     "output_type": "stream",
     "text": [
      "<_csv.reader object at 0x00000200B1B28E80>\n",
      "[['1001', 'Dhiman', 'Kolkata', '39000'], ['1002', 'Anupam', 'Kolkata', '25000'], ['1003', 'Subham', 'Mumbai', '36000'], ['1004', 'Dinesh', 'Chennai', '28000'], ['1005', 'Kakali', 'Mumbai', '25000'], ['1006', 'Bimal', 'Hyderabad', '30000'], ['1007', 'Tarun', 'Chennai', '17000'], ['1008', 'Rittik', 'Durgapur', '45000'], ['1009', 'Barun', 'Hyderabad', '39000'], ['1010', 'Utpal', 'Lucknow', '20000']]\n",
      "0\n"
     ]
    }
   ],
   "source": [
    "# inserting records from the csv file and writing it to the database employee table\n",
    "import csv\n",
    "sqlStr = \"INSERT INTO employee VALUES ('{emp_id}, {emp_name}, {emp_city}, {emp_salary}')\"\n",
    "# read lines from the csv file and store them into the database table\n",
    "with open('emp_data.csv') as data_file:\n",
    "    csv_reader = csv.reader(data_file)\n",
    "    # reader is to read data from the csv file with , as a delimiter\n",
    "    print (csv_reader)\n",
    "    print (list(csv_reader))\n",
    "    print (len(list(csv_reader)))"
   ]
  },
  {
   "cell_type": "code",
   "execution_count": 14,
   "id": "08600c9a-b664-4342-80d8-125a7a623700",
   "metadata": {},
   "outputs": [
    {
     "name": "stdout",
     "output_type": "stream",
     "text": [
      "['1001', 'Dhiman', 'Kolkata', '39000']\n",
      "['1002', 'Anupam', 'Kolkata', '25000']\n",
      "['1003', 'Subham', 'Mumbai', '36000']\n",
      "['1004', 'Dinesh', 'Chennai', '28000']\n",
      "['1005', 'Kakali', 'Mumbai', '25000']\n",
      "['1006', 'Bimal', 'Hyderabad', '30000']\n",
      "['1007', 'Tarun', 'Chennai', '17000']\n",
      "['1008', 'Rittik', 'Durgapur', '45000']\n",
      "['1009', 'Barun', 'Hyderabad', '39000']\n",
      "['1010', 'Utpal', 'Lucknow', '20000']\n",
      "All records got inserted successfully into the employee table...\n"
     ]
    }
   ],
   "source": [
    "# inserting records from the csv file and writing it to the database employee table\n",
    "import csv\n",
    "sqlStr = \"INSERT INTO employee VALUES ('{emp_id}', '{emp_name}', '{emp_city}', '{emp_salary}');\"\n",
    "# read lines from the csv file and store them into the database table\n",
    "with open('emp_data.csv') as data_file:\n",
    "    csv_reader = csv.reader(data_file)\n",
    "    # reader is to read data from the csv file with , as a delimiter\n",
    "    for row in csv_reader:\n",
    "        print (row)\n",
    "        connection.execute(sqlStr.format(emp_id=row[0], emp_name=row[1], emp_city=row[2], emp_salary=row[3]))\n",
    "connection.commit()    # making the change permanent\n",
    "print (\"All records got inserted successfully into the employee table...\")"
   ]
  },
  {
   "cell_type": "code",
   "execution_count": 5,
   "id": "779cd6c4-aed1-435f-9b7e-dfa939b26903",
   "metadata": {},
   "outputs": [
    {
     "name": "stdout",
     "output_type": "stream",
     "text": [
      "100 + 20 = 120\n",
      "100 + 20 = 120\n"
     ]
    }
   ],
   "source": [
    "num1 = 100\n",
    "num2 = 20\n",
    "result = num1 + num2\n",
    "print(f\"{num1} + {num2} = {result}\")\n",
    "print(\"{fn} + {sn} = {tot}\".format(fn = num1, sn = num2, tot = result))"
   ]
  },
  {
   "cell_type": "code",
   "execution_count": null,
   "id": "a522548f-f49f-4f2e-80f1-e8aaf0e39254",
   "metadata": {},
   "outputs": [],
   "source": []
  },
  {
   "cell_type": "code",
   "execution_count": null,
   "id": "9d4a3725-3fe8-49d1-94cd-edcc02d12541",
   "metadata": {},
   "outputs": [],
   "source": []
  },
  {
   "cell_type": "code",
   "execution_count": null,
   "id": "e94c6aaa-9261-4700-807c-f18fdf7d1201",
   "metadata": {},
   "outputs": [],
   "source": []
  }
 ],
 "metadata": {
  "kernelspec": {
   "display_name": "Python 3",
   "language": "python",
   "name": "python3"
  },
  "language_info": {
   "codemirror_mode": {
    "name": "ipython",
    "version": 3
   },
   "file_extension": ".py",
   "mimetype": "text/x-python",
   "name": "python",
   "nbconvert_exporter": "python",
   "pygments_lexer": "ipython3",
   "version": "3.8.8"
  }
 },
 "nbformat": 4,
 "nbformat_minor": 5
}
