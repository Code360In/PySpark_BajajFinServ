{
 "cells": [
  {
   "cell_type": "markdown",
   "id": "94576fa7-dd90-484b-837c-66cdb9594d49",
   "metadata": {},
   "source": [
    "### Database Handling with Python"
   ]
  },
  {
   "cell_type": "code",
   "execution_count": 1,
   "id": "b21fe823-ac9d-4bce-a878-8fad0e0c4d79",
   "metadata": {},
   "outputs": [
    {
     "name": "stdout",
     "output_type": "stream",
     "text": [
      "Connection with the database has been completed successfully...\n",
      "End of this section...\n"
     ]
    }
   ],
   "source": [
    "# creation of a Database\n",
    "# importing the required modules\n",
    "import sqlite3\n",
    "try:\n",
    "    # use the database if it pre-exists or create a new one\n",
    "    connection = sqlite3.connect(\"myemp.db\")\n",
    "    # as \"myemp.db\" is a databse file so extension .db has been provided\n",
    "except exception as ex:\n",
    "    print (\"Error type ->\", type(ex))\n",
    "    print (\"Error message ->\", ex)\n",
    "else:\n",
    "    print (\"Connection with the database has been completed successfully...\")\n",
    "print (\"End of this section...\")"
   ]
  },
  {
   "cell_type": "markdown",
   "id": "d80d7c3b-2a16-4767-bebe-6d35a68a5225",
   "metadata": {},
   "source": [
    "> Open the SQLite online manager from \"https://extendsclass.com/sqlite-browser.html\""
   ]
  },
  {
   "cell_type": "code",
   "execution_count": null,
   "id": "3999fd2a-9221-4c00-85db-519aa147e521",
   "metadata": {},
   "outputs": [],
   "source": [
    "# create employee table as employee(emp_id, emp_name, emp_city, emp_salary)\n",
    "sqlStr = \"\"\"\n",
    "         CREATE TABLE employee (\n",
    "             emp_id INTEGER PRIMARY KEY,\n",
    "             emp_name TEXT,\n",
    "             emp_city TEXT,\n",
    "             emp_salary REAL\n",
    "         );\n",
    "         \"\"\"\n",
    "\n"
   ]
  },
  {
   "cell_type": "code",
   "execution_count": null,
   "id": "8fd340b6-a90e-4ec7-8e3d-1d417fd2c666",
   "metadata": {},
   "outputs": [],
   "source": []
  },
  {
   "cell_type": "code",
   "execution_count": null,
   "id": "779cd6c4-aed1-435f-9b7e-dfa939b26903",
   "metadata": {},
   "outputs": [],
   "source": []
  },
  {
   "cell_type": "code",
   "execution_count": null,
   "id": "a522548f-f49f-4f2e-80f1-e8aaf0e39254",
   "metadata": {},
   "outputs": [],
   "source": []
  },
  {
   "cell_type": "code",
   "execution_count": null,
   "id": "9d4a3725-3fe8-49d1-94cd-edcc02d12541",
   "metadata": {},
   "outputs": [],
   "source": []
  },
  {
   "cell_type": "code",
   "execution_count": null,
   "id": "e94c6aaa-9261-4700-807c-f18fdf7d1201",
   "metadata": {},
   "outputs": [],
   "source": []
  }
 ],
 "metadata": {
  "kernelspec": {
   "display_name": "Python 3",
   "language": "python",
   "name": "python3"
  },
  "language_info": {
   "codemirror_mode": {
    "name": "ipython",
    "version": 3
   },
   "file_extension": ".py",
   "mimetype": "text/x-python",
   "name": "python",
   "nbconvert_exporter": "python",
   "pygments_lexer": "ipython3",
   "version": "3.8.8"
  }
 },
 "nbformat": 4,
 "nbformat_minor": 5
}
