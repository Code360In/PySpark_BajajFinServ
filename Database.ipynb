{
 "cells": [
  {
   "cell_type": "markdown",
   "id": "94576fa7-dd90-484b-837c-66cdb9594d49",
   "metadata": {},
   "source": [
    "### Database Handling with Python"
   ]
  },
  {
   "cell_type": "code",
   "execution_count": 1,
   "id": "b21fe823-ac9d-4bce-a878-8fad0e0c4d79",
   "metadata": {},
   "outputs": [
    {
     "name": "stdout",
     "output_type": "stream",
     "text": [
      "Connection with the database has been completed successfully...\n",
      "End of this section...\n"
     ]
    }
   ],
   "source": [
    "# creation of a Database\n",
    "# importing the required modules\n",
    "import sqlite3\n",
    "try:\n",
    "    # use the database if it pre-exists or create a new one\n",
    "    connection = sqlite3.connect(\"myemp.db\")\n",
    "    # as \"myemp.db\" is a databse file so extension .db has been provided\n",
    "except exception as ex:\n",
    "    print (\"Error type ->\", type(ex))\n",
    "    print (\"Error message ->\", ex)\n",
    "else:\n",
    "    print (\"Connection with the database has been completed successfully...\")\n",
    "print (\"End of this section...\")"
   ]
  },
  {
   "cell_type": "markdown",
   "id": "d80d7c3b-2a16-4767-bebe-6d35a68a5225",
   "metadata": {},
   "source": [
    "> Open the SQLite online manager from \"https://extendsclass.com/sqlite-browser.html\""
   ]
  },
  {
   "cell_type": "code",
   "execution_count": 2,
   "id": "3999fd2a-9221-4c00-85db-519aa147e521",
   "metadata": {},
   "outputs": [
    {
     "name": "stdout",
     "output_type": "stream",
     "text": [
      "The table has been created successfully...\n",
      "End of this section...\n"
     ]
    }
   ],
   "source": [
    "# create employee table as employee(emp_id, emp_name, emp_city, emp_salary)\n",
    "sqlStr = \"\"\"\n",
    "         CREATE TABLE employee (\n",
    "             emp_id INTEGER PRIMARY KEY,\n",
    "             emp_name TEXT,\n",
    "             emp_city TEXT,\n",
    "             emp_salary REAL\n",
    "         );\n",
    "         \"\"\"\n",
    "try:    # create the table if it does not pre-exist\n",
    "    connection.execute(sqlStr)\n",
    "except exception as ex:\n",
    "    print (\"Error Type ->\", type(ex))\n",
    "    print (\"Error message ->\", ex)\n",
    "else:\n",
    "    print (\"The table has been created successfully...\")\n",
    "print (\"End of this section...\")"
   ]
  },
  {
   "cell_type": "code",
   "execution_count": 11,
   "id": "8fd340b6-a90e-4ec7-8e3d-1d417fd2c666",
   "metadata": {},
   "outputs": [
    {
     "name": "stdout",
     "output_type": "stream",
     "text": [
      "<_csv.reader object at 0x00000200B1B28E80>\n",
      "[['1001', 'Dhiman', 'Kolkata', '39000'], ['1002', 'Anupam', 'Kolkata', '25000'], ['1003', 'Subham', 'Mumbai', '36000'], ['1004', 'Dinesh', 'Chennai', '28000'], ['1005', 'Kakali', 'Mumbai', '25000'], ['1006', 'Bimal', 'Hyderabad', '30000'], ['1007', 'Tarun', 'Chennai', '17000'], ['1008', 'Rittik', 'Durgapur', '45000'], ['1009', 'Barun', 'Hyderabad', '39000'], ['1010', 'Utpal', 'Lucknow', '20000']]\n",
      "0\n"
     ]
    }
   ],
   "source": [
    "# inserting records from the csv file and writing it to the database employee table\n",
    "import csv\n",
    "sqlStr = \"INSERT INTO employee VALUES ('{emp_id}, {emp_name}, {emp_city}, {emp_salary}')\"\n",
    "# read lines from the csv file and store them into the database table\n",
    "with open('emp_data.csv') as data_file:\n",
    "    csv_reader = csv.reader(data_file)\n",
    "    # reader is to read data from the csv file with , as a delimiter\n",
    "    print (csv_reader)\n",
    "    print (list(csv_reader))\n",
    "    print (len(list(csv_reader)))"
   ]
  },
  {
   "cell_type": "code",
   "execution_count": 14,
   "id": "08600c9a-b664-4342-80d8-125a7a623700",
   "metadata": {},
   "outputs": [
    {
     "name": "stdout",
     "output_type": "stream",
     "text": [
      "['1001', 'Dhiman', 'Kolkata', '39000']\n",
      "['1002', 'Anupam', 'Kolkata', '25000']\n",
      "['1003', 'Subham', 'Mumbai', '36000']\n",
      "['1004', 'Dinesh', 'Chennai', '28000']\n",
      "['1005', 'Kakali', 'Mumbai', '25000']\n",
      "['1006', 'Bimal', 'Hyderabad', '30000']\n",
      "['1007', 'Tarun', 'Chennai', '17000']\n",
      "['1008', 'Rittik', 'Durgapur', '45000']\n",
      "['1009', 'Barun', 'Hyderabad', '39000']\n",
      "['1010', 'Utpal', 'Lucknow', '20000']\n",
      "All records got inserted successfully into the employee table...\n"
     ]
    }
   ],
   "source": [
    "# inserting records from the csv file and writing it to the database employee table\n",
    "import csv\n",
    "sqlStr = \"INSERT INTO employee VALUES ('{emp_id}', '{emp_name}', '{emp_city}', '{emp_salary}');\"\n",
    "# read lines from the csv file and store them into the database table\n",
    "with open('emp_data.csv') as data_file:\n",
    "    csv_reader = csv.reader(data_file)\n",
    "    # reader is to read data from the csv file with , as a delimiter\n",
    "    for row in csv_reader:\n",
    "        print (row)\n",
    "        connection.execute(sqlStr.format(emp_id=row[0], emp_name=row[1], emp_city=row[2], emp_salary=row[3]))\n",
    "connection.commit()    # making the change permanent\n",
    "print (\"All records got inserted successfully into the employee table...\")"
   ]
  },
  {
   "cell_type": "code",
   "execution_count": 5,
   "id": "779cd6c4-aed1-435f-9b7e-dfa939b26903",
   "metadata": {},
   "outputs": [
    {
     "name": "stdout",
     "output_type": "stream",
     "text": [
      "100 + 20 = 120\n",
      "100 + 20 = 120\n"
     ]
    }
   ],
   "source": [
    "num1 = 100\n",
    "num2 = 20\n",
    "result = num1 + num2\n",
    "print(f\"{num1} + {num2} = {result}\")\n",
    "print(\"{fn} + {sn} = {tot}\".format(fn = num1, sn = num2, tot = result))"
   ]
  },
  {
   "cell_type": "code",
   "execution_count": 15,
   "id": "a522548f-f49f-4f2e-80f1-e8aaf0e39254",
   "metadata": {},
   "outputs": [
    {
     "name": "stdout",
     "output_type": "stream",
     "text": [
      "[(1001, 'Dhiman', 'Kolkata', 39000.0), (1002, 'Anupam', 'Kolkata', 25000.0), (1003, 'Subham', 'Mumbai', 36000.0), (1004, 'Dinesh', 'Chennai', 28000.0), (1005, 'Kakali', 'Mumbai', 25000.0), (1006, 'Bimal', 'Hyderabad', 30000.0), (1007, 'Tarun', 'Chennai', 17000.0), (1008, 'Rittik', 'Durgapur', 45000.0), (1009, 'Barun', 'Hyderabad', 39000.0), (1010, 'Utpal', 'Lucknow', 20000.0)]\n"
     ]
    }
   ],
   "source": [
    "# retrieving records from the database table\n",
    "# SQL for fetching all the records from the employee table\n",
    "sqlStr = \"SELECT * FROM employee;\"\n",
    "# read from table and point the cursor into the variable cur_table\n",
    "cur_table = connection.execute(sqlStr)\n",
    "print (list(cur_table))"
   ]
  },
  {
   "cell_type": "code",
   "execution_count": 16,
   "id": "9d4a3725-3fe8-49d1-94cd-edcc02d12541",
   "metadata": {},
   "outputs": [
    {
     "name": "stdout",
     "output_type": "stream",
     "text": [
      "Emp-ID: 1001, Emp-Name: Dhiman, Emp-City: Kolkata, Emp-Salary: 39000.0...\n",
      "Emp-ID: 1002, Emp-Name: Anupam, Emp-City: Kolkata, Emp-Salary: 25000.0...\n",
      "Emp-ID: 1003, Emp-Name: Subham, Emp-City: Mumbai, Emp-Salary: 36000.0...\n",
      "Emp-ID: 1004, Emp-Name: Dinesh, Emp-City: Chennai, Emp-Salary: 28000.0...\n",
      "Emp-ID: 1005, Emp-Name: Kakali, Emp-City: Mumbai, Emp-Salary: 25000.0...\n",
      "Emp-ID: 1006, Emp-Name: Bimal, Emp-City: Hyderabad, Emp-Salary: 30000.0...\n",
      "Emp-ID: 1007, Emp-Name: Tarun, Emp-City: Chennai, Emp-Salary: 17000.0...\n",
      "Emp-ID: 1008, Emp-Name: Rittik, Emp-City: Durgapur, Emp-Salary: 45000.0...\n",
      "Emp-ID: 1009, Emp-Name: Barun, Emp-City: Hyderabad, Emp-Salary: 39000.0...\n",
      "Emp-ID: 1010, Emp-Name: Utpal, Emp-City: Lucknow, Emp-Salary: 20000.0...\n"
     ]
    }
   ],
   "source": [
    "# retrieving records from the database table\n",
    "# SQL for fetching all the records from the employee table\n",
    "sqlStr = \"SELECT * FROM employee;\"\n",
    "# read from table and point the cursor into the variable cur_table\n",
    "cur_table = connection.execute(sqlStr)\n",
    "for row in cur_table:\n",
    "    print(f\"Emp-ID: {row[0]}, Emp-Name: {row[1]}, Emp-City: {row[2]}, Emp-Salary: {row[3]}...\")"
   ]
  },
  {
   "cell_type": "code",
   "execution_count": 18,
   "id": "e94c6aaa-9261-4700-807c-f18fdf7d1201",
   "metadata": {},
   "outputs": [
    {
     "name": "stdout",
     "output_type": "stream",
     "text": [
      "Emp-Name: Dhiman, Emp-Salary: 39000.0 and Emp-TDS: 3900.0...\n",
      "Emp-Name: Anupam, Emp-Salary: 25000.0 and Emp-TDS: 2500.0...\n",
      "Emp-Name: Subham, Emp-Salary: 36000.0 and Emp-TDS: 3600.0...\n",
      "Emp-Name: Dinesh, Emp-Salary: 28000.0 and Emp-TDS: 2800.0...\n",
      "Emp-Name: Kakali, Emp-Salary: 25000.0 and Emp-TDS: 2500.0...\n",
      "Emp-Name: Bimal, Emp-Salary: 30000.0 and Emp-TDS: 3000.0...\n",
      "Emp-Name: Tarun, Emp-Salary: 17000.0 and Emp-TDS: 1700.0...\n",
      "Emp-Name: Rittik, Emp-Salary: 45000.0 and Emp-TDS: 4500.0...\n",
      "Emp-Name: Barun, Emp-Salary: 39000.0 and Emp-TDS: 3900.0...\n",
      "Emp-Name: Utpal, Emp-Salary: 20000.0 and Emp-TDS: 2000.0...\n",
      "End of this section...\n"
     ]
    }
   ],
   "source": [
    "# Class Assignment - 1\n",
    "# Fetch employee_name, salary and 10% TDS against salaries of all employees.\n",
    "sqlStr = \"SELECT emp_name, emp_salary, emp_salary * 0.10 from employee\"\n",
    "cur_table = connection.execute(sqlStr)\n",
    "for row in cur_table:\n",
    "    print(f\"Emp-Name: {row[0]}, Emp-Salary: {row[1]} and Emp-TDS: {row[2]}...\")\n",
    "print (\"End of this section...\")"
   ]
  },
  {
   "cell_type": "code",
   "execution_count": 20,
   "id": "7c8dd990-0a06-4a32-a5e7-d5f64fc390d4",
   "metadata": {},
   "outputs": [
    {
     "name": "stdout",
     "output_type": "stream",
     "text": [
      "City: Chennai, Count: 2, Total: 45000.0, Average: 22500.0, Maximum: 28000.0, Minimum: 17000.0...\n",
      "City: Durgapur, Count: 1, Total: 45000.0, Average: 45000.0, Maximum: 45000.0, Minimum: 45000.0...\n",
      "City: Hyderabad, Count: 2, Total: 69000.0, Average: 34500.0, Maximum: 39000.0, Minimum: 30000.0...\n",
      "City: Kolkata, Count: 2, Total: 64000.0, Average: 32000.0, Maximum: 39000.0, Minimum: 25000.0...\n",
      "City: Lucknow, Count: 1, Total: 20000.0, Average: 20000.0, Maximum: 20000.0, Minimum: 20000.0...\n",
      "City: Mumbai, Count: 2, Total: 61000.0, Average: 30500.0, Maximum: 36000.0, Minimum: 25000.0...\n",
      "End of this section...\n"
     ]
    }
   ],
   "source": [
    "# Class Assignment - 2\n",
    "# Display city wise total, average, maximum and minimum salaries of all employees\n",
    "sqlStr = \"\"\"\n",
    "         SELECT emp_city, COUNT(emp_salary), SUM(emp_salary), \n",
    "         AVG(emp_salary), MAX(emp_salary), MIN(emp_salary) \n",
    "         FROM employee\n",
    "         GROUP BY emp_city;\n",
    "         \"\"\"\n",
    "cur_table = connection.execute(sqlStr)\n",
    "for row in cur_table:\n",
    "    print(f\"City: {row[0]}, Count: {row[1]}, Total: {row[2]}, Average: {row[3]}, Maximum: {row[4]}, Minimum: {row[5]}...\")\n",
    "print (\"End of this section...\")"
   ]
  },
  {
   "cell_type": "code",
   "execution_count": 30,
   "id": "b320f78d-525c-44c4-9f21-62079024df5e",
   "metadata": {},
   "outputs": [
    {
     "name": "stdout",
     "output_type": "stream",
     "text": [
      "1012\n"
     ]
    },
    {
     "name": "stdin",
     "output_type": "stream",
     "text": [
      "Please enter the number of new records:  2\n",
      "Please enter employee name:  Chandan\n",
      "Please enter employee city:  Gujrat\n",
      "Please enter employee salary:  45000\n",
      "Please enter employee name:  Sima\n",
      "Please enter employee city:  Kolkata\n",
      "Please enter employee salary:  42000\n"
     ]
    },
    {
     "name": "stdout",
     "output_type": "stream",
     "text": [
      "All the new records got inserted successfully into the employee table...\n"
     ]
    }
   ],
   "source": [
    "# Class Assignment - 3\n",
    "# Take n number of record inputs from the user and insert them into the employee table\n",
    "sqlStr = \"SELECT max(emp_id) FROM employee;\"\n",
    "cur_table = connection.execute(sqlStr)\n",
    "new_emp_id = list(cur_table)[0][0] + 1\n",
    "print (new_emp_id)\n",
    "sqlStr = \"INSERT INTO employee VALUES ('{emp_id}', '{emp_name}', '{emp_city}', '{emp_salary}');\"\n",
    "n = int(input(\"Please enter the number of new records: \"))\n",
    "for row_no in range(n):\n",
    "    new_emp_name = input(\"Please enter employee name: \")\n",
    "    new_emp_city = input(\"Please enter employee city: \")\n",
    "    new_emp_salary = int(input(\"Please enter employee salary: \"))\n",
    "    connection.execute(sqlStr.format(emp_id=new_emp_id, emp_name=new_emp_name, emp_city=new_emp_city,\n",
    "                                     emp_salary=new_emp_salary))\n",
    "    new_emp_id += 1\n",
    "connection.commit()    # making the change permanent\n",
    "print (\"All the new records got inserted successfully into the employee table...\")"
   ]
  },
  {
   "cell_type": "code",
   "execution_count": 31,
   "id": "07cbbecc-82e8-468c-a55a-e5976bd39711",
   "metadata": {},
   "outputs": [
    {
     "name": "stdout",
     "output_type": "stream",
     "text": [
      "Emp-ID: 1001, Emp-Name: Dhiman, Emp-City: Kolkata, Emp-Salary: 39000.0...\n",
      "Emp-ID: 1002, Emp-Name: Anupam, Emp-City: Kolkata, Emp-Salary: 25000.0...\n",
      "Emp-ID: 1003, Emp-Name: Subham, Emp-City: Mumbai, Emp-Salary: 36000.0...\n",
      "Emp-ID: 1004, Emp-Name: Dinesh, Emp-City: Chennai, Emp-Salary: 28000.0...\n",
      "Emp-ID: 1005, Emp-Name: Kakali, Emp-City: Mumbai, Emp-Salary: 25000.0...\n",
      "Emp-ID: 1006, Emp-Name: Bimal, Emp-City: Hyderabad, Emp-Salary: 30000.0...\n",
      "Emp-ID: 1007, Emp-Name: Tarun, Emp-City: Chennai, Emp-Salary: 17000.0...\n",
      "Emp-ID: 1008, Emp-Name: Rittik, Emp-City: Durgapur, Emp-Salary: 45000.0...\n",
      "Emp-ID: 1009, Emp-Name: Barun, Emp-City: Hyderabad, Emp-Salary: 39000.0...\n",
      "Emp-ID: 1010, Emp-Name: Utpal, Emp-City: Lucknow, Emp-Salary: 20000.0...\n",
      "Emp-ID: 1011, Emp-Name: Rohit, Emp-City: Noida, Emp-Salary: 35000.0...\n",
      "Emp-ID: 1012, Emp-Name: Chandan, Emp-City: Gujrat, Emp-Salary: 45000.0...\n",
      "Emp-ID: 1013, Emp-Name: Sima, Emp-City: Kolkata, Emp-Salary: 42000.0...\n"
     ]
    }
   ],
   "source": [
    "# retrieving records from the database table\n",
    "# SQL for fetching all the records from the employee table\n",
    "sqlStr = \"SELECT * FROM employee;\"\n",
    "# read from table and point the cursor into the variable cur_table\n",
    "cur_table = connection.execute(sqlStr)\n",
    "for row in cur_table:\n",
    "    print(f\"Emp-ID: {row[0]}, Emp-Name: {row[1]}, Emp-City: {row[2]}, Emp-Salary: {row[3]}...\")"
   ]
  },
  {
   "cell_type": "code",
   "execution_count": 38,
   "id": "283f6fe9-c5ab-4f48-9c59-252b46f5b16f",
   "metadata": {},
   "outputs": [
    {
     "data": {
      "text/html": [
       "<div>\n",
       "<style scoped>\n",
       "    .dataframe tbody tr th:only-of-type {\n",
       "        vertical-align: middle;\n",
       "    }\n",
       "\n",
       "    .dataframe tbody tr th {\n",
       "        vertical-align: top;\n",
       "    }\n",
       "\n",
       "    .dataframe thead th {\n",
       "        text-align: right;\n",
       "    }\n",
       "</style>\n",
       "<table border=\"1\" class=\"dataframe\">\n",
       "  <thead>\n",
       "    <tr style=\"text-align: right;\">\n",
       "      <th></th>\n",
       "      <th>emp_id</th>\n",
       "      <th>emp_name</th>\n",
       "      <th>emp_city</th>\n",
       "      <th>emp_salary</th>\n",
       "    </tr>\n",
       "  </thead>\n",
       "  <tbody>\n",
       "    <tr>\n",
       "      <th>0</th>\n",
       "      <td>1001</td>\n",
       "      <td>Dhiman</td>\n",
       "      <td>Kolkata</td>\n",
       "      <td>39000.0</td>\n",
       "    </tr>\n",
       "    <tr>\n",
       "      <th>1</th>\n",
       "      <td>1002</td>\n",
       "      <td>Anupam</td>\n",
       "      <td>Kolkata</td>\n",
       "      <td>25000.0</td>\n",
       "    </tr>\n",
       "    <tr>\n",
       "      <th>2</th>\n",
       "      <td>1003</td>\n",
       "      <td>Subham</td>\n",
       "      <td>Mumbai</td>\n",
       "      <td>36000.0</td>\n",
       "    </tr>\n",
       "    <tr>\n",
       "      <th>3</th>\n",
       "      <td>1004</td>\n",
       "      <td>Dinesh</td>\n",
       "      <td>Chennai</td>\n",
       "      <td>28000.0</td>\n",
       "    </tr>\n",
       "    <tr>\n",
       "      <th>4</th>\n",
       "      <td>1005</td>\n",
       "      <td>Kakali</td>\n",
       "      <td>Mumbai</td>\n",
       "      <td>25000.0</td>\n",
       "    </tr>\n",
       "    <tr>\n",
       "      <th>5</th>\n",
       "      <td>1006</td>\n",
       "      <td>Bimal</td>\n",
       "      <td>Hyderabad</td>\n",
       "      <td>30000.0</td>\n",
       "    </tr>\n",
       "    <tr>\n",
       "      <th>6</th>\n",
       "      <td>1007</td>\n",
       "      <td>Tarun</td>\n",
       "      <td>Chennai</td>\n",
       "      <td>17000.0</td>\n",
       "    </tr>\n",
       "    <tr>\n",
       "      <th>7</th>\n",
       "      <td>1008</td>\n",
       "      <td>Rittik</td>\n",
       "      <td>Durgapur</td>\n",
       "      <td>45000.0</td>\n",
       "    </tr>\n",
       "    <tr>\n",
       "      <th>8</th>\n",
       "      <td>1009</td>\n",
       "      <td>Barun</td>\n",
       "      <td>Hyderabad</td>\n",
       "      <td>39000.0</td>\n",
       "    </tr>\n",
       "    <tr>\n",
       "      <th>9</th>\n",
       "      <td>1010</td>\n",
       "      <td>Utpal</td>\n",
       "      <td>Lucknow</td>\n",
       "      <td>20000.0</td>\n",
       "    </tr>\n",
       "    <tr>\n",
       "      <th>10</th>\n",
       "      <td>1011</td>\n",
       "      <td>Rohit</td>\n",
       "      <td>Noida</td>\n",
       "      <td>35000.0</td>\n",
       "    </tr>\n",
       "    <tr>\n",
       "      <th>11</th>\n",
       "      <td>1012</td>\n",
       "      <td>Chandan</td>\n",
       "      <td>Gujrat</td>\n",
       "      <td>45000.0</td>\n",
       "    </tr>\n",
       "    <tr>\n",
       "      <th>12</th>\n",
       "      <td>1013</td>\n",
       "      <td>Sima</td>\n",
       "      <td>Kolkata</td>\n",
       "      <td>42000.0</td>\n",
       "    </tr>\n",
       "  </tbody>\n",
       "</table>\n",
       "</div>"
      ],
      "text/plain": [
       "    emp_id emp_name   emp_city  emp_salary\n",
       "0     1001   Dhiman    Kolkata     39000.0\n",
       "1     1002   Anupam    Kolkata     25000.0\n",
       "2     1003   Subham     Mumbai     36000.0\n",
       "3     1004   Dinesh    Chennai     28000.0\n",
       "4     1005   Kakali     Mumbai     25000.0\n",
       "5     1006    Bimal  Hyderabad     30000.0\n",
       "6     1007    Tarun    Chennai     17000.0\n",
       "7     1008   Rittik   Durgapur     45000.0\n",
       "8     1009    Barun  Hyderabad     39000.0\n",
       "9     1010    Utpal    Lucknow     20000.0\n",
       "10    1011    Rohit      Noida     35000.0\n",
       "11    1012  Chandan     Gujrat     45000.0\n",
       "12    1013     Sima    Kolkata     42000.0"
      ]
     },
     "execution_count": 38,
     "metadata": {},
     "output_type": "execute_result"
    }
   ],
   "source": [
    "# Class Assignment - 4\n",
    "# Transfer all the records from the employee database table to a Pandas DataFrame\n",
    "import pandas as pd\n",
    "sqlStr = \"SELECT * FROM employee;\"\n",
    "df = pd.read_sql_query(sqlStr, connection)\n",
    "df"
   ]
  },
  {
   "cell_type": "code",
   "execution_count": 39,
   "id": "04447972-28a9-4d6c-b246-ca8ce10a9613",
   "metadata": {},
   "outputs": [
    {
     "data": {
      "text/html": [
       "<div>\n",
       "<style scoped>\n",
       "    .dataframe tbody tr th:only-of-type {\n",
       "        vertical-align: middle;\n",
       "    }\n",
       "\n",
       "    .dataframe tbody tr th {\n",
       "        vertical-align: top;\n",
       "    }\n",
       "\n",
       "    .dataframe thead th {\n",
       "        text-align: right;\n",
       "    }\n",
       "</style>\n",
       "<table border=\"1\" class=\"dataframe\">\n",
       "  <thead>\n",
       "    <tr style=\"text-align: right;\">\n",
       "      <th></th>\n",
       "      <th>Emp_id</th>\n",
       "      <th>Emp_Name</th>\n",
       "      <th>Emp_City</th>\n",
       "      <th>Emp_Salary</th>\n",
       "    </tr>\n",
       "  </thead>\n",
       "  <tbody>\n",
       "    <tr>\n",
       "      <th>0</th>\n",
       "      <td>1001</td>\n",
       "      <td>Dhiman</td>\n",
       "      <td>Kolkata</td>\n",
       "      <td>39000.0</td>\n",
       "    </tr>\n",
       "    <tr>\n",
       "      <th>1</th>\n",
       "      <td>1002</td>\n",
       "      <td>Anupam</td>\n",
       "      <td>Kolkata</td>\n",
       "      <td>25000.0</td>\n",
       "    </tr>\n",
       "    <tr>\n",
       "      <th>2</th>\n",
       "      <td>1003</td>\n",
       "      <td>Subham</td>\n",
       "      <td>Mumbai</td>\n",
       "      <td>36000.0</td>\n",
       "    </tr>\n",
       "    <tr>\n",
       "      <th>3</th>\n",
       "      <td>1004</td>\n",
       "      <td>Dinesh</td>\n",
       "      <td>Chennai</td>\n",
       "      <td>28000.0</td>\n",
       "    </tr>\n",
       "    <tr>\n",
       "      <th>4</th>\n",
       "      <td>1005</td>\n",
       "      <td>Kakali</td>\n",
       "      <td>Mumbai</td>\n",
       "      <td>25000.0</td>\n",
       "    </tr>\n",
       "    <tr>\n",
       "      <th>5</th>\n",
       "      <td>1006</td>\n",
       "      <td>Bimal</td>\n",
       "      <td>Hyderabad</td>\n",
       "      <td>30000.0</td>\n",
       "    </tr>\n",
       "    <tr>\n",
       "      <th>6</th>\n",
       "      <td>1007</td>\n",
       "      <td>Tarun</td>\n",
       "      <td>Chennai</td>\n",
       "      <td>17000.0</td>\n",
       "    </tr>\n",
       "    <tr>\n",
       "      <th>7</th>\n",
       "      <td>1008</td>\n",
       "      <td>Rittik</td>\n",
       "      <td>Durgapur</td>\n",
       "      <td>45000.0</td>\n",
       "    </tr>\n",
       "    <tr>\n",
       "      <th>8</th>\n",
       "      <td>1009</td>\n",
       "      <td>Barun</td>\n",
       "      <td>Hyderabad</td>\n",
       "      <td>39000.0</td>\n",
       "    </tr>\n",
       "    <tr>\n",
       "      <th>9</th>\n",
       "      <td>1010</td>\n",
       "      <td>Utpal</td>\n",
       "      <td>Lucknow</td>\n",
       "      <td>20000.0</td>\n",
       "    </tr>\n",
       "    <tr>\n",
       "      <th>10</th>\n",
       "      <td>1011</td>\n",
       "      <td>Rohit</td>\n",
       "      <td>Noida</td>\n",
       "      <td>35000.0</td>\n",
       "    </tr>\n",
       "    <tr>\n",
       "      <th>11</th>\n",
       "      <td>1012</td>\n",
       "      <td>Chandan</td>\n",
       "      <td>Gujrat</td>\n",
       "      <td>45000.0</td>\n",
       "    </tr>\n",
       "    <tr>\n",
       "      <th>12</th>\n",
       "      <td>1013</td>\n",
       "      <td>Sima</td>\n",
       "      <td>Kolkata</td>\n",
       "      <td>42000.0</td>\n",
       "    </tr>\n",
       "  </tbody>\n",
       "</table>\n",
       "</div>"
      ],
      "text/plain": [
       "    Emp_id Emp_Name   Emp_City  Emp_Salary\n",
       "0     1001   Dhiman    Kolkata     39000.0\n",
       "1     1002   Anupam    Kolkata     25000.0\n",
       "2     1003   Subham     Mumbai     36000.0\n",
       "3     1004   Dinesh    Chennai     28000.0\n",
       "4     1005   Kakali     Mumbai     25000.0\n",
       "5     1006    Bimal  Hyderabad     30000.0\n",
       "6     1007    Tarun    Chennai     17000.0\n",
       "7     1008   Rittik   Durgapur     45000.0\n",
       "8     1009    Barun  Hyderabad     39000.0\n",
       "9     1010    Utpal    Lucknow     20000.0\n",
       "10    1011    Rohit      Noida     35000.0\n",
       "11    1012  Chandan     Gujrat     45000.0\n",
       "12    1013     Sima    Kolkata     42000.0"
      ]
     },
     "execution_count": 39,
     "metadata": {},
     "output_type": "execute_result"
    }
   ],
   "source": [
    "sqlStr = \"SELECT * FROM employee;\"\n",
    "cur_table = connection.execute(sqlStr)\n",
    "column_names = [\"Emp_id\", \"Emp_Name\", \"Emp_City\", \"Emp_Salary\"]\n",
    "df = pd.DataFrame(data = cur_table, columns = column_names)\n",
    "df"
   ]
  },
  {
   "cell_type": "code",
   "execution_count": 41,
   "id": "086685c1-6d0f-4d55-aa8f-6cea0e978130",
   "metadata": {},
   "outputs": [
    {
     "name": "stdout",
     "output_type": "stream",
     "text": [
      "So the number of the records got deleted: 3\n"
     ]
    }
   ],
   "source": [
    "# Class Assignment - 5\n",
    "# Delete all the employees from the city 'Kolkata' and display the updated table\n",
    "sqlStr = \"DELETE FROM employee WHERE emp_city = 'Kolkata';\"\n",
    "table = connection.execute(sqlStr)\n",
    "connection.commit()\n",
    "print (\"So the number of the records got deleted:\", table.rowcount)"
   ]
  },
  {
   "cell_type": "code",
   "execution_count": 42,
   "id": "c31b355a-6be0-448d-9789-c7631541eb71",
   "metadata": {},
   "outputs": [
    {
     "name": "stdout",
     "output_type": "stream",
     "text": [
      "Emp-ID: 1003, Emp-Name: Subham, Emp-City: Mumbai, Emp-Salary: 36000.0...\n",
      "Emp-ID: 1004, Emp-Name: Dinesh, Emp-City: Chennai, Emp-Salary: 28000.0...\n",
      "Emp-ID: 1005, Emp-Name: Kakali, Emp-City: Mumbai, Emp-Salary: 25000.0...\n",
      "Emp-ID: 1006, Emp-Name: Bimal, Emp-City: Hyderabad, Emp-Salary: 30000.0...\n",
      "Emp-ID: 1007, Emp-Name: Tarun, Emp-City: Chennai, Emp-Salary: 17000.0...\n",
      "Emp-ID: 1008, Emp-Name: Rittik, Emp-City: Durgapur, Emp-Salary: 45000.0...\n",
      "Emp-ID: 1009, Emp-Name: Barun, Emp-City: Hyderabad, Emp-Salary: 39000.0...\n",
      "Emp-ID: 1010, Emp-Name: Utpal, Emp-City: Lucknow, Emp-Salary: 20000.0...\n",
      "Emp-ID: 1011, Emp-Name: Rohit, Emp-City: Noida, Emp-Salary: 35000.0...\n",
      "Emp-ID: 1012, Emp-Name: Chandan, Emp-City: Gujrat, Emp-Salary: 45000.0...\n"
     ]
    }
   ],
   "source": [
    "# retrieving records from the database table\n",
    "# SQL for fetching all the records from the employee table\n",
    "sqlStr = \"SELECT * FROM employee;\"\n",
    "# read from table and point the cursor into the variable cur_table\n",
    "cur_table = connection.execute(sqlStr)\n",
    "for row in cur_table:\n",
    "    print(f\"Emp-ID: {row[0]}, Emp-Name: {row[1]}, Emp-City: {row[2]}, Emp-Salary: {row[3]}...\")"
   ]
  },
  {
   "cell_type": "code",
   "execution_count": 44,
   "id": "4a1bf3dd-c0dc-44c3-90ab-19d31dfd833a",
   "metadata": {},
   "outputs": [
    {
     "name": "stdout",
     "output_type": "stream",
     "text": [
      "So the number of the records got updated: 2\n"
     ]
    }
   ],
   "source": [
    "# Class Assignment - 6\n",
    "# Update salary to 30000 where city is 'Chennai' and display the updated table\n",
    "sqlStr = \"UPDATE employee SET emp_salary = 30000 WHERE emp_city = 'Chennai';\"\n",
    "table = connection.execute(sqlStr)\n",
    "connection.commit()\n",
    "print (\"So the number of the records got updated:\", table.rowcount)"
   ]
  },
  {
   "cell_type": "code",
   "execution_count": 45,
   "id": "2e1027a6-e30e-494a-bce8-e20edd034d4d",
   "metadata": {},
   "outputs": [
    {
     "name": "stdout",
     "output_type": "stream",
     "text": [
      "Emp-ID: 1003, Emp-Name: Subham, Emp-City: Mumbai, Emp-Salary: 36000.0...\n",
      "Emp-ID: 1004, Emp-Name: Dinesh, Emp-City: Chennai, Emp-Salary: 30000.0...\n",
      "Emp-ID: 1005, Emp-Name: Kakali, Emp-City: Mumbai, Emp-Salary: 25000.0...\n",
      "Emp-ID: 1006, Emp-Name: Bimal, Emp-City: Hyderabad, Emp-Salary: 30000.0...\n",
      "Emp-ID: 1007, Emp-Name: Tarun, Emp-City: Chennai, Emp-Salary: 30000.0...\n",
      "Emp-ID: 1008, Emp-Name: Rittik, Emp-City: Durgapur, Emp-Salary: 45000.0...\n",
      "Emp-ID: 1009, Emp-Name: Barun, Emp-City: Hyderabad, Emp-Salary: 39000.0...\n",
      "Emp-ID: 1010, Emp-Name: Utpal, Emp-City: Lucknow, Emp-Salary: 20000.0...\n",
      "Emp-ID: 1011, Emp-Name: Rohit, Emp-City: Noida, Emp-Salary: 35000.0...\n",
      "Emp-ID: 1012, Emp-Name: Chandan, Emp-City: Gujrat, Emp-Salary: 45000.0...\n"
     ]
    }
   ],
   "source": [
    "# retrieving records from the database table\n",
    "# SQL for fetching all the records from the employee table\n",
    "sqlStr = \"SELECT * FROM employee;\"\n",
    "# read from table and point the cursor into the variable cur_table\n",
    "cur_table = connection.execute(sqlStr)\n",
    "for row in cur_table:\n",
    "    print(f\"Emp-ID: {row[0]}, Emp-Name: {row[1]}, Emp-City: {row[2]}, Emp-Salary: {row[3]}...\")"
   ]
  },
  {
   "cell_type": "code",
   "execution_count": 47,
   "id": "34303cae-eed8-4daa-be8e-14a389cc26e2",
   "metadata": {},
   "outputs": [],
   "source": [
    "# closing the database connection\n",
    "connection.close()"
   ]
  },
  {
   "cell_type": "code",
   "execution_count": null,
   "id": "519f8882-7b44-4695-89d1-031b0ae80a44",
   "metadata": {},
   "outputs": [],
   "source": []
  }
 ],
 "metadata": {
  "kernelspec": {
   "display_name": "Python 3",
   "language": "python",
   "name": "python3"
  },
  "language_info": {
   "codemirror_mode": {
    "name": "ipython",
    "version": 3
   },
   "file_extension": ".py",
   "mimetype": "text/x-python",
   "name": "python",
   "nbconvert_exporter": "python",
   "pygments_lexer": "ipython3",
   "version": "3.8.8"
  }
 },
 "nbformat": 4,
 "nbformat_minor": 5
}
