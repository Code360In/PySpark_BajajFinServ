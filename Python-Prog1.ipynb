{
 "cells": [
  {
   "cell_type": "markdown",
   "id": "d82e6a6f-b51b-4fd5-b81f-257355f3f723",
   "metadata": {},
   "source": [
    "### Introduction to Python"
   ]
  },
  {
   "cell_type": "markdown",
   "id": "b56c75d1-bd56-4ee4-96b4-53554ea73881",
   "metadata": {},
   "source": [
    "#### Comment Lines"
   ]
  },
  {
   "cell_type": "code",
   "execution_count": null,
   "id": "8c2664fc-4517-4a63-a0a3-1ef4e9fa3420",
   "metadata": {},
   "outputs": [],
   "source": [
    "# This is a comment line\n",
    "# This is another comment line\n",
    "# This is another comment line\n",
    "# This is another comment line\n",
    "# This is another comment line"
   ]
  },
  {
   "cell_type": "markdown",
   "id": "77ea44b6-ecc9-49c5-aa28-db011ad60f75",
   "metadata": {},
   "source": [
    "#### Input and Output"
   ]
  },
  {
   "cell_type": "code",
   "execution_count": 2,
   "id": "738231d2-c1ba-4362-a3d6-c5a3f6b4f49c",
   "metadata": {},
   "outputs": [
    {
     "name": "stdin",
     "output_type": "stream",
     "text": [
      "Please enter the first number:  100\n",
      "Please enter the second number:  200\n"
     ]
    },
    {
     "name": "stdout",
     "output_type": "stream",
     "text": [
      "100 <class 'str'> 200 <class 'str'>\n",
      "So the result is 100200\n"
     ]
    }
   ],
   "source": [
    "num1 = input(\"Please enter the first number: \")\n",
    "num2 = input(\"Please enter the second number: \")\n",
    "print (num1, type(num1), num2, type(num2))\n",
    "total = num1 + num2\n",
    "print (\"So the result is\", total)"
   ]
  },
  {
   "cell_type": "code",
   "execution_count": 3,
   "id": "8010e294-1419-4975-be71-ef4e9a0a3cac",
   "metadata": {},
   "outputs": [
    {
     "name": "stdin",
     "output_type": "stream",
     "text": [
      "Please enter the first number:  100\n",
      "Please enter the second number:  300\n"
     ]
    },
    {
     "name": "stdout",
     "output_type": "stream",
     "text": [
      "100 <class 'int'> 300 <class 'int'>\n",
      "So the result is 400\n"
     ]
    }
   ],
   "source": [
    "num1 = int(input(\"Please enter the first number: \"))\n",
    "num2 = int(input(\"Please enter the second number: \"))\n",
    "print (num1, type(num1), num2, type(num2))\n",
    "total = num1 + num2\n",
    "print (\"So the result is\", total)"
   ]
  },
  {
   "cell_type": "code",
   "execution_count": 4,
   "id": "584f138e-99e5-45af-b0b3-1acaee0af418",
   "metadata": {},
   "outputs": [
    {
     "name": "stdin",
     "output_type": "stream",
     "text": [
      "Please enter the first number:  200\n",
      "Please enter the second number:  300\n"
     ]
    },
    {
     "name": "stdout",
     "output_type": "stream",
     "text": [
      "200 <class 'int'> 300 <class 'int'>\n"
     ]
    }
   ],
   "source": [
    "num1 = int(input(\"Please enter the first number: \"))\n",
    "num2 = int(input(\"Please enter the second number: \"))\n",
    "print (num1, type(num1), num2, type(num2))"
   ]
  },
  {
   "cell_type": "code",
   "execution_count": 16,
   "id": "23a45e5d-f81d-4f65-a212-85b793cc5623",
   "metadata": {},
   "outputs": [
    {
     "name": "stdout",
     "output_type": "stream",
     "text": [
      "So 200 + 300 = 500\n",
      "So 200 + 300 = 500\n",
      "So 200 + 300 = 500\n",
      "So 200 + 300 = 500\n",
      "So 200 + 300 = 500\n",
      "So 200 + 300 = 500\n",
      "So 200 + 300 = 500\n",
      "So 200 + 300 = 500\n",
      "So 200 + 300.000000 = 500\n",
      "So 200 + 300.000000 = 500\n",
      "So 200 +  300.000 = 500\n",
      "So 200 + 300 = 500\n"
     ]
    }
   ],
   "source": [
    "result = num1 + num2\n",
    "print (\"So\", num1, \"+\", num2, \"=\", result)\n",
    "print (\"So \" + str(num1) + \" + \" + str(num2) + \" = \" + str(result))\n",
    "print (\"So {} + {} = {}\".format(num1, num2, result))  # place holders\n",
    "print (\"So {0} + {1} = {2}\".format(num1, num2, result))  # indexed / numbered place holders\n",
    "print (\"So {2} + {1} = {0}\".format(result, num2, num1))  # indexed / numbered place holders\n",
    "print (\"So {fnum} + {snum} = {tot}\".format(fnum = num1, snum = num2, tot = result))  # labeled place holders\n",
    "print (\"So {fnum} + {snum} = {tot}\".format(tot = result, snum = num2, fnum = num1))  # labeled place holders\n",
    "print (\"So %d + %d = %d\"%(num1, num2, result))\n",
    "print (\"So %d + %f = %d\"%(num1, num2, result))\n",
    "print (\"So %d + %10.6f = %d\"%(num1, num2, result))\n",
    "print (\"So %d + %8.3f = %d\"%(num1, num2, result))\n",
    "print (f\"So {num1} + {num2} = {result}\")"
   ]
  },
  {
   "cell_type": "code",
   "execution_count": 20,
   "id": "e0d3a7ef-7c63-43c3-946e-643a00a72a00",
   "metadata": {},
   "outputs": [
    {
     "name": "stdout",
     "output_type": "stream",
     "text": [
      "100 <class 'int'> 140717448639376\n",
      "100 <class 'int'> 140717448639376\n",
      "100 <class 'int'> 140717448639376\n",
      "101 <class 'int'> 140717448639408\n"
     ]
    }
   ],
   "source": [
    "num1 = 100\n",
    "print (num1, type(num1), id(num1))\n",
    "num2 = 100\n",
    "print (num2, type(num2), id(num2))\n",
    "num3 = num2\n",
    "print (num3, type(num3), id(num3))\n",
    "num3 = 101\n",
    "print (num3, type(num3), id(num3))"
   ]
  },
  {
   "cell_type": "code",
   "execution_count": 21,
   "id": "0a0e2b68-5e0c-432b-a244-0d43c8020535",
   "metadata": {},
   "outputs": [
    {
     "name": "stdout",
     "output_type": "stream",
     "text": [
      "256 <class 'int'> 140717448644368\n",
      "256 <class 'int'> 140717448644368\n",
      "256 <class 'int'> 140717448644368\n"
     ]
    }
   ],
   "source": [
    "num1 = 256\n",
    "print (num1, type(num1), id(num1))\n",
    "num2 = 256\n",
    "print (num2, type(num2), id(num2))\n",
    "num3 = num2\n",
    "print (num3, type(num3), id(num3))"
   ]
  },
  {
   "cell_type": "code",
   "execution_count": 22,
   "id": "a4305d52-52f6-4208-bd67-ba8bd35c109b",
   "metadata": {},
   "outputs": [
    {
     "name": "stdout",
     "output_type": "stream",
     "text": [
      "257 <class 'int'> 2334803088592\n",
      "257 <class 'int'> 2334803087952\n",
      "257 <class 'int'> 2334803087952\n"
     ]
    }
   ],
   "source": [
    "num1 = 257\n",
    "print (num1, type(num1), id(num1))\n",
    "num2 = 257\n",
    "print (num2, type(num2), id(num2))\n",
    "num3 = num2\n",
    "print (num3, type(num3), id(num3))"
   ]
  },
  {
   "cell_type": "code",
   "execution_count": 24,
   "id": "05fe23ce-a93d-4522-9455-4e52a4b6a847",
   "metadata": {},
   "outputs": [
    {
     "name": "stdout",
     "output_type": "stream",
     "text": [
      "-6 <class 'int'> 2334803087952\n",
      "-6 <class 'int'> 2334803090032\n",
      "-6 <class 'int'> 2334803090032\n"
     ]
    }
   ],
   "source": [
    "# So the range is -5 to 256\n",
    "num1 = -6\n",
    "print (num1, type(num1), id(num1))\n",
    "num2 = -6\n",
    "print (num2, type(num2), id(num2))\n",
    "num3 = num2\n",
    "print (num3, type(num3), id(num3))"
   ]
  },
  {
   "cell_type": "markdown",
   "id": "29d11ac0-47aa-4893-a87e-371f3a1f1e3e",
   "metadata": {},
   "source": [
    "#### Python Operators"
   ]
  },
  {
   "cell_type": "code",
   "execution_count": 25,
   "id": "de38da7b-7b03-400d-be91-2754b26a4c6d",
   "metadata": {},
   "outputs": [
    {
     "name": "stdout",
     "output_type": "stream",
     "text": [
      "150\n",
      "50\n",
      "5000\n",
      "2.5\n",
      "2\n",
      "1000000\n",
      "20\n"
     ]
    }
   ],
   "source": [
    "# Arithmetic Operators\n",
    "print (100 + 50)   # Addition operation\n",
    "print (100 - 50)   # Subtraction operation\n",
    "print (100 * 50)   # Multiplication operation\n",
    "print (100 / 40)   # Float Division operation\n",
    "print (100 // 40)  # Integer Division operation\n",
    "print (100 ** 3)   # Exponentiation operation\n",
    "print (100 % 40)   # Modulus operation"
   ]
  },
  {
   "cell_type": "code",
   "execution_count": 26,
   "id": "803734a4-decf-4c8a-8cf8-6591be5ce9ee",
   "metadata": {},
   "outputs": [
    {
     "name": "stdout",
     "output_type": "stream",
     "text": [
      "True False False\n",
      "True True False\n",
      "False False True\n",
      "False True True\n",
      "True False\n",
      "False True\n"
     ]
    }
   ],
   "source": [
    "# Relational / Comparison Operators\n",
    "print (100 > 40, 100 > 100, 40 > 100)\n",
    "print (100 >= 40, 100 >= 100, 40 >= 100)\n",
    "print (100 < 40, 100 < 100, 40 < 100)\n",
    "print (100 <= 40, 100 <= 100, 40 <= 100)\n",
    "print (100 != 40, 100 != 100)\n",
    "print (100 == 40, 100 == 100)"
   ]
  },
  {
   "cell_type": "code",
   "execution_count": 27,
   "id": "12cfaa87-edc2-4f92-932d-ff56af4acfd3",
   "metadata": {},
   "outputs": [
    {
     "name": "stdout",
     "output_type": "stream",
     "text": [
      "True\n",
      "True\n",
      "False False\n"
     ]
    }
   ],
   "source": [
    "# Logical Operators\n",
    "print (100 > 40 and 100 > 60)\n",
    "print (100 > 40 or 100 > 60)\n",
    "print (not(100 > 40 and 100 > 60), not(100 > 40 or 100 > 60))"
   ]
  },
  {
   "cell_type": "code",
   "execution_count": 28,
   "id": "f2b1b9b0-9ae6-46e9-9cdd-6ffc976d0d09",
   "metadata": {},
   "outputs": [
    {
     "name": "stdout",
     "output_type": "stream",
     "text": [
      "100 -100\n"
     ]
    }
   ],
   "source": [
    "# Unary Operators\n",
    "print (+100, -100)"
   ]
  },
  {
   "cell_type": "code",
   "execution_count": 32,
   "id": "1a982d47-5039-4189-835e-3e68b073d248",
   "metadata": {},
   "outputs": [
    {
     "name": "stdout",
     "output_type": "stream",
     "text": [
      "Even Number\n",
      "Odd Number\n"
     ]
    }
   ],
   "source": [
    "# Ternary Operators\n",
    "num1 = 100\n",
    "result = \"Even Number\" if (num1 % 2 == 0) else \"Odd Number\"\n",
    "print (result)\n",
    "\n",
    "num1 = 105\n",
    "result = \"Even Number\" if (num1 % 2 == 0) else \"Odd Number\"\n",
    "print (result)"
   ]
  },
  {
   "cell_type": "code",
   "execution_count": null,
   "id": "5af5f6e4-d335-4d42-851a-749edcb0248d",
   "metadata": {},
   "outputs": [],
   "source": [
    "# Characters and ASCII Codes (8 bits and values will range from 0 to 255)\n",
    "# ASCII Codes can be divided in two categories: \n",
    "# (1) Normal ASCII Codes: 0 to 127 (Printable)\n",
    "# (2) Extended ASCII Codes: 128 to 255 (Non-Printable)\n",
    "# A -> 65, Z -> 90\n",
    "# a -> 97, z -> 122\n",
    "# 0 -> 48, 9 -> 57\n",
    "# Tab -> 8, Back Space -> 9\n",
    "# Space -> 32, Enter -> 13"
   ]
  },
  {
   "cell_type": "code",
   "execution_count": 36,
   "id": "2b16a1e1-dbf7-4922-ab4d-e2a3930cb91c",
   "metadata": {},
   "outputs": [
    {
     "name": "stdout",
     "output_type": "stream",
     "text": [
      "A <class 'str'> 2334728908144 65\n",
      "Z <class 'str'> 2334739229104 90\n",
      "97 <class 'int'> 140717448639280 a\n",
      "122 <class 'int'> 140717448640080 z\n"
     ]
    }
   ],
   "source": [
    "# ORD and CHR functions\n",
    "char1 = \"A\"\n",
    "print (char1, type(char1), id(char1), ord(char1))\n",
    "char1 = \"Z\"\n",
    "print (char1, type(char1), id(char1), ord(char1))\n",
    "asc1 = 97\n",
    "print (asc1, type(asc1), id(asc1), chr(asc1))\n",
    "asc1 = 122\n",
    "print (asc1, type(asc1), id(asc1), chr(asc1))"
   ]
  },
  {
   "cell_type": "code",
   "execution_count": 52,
   "id": "7f8d4623-178e-4749-a733-40288f1888dc",
   "metadata": {},
   "outputs": [
    {
     "name": "stdout",
     "output_type": "stream",
     "text": [
      "A 65 <class 'str'> 2334728908144 97 a\n",
      "A 65 <class 'str'> 2334728908144 97 a\n",
      "A 65 <class 'str'> 2334728908144 97 a\n"
     ]
    }
   ],
   "source": [
    "# Bitwise Operators: & (AND), | (OR), ^ (XOR), ~ (1's complement)\n",
    "# A => 65 = 64 + 1      = 0100 0001\n",
    "#                      or 0010 0000 (0x20, 32)\n",
    "#                         ---------\n",
    "# a => 97 = 64 + 32 + 1 = 0110 0001\n",
    "char1 = 'A'\n",
    "print (char1, ord(char1), type(char1), id(char1), ord(char1) | 0x20, chr(ord(char1) | 0x20))\n",
    "print (char1, ord(char1), type(char1), id(char1), ord(char1) | 32, chr(ord(char1) | 32))\n",
    "print (char1, ord(char1), type(char1), id(char1), ord(char1) | 0b00100000, chr(ord(char1) | 0b00100000))"
   ]
  },
  {
   "cell_type": "code",
   "execution_count": 51,
   "id": "3f1b58aa-069c-4c12-a267-4f5e420e1df3",
   "metadata": {},
   "outputs": [
    {
     "name": "stdout",
     "output_type": "stream",
     "text": [
      "a 97 <class 'str'> 2334728438576 65 A\n",
      "a 97 <class 'str'> 2334728438576 65 A\n",
      "a 97 <class 'str'> 2334728438576 65 A\n"
     ]
    }
   ],
   "source": [
    "# Bitwise Operators: & (AND), | (OR), ^ (XOR), ~ (1's complement)\n",
    "# a => 97 = 64 + 32 + 1 = 0110 0001\n",
    "#                     and 1101 1111 (0xDF, 223)\n",
    "#                         ---------\n",
    "# A => 65 = 64 + 1      = 0100 0001\n",
    "char1 = 'a'\n",
    "print (char1, ord(char1), type(char1), id(char1), ord(char1) & 0xDF, chr(ord(char1) & 0xDF))\n",
    "print (char1, ord(char1), type(char1), id(char1), ord(char1) & 223, chr(ord(char1) & 223))\n",
    "print (char1, ord(char1), type(char1), id(char1), ord(char1) & 0b01000001, chr(ord(char1) & 0b01000001))"
   ]
  },
  {
   "cell_type": "code",
   "execution_count": null,
   "id": "5a74f5d6-ec9c-4091-89ab-fcb3b0ec61ce",
   "metadata": {},
   "outputs": [],
   "source": [
    "# Boolean Identities\n",
    "# a | 0 = a, a | 1 = 1, a | a = a, a | ~a = 1\n",
    "# a & 0 = 0, a & 1 = a, a & a = a, a & ~a = 0\n",
    "# a ^ 0 = a, a ^ 1 = ~a, a ^ a = 0, a ^ ~a = 1"
   ]
  },
  {
   "cell_type": "code",
   "execution_count": 53,
   "id": "d8ac020b-ffac-4823-8a67-51b878b8d74b",
   "metadata": {},
   "outputs": [
    {
     "name": "stdout",
     "output_type": "stream",
     "text": [
      "a 97 <class 'str'> 2334728438576 65 A\n",
      "a 97 <class 'str'> 2334728438576 65 A\n",
      "a 97 <class 'str'> 2334728438576 65 A\n",
      "A 65 <class 'str'> 2334728908144 97 a\n",
      "A 65 <class 'str'> 2334728908144 97 a\n",
      "A 65 <class 'str'> 2334728908144 97 a\n"
     ]
    }
   ],
   "source": [
    "# Bitwise Operators: & (AND), | (OR), ^ (XOR), ~ (1's complement)\n",
    "# a => 97 = 64 + 32 + 1 = 0110 0001\n",
    "#                     xor 0010 0000 (0x20, 32)\n",
    "#                         ---------\n",
    "# A => 65 = 64 + 1      = 0100 0001\n",
    "char1 = 'a'\n",
    "print (char1, ord(char1), type(char1), id(char1), ord(char1) ^ 0x20, chr(ord(char1) ^ 0x20))\n",
    "print (char1, ord(char1), type(char1), id(char1), ord(char1) ^ 32, chr(ord(char1) ^ 32))\n",
    "print (char1, ord(char1), type(char1), id(char1), ord(char1) ^ 0b00100000, chr(ord(char1) ^ 0b00100000))\n",
    "\n",
    "char1 = 'A'\n",
    "print (char1, ord(char1), type(char1), id(char1), ord(char1) ^ 0x20, chr(ord(char1) ^ 0x20))\n",
    "print (char1, ord(char1), type(char1), id(char1), ord(char1) ^ 32, chr(ord(char1) ^ 32))\n",
    "print (char1, ord(char1), type(char1), id(char1), ord(char1) ^ 0b00100000, chr(ord(char1) ^ 0b00100000))"
   ]
  },
  {
   "cell_type": "markdown",
   "id": "81f4ce11-fe93-4a5c-9d49-55b6fbd817a9",
   "metadata": {},
   "source": [
    "#### Conditional Statements"
   ]
  },
  {
   "cell_type": "code",
   "execution_count": 60,
   "id": "c94a7b31-60c3-430f-89b7-bc534941ecb9",
   "metadata": {},
   "outputs": [
    {
     "name": "stdin",
     "output_type": "stream",
     "text": [
      "Please enter the first number:  100\n",
      "Please enter the second number:  300\n",
      "Please enter the third number:  200\n"
     ]
    },
    {
     "name": "stdout",
     "output_type": "stream",
     "text": [
      "So the second number is the maximum number...\n",
      "So the maximum number is num2: 300\n",
      "End of the program...\n"
     ]
    }
   ],
   "source": [
    "# find the maximum of user given three numbers\n",
    "num1 = int(input(\"Please enter the first number: \"))\n",
    "num2 = int(input(\"Please enter the second number: \"))\n",
    "num3 = int(input(\"Please enter the third number: \"))\n",
    "if (num1 > num2):\n",
    "    if (num1 > num3):\n",
    "        print (\"So the first number is the maximum number...\")\n",
    "        print (\"So the maximum number is num1:\", num1)\n",
    "    else:\n",
    "        print (\"So the third number is the maximum number...\")\n",
    "        print (\"So the maximum number is num3:\", num3)\n",
    "elif (num2 > num3):\n",
    "    print (\"So the second number is the maximum number...\")\n",
    "    print (\"So the maximum number is num2:\", num2)\n",
    "else:\n",
    "    print (\"So the third number is the maximum number...\")\n",
    "    print (\"So the maximum number is num3:\", num3)\n",
    "\n",
    "print (\"End of the program...\")"
   ]
  },
  {
   "cell_type": "code",
   "execution_count": 63,
   "id": "64a50c12-0ae5-490d-b1e3-3a986e9b03f6",
   "metadata": {},
   "outputs": [
    {
     "name": "stdin",
     "output_type": "stream",
     "text": [
      "Please enter the first number:  300\n",
      "Please enter the second number:  200\n",
      "Please enter the third number:  100\n"
     ]
    },
    {
     "name": "stdout",
     "output_type": "stream",
     "text": [
      "So the first number is the maximum number...\n",
      "So the maximum number is num1: 300\n",
      "End of the program...\n"
     ]
    }
   ],
   "source": [
    "# find the maximum of user given three numbers\n",
    "num1 = int(input(\"Please enter the first number: \"))\n",
    "num2 = int(input(\"Please enter the second number: \"))\n",
    "num3 = int(input(\"Please enter the third number: \"))\n",
    "if (num1 > num2 and num1 > num3):\n",
    "    print (\"So the first number is the maximum number...\")\n",
    "    print (\"So the maximum number is num1:\", num1)\n",
    "elif (num2 > num3):\n",
    "    print (\"So the second number is the maximum number...\")\n",
    "    print (\"So the maximum number is num2:\", num2)\n",
    "else:\n",
    "    print (\"So the third number is the maximum number...\")\n",
    "    print (\"So the maximum number is num3:\", num3)\n",
    "\n",
    "print (\"End of the program...\")"
   ]
  },
  {
   "cell_type": "code",
   "execution_count": null,
   "id": "980ba751-6532-4883-8e85-13b8932a5af8",
   "metadata": {},
   "outputs": [],
   "source": [
    "# find the second maximum of user given three numbers\n",
    "# input num1, num2, num3\n",
    "# if (num1 > num2) then\n",
    "#    max1 = num1 and max2 = num2\n",
    "# else\n",
    "#    max1 = num2 and max2 = num1\n",
    "# end if\n",
    "# now we shall deal with max1, max2, num3\n",
    "#                    max1         max2\n",
    "#                    900          500\n",
    "# num3 ->      1000        700            200\n",
    "# Second max:   max1       num3           max2\n",
    "#               900        700            500"
   ]
  },
  {
   "cell_type": "code",
   "execution_count": 68,
   "id": "fd49295a-82e5-45a5-8a8b-ab71ee3a4cbf",
   "metadata": {},
   "outputs": [
    {
     "name": "stdin",
     "output_type": "stream",
     "text": [
      "Please enter the first number:  100\n",
      "Please enter the second number:  300\n",
      "Please enter the third number:  200\n"
     ]
    },
    {
     "name": "stdout",
     "output_type": "stream",
     "text": [
      "So the maximum number is num3: 200\n",
      "End of the program...\n"
     ]
    }
   ],
   "source": [
    "# find the second maximum of user given three numbers\n",
    "num1 = int(input(\"Please enter the first number: \"))\n",
    "num2 = int(input(\"Please enter the second number: \"))\n",
    "num3 = int(input(\"Please enter the third number: \"))\n",
    "if (num1 > num2): max1 = num1; max2 = num2\n",
    "else: max1 = num2; max2 = num1\n",
    "if (num3 > max1): print (\"So the maximum number is max1:\", max1)\n",
    "elif (num3 > max2): print (\"So the maximum number is num3:\", num3)\n",
    "else: print (\"So the maximum number is max2:\", max2)\n",
    "print (\"End of the program...\")"
   ]
  },
  {
   "cell_type": "code",
   "execution_count": 71,
   "id": "c4109caa-3a90-49db-adbf-4cd2fb3bb5a5",
   "metadata": {},
   "outputs": [
    {
     "name": "stdout",
     "output_type": "stream",
     "text": [
      "HelloHelloHelloHelloHello\n",
      "Hello Hello Hello Hello Hello \n",
      "Hi !!! Hi !!! Hi !!! \n"
     ]
    }
   ],
   "source": [
    "print (\"Hello\" * 5)\n",
    "print (\"Hello \" * 5)\n",
    "print (\"Hi !!! \" * 3)"
   ]
  },
  {
   "cell_type": "code",
   "execution_count": 76,
   "id": "94dcc8bc-5dc2-4e17-ada9-cf5bd065c9f0",
   "metadata": {},
   "outputs": [
    {
     "name": "stdout",
     "output_type": "stream",
     "text": [
      "Welcome To all\n",
      "Good Bye...\n"
     ]
    }
   ],
   "source": [
    "print (\"Welcome\", \"To all\")\n",
    "print (\"Good Bye...\")"
   ]
  },
  {
   "cell_type": "code",
   "execution_count": 75,
   "id": "65b0be1a-0505-4a5f-afdf-9e255e629776",
   "metadata": {},
   "outputs": [
    {
     "name": "stdout",
     "output_type": "stream",
     "text": [
      "Help on built-in function print in module builtins:\n",
      "\n",
      "print(...)\n",
      "    print(value, ..., sep=' ', end='\\n', file=sys.stdout, flush=False)\n",
      "    \n",
      "    Prints the values to a stream, or to sys.stdout by default.\n",
      "    Optional keyword arguments:\n",
      "    file:  a file-like object (stream); defaults to the current sys.stdout.\n",
      "    sep:   string inserted between values, default a space.\n",
      "    end:   string appended after the last value, default a newline.\n",
      "    flush: whether to forcibly flush the stream.\n",
      "\n"
     ]
    }
   ],
   "source": [
    "help(print)\n",
    "# ... known as 'ellipsis' operator"
   ]
  },
  {
   "cell_type": "code",
   "execution_count": 78,
   "id": "fd5f1a4b-ece2-4108-a2da-91b70b0e9333",
   "metadata": {},
   "outputs": [
    {
     "name": "stdout",
     "output_type": "stream",
     "text": [
      "WelcomeTo allGood Bye...\n",
      "Welcome...To all\n",
      "\n",
      "Good Bye...\n"
     ]
    }
   ],
   "source": [
    "print (\"Welcome\", \"To all\", sep = \"\", end = \"\")\n",
    "print (\"Good Bye...\")\n",
    "print (\"Welcome\", \"To all\", sep = \"...\", end = \"\\n\\n\")\n",
    "print (\"Good Bye...\")"
   ]
  },
  {
   "cell_type": "markdown",
   "id": "7b14b129-772e-48b5-8831-365e91e90876",
   "metadata": {},
   "source": [
    "#### Loops in Python"
   ]
  },
  {
   "cell_type": "code",
   "execution_count": 82,
   "id": "31697c8c-e85a-4602-8d2e-f370395d2cba",
   "metadata": {},
   "outputs": [
    {
     "name": "stdout",
     "output_type": "stream",
     "text": [
      "0, 1, 2, 3, 4, 5, 6, 7, 8, 9, \n",
      "3, 4, 5, 6, 7, 8, 9, \n",
      "1, 3, 5, 7, 9, \n",
      "10, 8, 6, 4, \n"
     ]
    }
   ],
   "source": [
    "# For Loop\n",
    "for i in range(10):\n",
    "    print (i, end = \", \")\n",
    "print ()\n",
    "\n",
    "for i in range(3, 10):\n",
    "    print (i, end = \", \")\n",
    "print ()\n",
    "\n",
    "for i in range(1, 10, 2):\n",
    "    print (i, end = \", \")\n",
    "print ()\n",
    "\n",
    "for i in range(10, 3, -2):\n",
    "    print (i, end = \", \")\n",
    "print ()"
   ]
  },
  {
   "cell_type": "code",
   "execution_count": 83,
   "id": "eef79132-cb5b-4b43-93f1-ec289ef0c657",
   "metadata": {},
   "outputs": [
    {
     "name": "stdout",
     "output_type": "stream",
     "text": [
      "The current value of i = 0\n",
      "The current value of i = 1\n",
      "The current value of i = 2\n",
      "The current value of i = 3\n",
      "The current value of i = 4\n",
      "The current value of i = 5\n",
      "The current value of i = 6\n",
      "The current value of i = 7\n",
      "The current value of i = 8\n",
      "The current value of i = 9\n",
      "ELSE block is executing...\n",
      "End of he program...\n"
     ]
    }
   ],
   "source": [
    "for i in range(10):\n",
    "    print (f\"The current value of i = {i}\")\n",
    "else:\n",
    "    print (\"ELSE block is executing...\")\n",
    "print (\"End of the program...\")"
   ]
  },
  {
   "cell_type": "code",
   "execution_count": 85,
   "id": "091597db-9bea-4b74-859d-d49fa948f590",
   "metadata": {},
   "outputs": [
    {
     "name": "stdin",
     "output_type": "stream",
     "text": [
      "Please enter an integer:  121\n"
     ]
    },
    {
     "name": "stdout",
     "output_type": "stream",
     "text": [
      "121 is NOT a Prime Number...\n",
      "End of the program...\n"
     ]
    }
   ],
   "source": [
    "# Find whether user given number is PRIME or not\n",
    "num1 = int(input(\"Please enter an integer: \"))\n",
    "\n",
    "for i in range(2, num1):\n",
    "    if (num1 % i == 0):\n",
    "        print (f\"{num1} is NOT a Prime Number...\")\n",
    "        break\n",
    "else:\n",
    "    print (f\"{num1} is a Prime Number...\")\n",
    "print (\"End of the program...\")"
   ]
  },
  {
   "cell_type": "code",
   "execution_count": 89,
   "id": "671193ec-4bc7-4994-b457-48be7ed1277e",
   "metadata": {},
   "outputs": [
    {
     "name": "stdin",
     "output_type": "stream",
     "text": [
      "Please enter an integer:  101\n"
     ]
    },
    {
     "name": "stdout",
     "output_type": "stream",
     "text": [
      "101 is a Prime Number...\n",
      "End of the program...\n"
     ]
    }
   ],
   "source": [
    "# Find whether user given number is PRIME or not\n",
    "num1 = int(input(\"Please enter an integer: \"))\n",
    "\n",
    "for i in range(2, num1):\n",
    "    if (num1 % i != 0):\n",
    "        pass    # pass is a statement place holder\n",
    "    else:\n",
    "        print (f\"{num1} is NOT a Prime Number...\")\n",
    "        break\n",
    "else:\n",
    "    print (f\"{num1} is a Prime Number...\")\n",
    "print (\"End of the program...\")"
   ]
  },
  {
   "cell_type": "code",
   "execution_count": 90,
   "id": "3bc1516e-e5cf-4dd5-bbca-5f67fe81aaee",
   "metadata": {},
   "outputs": [
    {
     "name": "stdout",
     "output_type": "stream",
     "text": [
      "Current i = 1...\n",
      "Current i = 2...\n",
      "Executing continue statement for i = 3...\n",
      "Current i = 4...\n",
      "Executing continue statement for i = 5...\n",
      "Current i = 6...\n",
      "Current i = 7...\n",
      "Current i = 8...\n",
      "Current i = 9...\n",
      "ELSE block is executing...\n",
      "End of the program...\n"
     ]
    }
   ],
   "source": [
    "for i in range(1, 10):\n",
    "    if (i == 3 or i == 5):\n",
    "        print (f\"Executing continue statement for i = {i}...\")\n",
    "        continue\n",
    "    print (f\"Current i = {i}...\")\n",
    "else:\n",
    "    print (\"ELSE block is executing...\")\n",
    "print (\"End of the program...\")"
   ]
  },
  {
   "cell_type": "code",
   "execution_count": 9,
   "id": "df7660c0-52ed-456f-9d47-e125ea850f4b",
   "metadata": {},
   "outputs": [
    {
     "name": "stdout",
     "output_type": "stream",
     "text": [
      "Visit Doctor...\n",
      "Good morning to my family members...\n",
      "Day Number: 1 and Medicine Number: 1...\n",
      "Day Number: 1 and Medicine Number: 2...\n",
      "Day Number: 1 and Medicine Number: 3...\n",
      "Good night to my family members...\n",
      "-------------------------------------------------\n",
      "Good morning to my family members...\n",
      "Day Number: 2 and Medicine Number: 1...\n",
      "Day Number: 2 and Medicine Number: 2...\n",
      "Day Number: 2 and Medicine Number: 3...\n",
      "Good night to my family members...\n",
      "-------------------------------------------------\n",
      "Good morning to my family members...\n",
      "Day Number: 3 and Medicine Number: 1...\n",
      "Day Number: 3 and Medicine Number: 2...\n",
      "Day Number: 3 and Medicine Number: 3...\n",
      "Good night to my family members...\n",
      "-------------------------------------------------\n",
      "Good morning to my family members...\n",
      "Day Number: 4 and Medicine Number: 1...\n",
      "Day Number: 4 and Medicine Number: 2...\n",
      "Day Number: 4 and Medicine Number: 3...\n",
      "Good night to my family members...\n",
      "-------------------------------------------------\n",
      "Good morning to my family members...\n",
      "Day Number: 5 and Medicine Number: 1...\n",
      "Day Number: 5 and Medicine Number: 2...\n",
      "Day Number: 5 and Medicine Number: 3...\n",
      "Good night to my family members...\n",
      "-------------------------------------------------\n",
      "Thanks to Doctor...\n"
     ]
    }
   ],
   "source": [
    "# nested loops\n",
    "print (\"Visit Doctor...\")\n",
    "for day in range(1, 6):\n",
    "    print (\"Good morning to my family members...\")\n",
    "    for medi in range(1, 4):\n",
    "        print (f\"Day Number: {day} and Medicine Number: {medi}...\")\n",
    "    print (\"Good night to my family members...\")\n",
    "    print (\"-------------------------------------------------\")\n",
    "print (\"Thanks to Doctor...\")"
   ]
  },
  {
   "cell_type": "code",
   "execution_count": 2,
   "id": "c4c7a752-5dfd-4277-bc19-be59bd651f2d",
   "metadata": {},
   "outputs": [
    {
     "name": "stdout",
     "output_type": "stream",
     "text": [
      "1, 2, 3, 4, 5, 6, 7, 8, 9, 10, \n",
      "1, 3, 5, 7, 9, \n",
      "10, 8, 6, 4, 2, "
     ]
    }
   ],
   "source": [
    "# while loop\n",
    "i = 1\n",
    "while (i <= 10):\n",
    "    print (f\"{i}\", end = \", \")\n",
    "    i += 1\n",
    "print()\n",
    "\n",
    "i = 1\n",
    "while (i <= 10):\n",
    "    print (f\"{i}\", end = \", \")\n",
    "    i += 2\n",
    "print()\n",
    "\n",
    "i = 10\n",
    "while (i >= 1):\n",
    "    print (f\"{i}\", end = \", \")\n",
    "    i -= 2"
   ]
  },
  {
   "cell_type": "code",
   "execution_count": 2,
   "id": "c9bb0a5d-3343-48e9-ac3e-f36a8078edf0",
   "metadata": {},
   "outputs": [
    {
     "name": "stdin",
     "output_type": "stream",
     "text": [
      "Please enter an integer:  101\n"
     ]
    },
    {
     "name": "stdout",
     "output_type": "stream",
     "text": [
      "101 is a Prime Number...\n",
      "End of the program...\n"
     ]
    }
   ],
   "source": [
    "# Find whether user given number is PRIME or not\n",
    "num1 = int(input(\"Please enter an integer: \"))\n",
    "factor = 2\n",
    "while (factor < num1):\n",
    "    if (num1 % factor == 0):\n",
    "        print (f\"{num1} is NOT a Prime Number...\")\n",
    "        break\n",
    "    factor += 1\n",
    "else:\n",
    "    print (f\"{num1} is a Prime Number...\")\n",
    "print (\"End of the program...\")"
   ]
  },
  {
   "cell_type": "code",
   "execution_count": null,
   "id": "558555e2-6e90-465c-bdaf-1c4b07cb6955",
   "metadata": {},
   "outputs": [],
   "source": [
    "# Pattern Printing-1\n",
    "\n",
    "n = 6 (User given)   i    .    *\n",
    "                   ---------------\n",
    "***********          1    0   11        (i, n)\n",
    ".*********           2    1    9   . => (i - 1)\n",
    "..*******            3    2    7\n",
    "...*****             4    3    5   * => 2 * (n - i) + 1\n",
    "....***              5    4    3\n",
    ".....*               6    5    1\n",
    "                   ---------------"
   ]
  },
  {
   "cell_type": "code",
   "execution_count": 4,
   "id": "6920c76f-7c95-4653-aae4-b2bff465f843",
   "metadata": {},
   "outputs": [
    {
     "name": "stdin",
     "output_type": "stream",
     "text": [
      "Please enter the number of layers:  10\n"
     ]
    },
    {
     "name": "stdout",
     "output_type": "stream",
     "text": [
      "*******************\n",
      ".*****************\n",
      "..***************\n",
      "...*************\n",
      "....***********\n",
      ".....*********\n",
      "......*******\n",
      ".......*****\n",
      "........***\n",
      ".........*\n"
     ]
    }
   ],
   "source": [
    "n = int(input(\"Please enter the number of layers: \"))\n",
    "for i in range(1, n + 1):\n",
    "    print (\".\" * (i - 1) + \"*\" * (2 * (n - i) + 1))"
   ]
  },
  {
   "cell_type": "code",
   "execution_count": null,
   "id": "9ab2648f-27ab-4a1a-8202-0aa93cee4c94",
   "metadata": {},
   "outputs": [],
   "source": [
    "# Pattern Printing-2\n",
    "\n",
    "n = 11 (User given)   i    .    *     m  = (n + 1) // 2 = 6\n",
    "(ODD Layer Number)  ---------------\n",
    ".....*                1    5    1        (i, n, m)\n",
    "....***               2    4    3   . => (m - i)\n",
    "...*****              3    3    5\n",
    "..*******             4    2    7   * => (2 * i - 1)\n",
    ".*********            5    1    9\n",
    "***********         __6____0___11__      \n",
    ".*********            7    1    9   . => (i - m)\n",
    "..*******             8    2    7\n",
    "...*****              9    3    5   * => 2 * (n - i) + 1\n",
    "....***              10    4    3\n",
    ".....*               11    5    1\n",
    "                   ---------------"
   ]
  },
  {
   "cell_type": "code",
   "execution_count": 6,
   "id": "11e2ddd7-fc0e-4c96-b189-e8f167f009ff",
   "metadata": {},
   "outputs": [
    {
     "name": "stdin",
     "output_type": "stream",
     "text": [
      "Please enter the ODD number of layers:  13\n"
     ]
    },
    {
     "name": "stdout",
     "output_type": "stream",
     "text": [
      "......*\n",
      ".....***\n",
      "....*****\n",
      "...*******\n",
      "..*********\n",
      ".***********\n",
      "*************\n",
      ".***********\n",
      "..*********\n",
      "...*******\n",
      "....*****\n",
      ".....***\n",
      "......*\n",
      "End of the program...\n"
     ]
    }
   ],
   "source": [
    "n = int(input(\"Please enter the ODD number of layers: \"))\n",
    "m = ((n + 1) // 2)\n",
    "for i in range(1, n + 1):\n",
    "    if (i > m):\n",
    "        print (\".\" * (i - m) + \"*\" * (2 * (n - i) + 1))\n",
    "    else:\n",
    "        print (\".\" * (m - i) + \"*\" * (2 * i - 1))\n",
    "print (\"End of the program...\")"
   ]
  },
  {
   "cell_type": "code",
   "execution_count": null,
   "id": "503a75e1-5253-4f1b-9f19-ce4ed2c6d3af",
   "metadata": {},
   "outputs": [],
   "source": [
    "# Class Assignment - 1\n",
    "# Calculate the sum of first n terms of this series. Where n will be supplied by the user.\n",
    "# total = 1, 2, 3, 4, 10, 5, 6, 7, 8, 26, 9, 10, ..."
   ]
  },
  {
   "cell_type": "code",
   "execution_count": 8,
   "id": "500324b1-c66c-4c22-927d-2c135520844c",
   "metadata": {},
   "outputs": [
    {
     "name": "stdin",
     "output_type": "stream",
     "text": [
      "Please enter the number of terms of the series:  11\n"
     ]
    },
    {
     "name": "stdout",
     "output_type": "stream",
     "text": [
      "Adding the ordinary term = 1...\n",
      "Adding the ordinary term = 2...\n",
      "Adding the ordinary term = 3...\n",
      "Adding the ordinary term = 4...\n",
      "Adding  temporary sum = 10...\n",
      "Adding the ordinary term = 5...\n",
      "Adding the ordinary term = 6...\n",
      "Adding the ordinary term = 7...\n",
      "Adding the ordinary term = 8...\n",
      "Adding  temporary sum = 26...\n",
      "Adding the ordinary term = 9...\n",
      "So the final sum of the series is 81\n",
      "End of the program...\n"
     ]
    }
   ],
   "source": [
    "n = int(input(\"Please enter the number of terms of the series: \"))\n",
    "term = 1; fsum = 0; tsum = 0\n",
    "for i in range(1, n + 1):\n",
    "    if (i % 5 == 0):\n",
    "        fsum = fsum + tsum\n",
    "        print (f\"Adding  temporary sum = {tsum}...\")\n",
    "        tsum = 0\n",
    "    else:\n",
    "        fsum = fsum + term\n",
    "        print (f\"Adding the ordinary term = {term}...\")\n",
    "        tsum = tsum + term\n",
    "        term = term + 1\n",
    "print (\"So the final sum of the series is\", fsum)\n",
    "print (\"End of the program...\")"
   ]
  },
  {
   "cell_type": "markdown",
   "id": "481eccc1-3cc5-4fbd-ac4f-c92fb2428261",
   "metadata": {},
   "source": [
    "#### User Defined Functions"
   ]
  },
  {
   "cell_type": "code",
   "execution_count": 10,
   "id": "cdbd2bd1-9555-4ff3-8172-381aa9da7859",
   "metadata": {},
   "outputs": [
    {
     "name": "stdout",
     "output_type": "stream",
     "text": [
      "Hello Hello Hello Hello Hello \n",
      "Hello Hello Hello Hello Hello \n",
      "Hello Hello Hello Hello Hello \n"
     ]
    }
   ],
   "source": [
    "def funct1():\n",
    "    print (\"Hello \" * 5)\n",
    "    \n",
    "funct1()\n",
    "funct1()\n",
    "funct1()"
   ]
  },
  {
   "cell_type": "code",
   "execution_count": 11,
   "id": "4c32fd93-40a6-4c8e-8c68-48451ad286e0",
   "metadata": {},
   "outputs": [
    {
     "name": "stdout",
     "output_type": "stream",
     "text": [
      "Hi !!! Hi !!! Hi !!! \n",
      "Hello Hello Hello Hello Hello \n",
      "Welcome Welcome Welcome Welcome Welcome Welcome \n"
     ]
    }
   ],
   "source": [
    "def funct2(msg, no_of_times):\n",
    "    print (msg * no_of_times)\n",
    "    \n",
    "funct2(\"Hi !!! \", 3)\n",
    "funct2(\"Hello \", 5)\n",
    "funct2(\"Welcome \", 6)"
   ]
  },
  {
   "cell_type": "code",
   "execution_count": 12,
   "id": "3e02a023-737f-4110-b21f-ecbc023af823",
   "metadata": {},
   "outputs": [
    {
     "name": "stdout",
     "output_type": "stream",
     "text": [
      "Welcome Welcome Welcome Welcome Welcome \n",
      "Hello Hello Hello Hello \n",
      "Hi !!! Hi !!! Hi !!! Hi !!! Hi !!! Hi !!! Hi !!! \n"
     ]
    }
   ],
   "source": [
    "def funct3(msg, no_of_times):\n",
    "    return msg * no_of_times\n",
    "\n",
    "result = funct3(\"Welcome \", 5)\n",
    "print (result)\n",
    "result = funct3(\"Hello \", 4)\n",
    "print (result)\n",
    "print (funct3(\"Hi !!! \", 7))"
   ]
  },
  {
   "cell_type": "code",
   "execution_count": 24,
   "id": "3e904149-01d0-4874-8f6f-c49a5563c786",
   "metadata": {},
   "outputs": [
    {
     "name": "stdout",
     "output_type": "stream",
     "text": [
      "par1 = 100, par2 = 200 and par3 = 300...\n",
      "par1 = 100, par2 = 200 and par3 = 333...\n",
      "par1 = 100, par2 = 222 and par3 = 333...\n",
      "par1 = 111, par2 = 222 and par3 = 333...\n",
      "par1 = 100, par2 = 222 and par3 = 300...\n",
      "par1 = 111, par2 = 200 and par3 = 333...\n"
     ]
    }
   ],
   "source": [
    "# function with default arguments\n",
    "# par1, par2, par3 are the parameters and they are initialized with default arguments\n",
    "def funct4(par1 = 111, par2 = 222, par3 = 333):\n",
    "    print (f\"par1 = {par1}, par2 = {par2} and par3 = {par3}...\")\n",
    "    \n",
    "funct4(100, 200, 300)                 # 100, 200 and 300 are arguments\n",
    "funct4(100, 200)\n",
    "funct4(100)\n",
    "funct4()\n",
    "funct4(par3 = 300, par1 = 100)\n",
    "funct4(par2 = 200)"
   ]
  },
  {
   "cell_type": "code",
   "execution_count": null,
   "id": "97bd3b98-c7e1-4966-bb1d-2231965b355d",
   "metadata": {},
   "outputs": [],
   "source": []
  },
  {
   "cell_type": "code",
   "execution_count": null,
   "id": "e32e269a-6031-4f55-a1bb-7935c9c6a2d5",
   "metadata": {},
   "outputs": [],
   "source": []
  },
  {
   "cell_type": "code",
   "execution_count": null,
   "id": "caff94a3-932d-4050-ade4-1cf64e3aa479",
   "metadata": {},
   "outputs": [],
   "source": []
  },
  {
   "cell_type": "code",
   "execution_count": null,
   "id": "755e3ceb-c285-49c3-9cf8-4f6e2867265c",
   "metadata": {},
   "outputs": [],
   "source": []
  },
  {
   "cell_type": "code",
   "execution_count": null,
   "id": "9d85e238-791f-455f-a08b-9c8689558c43",
   "metadata": {},
   "outputs": [],
   "source": []
  },
  {
   "cell_type": "code",
   "execution_count": null,
   "id": "f50c5cec-17fa-49ad-9ec4-fde7dcc7a818",
   "metadata": {},
   "outputs": [],
   "source": []
  },
  {
   "cell_type": "code",
   "execution_count": null,
   "id": "56130917-7899-47ba-b3df-5d7a41cbc0be",
   "metadata": {},
   "outputs": [],
   "source": []
  },
  {
   "cell_type": "code",
   "execution_count": null,
   "id": "24e96993-c28a-4748-81f7-d0e74810bdaf",
   "metadata": {},
   "outputs": [],
   "source": []
  },
  {
   "cell_type": "code",
   "execution_count": null,
   "id": "11e25599-7c25-4290-ab4a-6de627eb922e",
   "metadata": {},
   "outputs": [],
   "source": []
  },
  {
   "cell_type": "code",
   "execution_count": null,
   "id": "c6068cc2-31c5-4255-b7a4-60f837a88908",
   "metadata": {},
   "outputs": [],
   "source": []
  },
  {
   "cell_type": "code",
   "execution_count": null,
   "id": "6a1a6c9d-a87a-4f81-b57e-c65cb2adebc9",
   "metadata": {},
   "outputs": [],
   "source": []
  },
  {
   "cell_type": "code",
   "execution_count": null,
   "id": "0d1e3e4a-d076-4ceb-aa96-62397d01da23",
   "metadata": {},
   "outputs": [],
   "source": []
  },
  {
   "cell_type": "code",
   "execution_count": null,
   "id": "12657e51-57ba-472c-a100-f2cde90ca788",
   "metadata": {},
   "outputs": [],
   "source": []
  },
  {
   "cell_type": "code",
   "execution_count": null,
   "id": "61ba8074-2a0e-4655-af27-6df6a8c3f7f7",
   "metadata": {},
   "outputs": [],
   "source": []
  },
  {
   "cell_type": "code",
   "execution_count": null,
   "id": "50c5322c-d903-4b24-aee0-cc5ec89ccb04",
   "metadata": {},
   "outputs": [],
   "source": []
  },
  {
   "cell_type": "code",
   "execution_count": null,
   "id": "df8309e0-53d7-4860-b385-d26b99060b33",
   "metadata": {},
   "outputs": [],
   "source": []
  }
 ],
 "metadata": {
  "kernelspec": {
   "display_name": "Python 3",
   "language": "python",
   "name": "python3"
  },
  "language_info": {
   "codemirror_mode": {
    "name": "ipython",
    "version": 3
   },
   "file_extension": ".py",
   "mimetype": "text/x-python",
   "name": "python",
   "nbconvert_exporter": "python",
   "pygments_lexer": "ipython3",
   "version": "3.8.8"
  }
 },
 "nbformat": 4,
 "nbformat_minor": 5
}
