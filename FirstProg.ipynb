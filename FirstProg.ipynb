{
 "cells": [
  {
   "cell_type": "markdown",
   "metadata": {
    "application/vnd.databricks.v1+cell": {
     "cellMetadata": {},
     "inputWidgets": {},
     "nuid": "992733a6-a730-458c-b20e-a141f9d992af",
     "showTitle": false,
     "title": ""
    }
   },
   "source": [
    "### Testing with PySpark"
   ]
  },
  {
   "cell_type": "code",
   "execution_count": null,
   "metadata": {
    "application/vnd.databricks.v1+cell": {
     "cellMetadata": {},
     "inputWidgets": {},
     "nuid": "77f4f9e6-d72a-4dc1-bd49-86d29dec3e9e",
     "showTitle": false,
     "title": ""
    }
   },
   "outputs": [
    {
     "data": {
      "text/plain": [
       "+---------+--------+-------+-----------+\n",
       "|FirstName|LastName|Country|      State|\n",
       "+---------+--------+-------+-----------+\n",
       "|     Amal|     Das|  India|West Bengal|\n",
       "|    Kamal|   Singh|  India|  Tamilnadu|\n",
       "|     Rabi| Narayan|  India|     Gujrat|\n",
       "|    Maria|   Johns|  India|  Karnataka|\n",
       "+---------+--------+-------+-----------+\n",
       "\n",
       "[Row(FirstName='Amal', LastName='Das', Country='India', State='West Bengal'), Row(FirstName='Kamal', LastName='Singh', Country='India', State='Tamilnadu'), Row(FirstName='Rabi', LastName='Narayan', Country='India', State='Gujrat'), Row(FirstName='Maria', LastName='Johns', Country='India', State='Karnataka')] \n",
       "\n",
       "StructType([StructField('FirstName', StringType(), True), StructField('LastName', StringType(), True), StructField('Country', StringType(), True), StructField('State', StringType(), True)])\n"
      ]
     },
     "metadata": {
      "application/vnd.databricks.v1+output": {
       "addedWidgets": {},
       "arguments": {},
       "data": "+---------+--------+-------+-----------+\n|FirstName|LastName|Country|      State|\n+---------+--------+-------+-----------+\n|     Amal|     Das|  India|West Bengal|\n|    Kamal|   Singh|  India|  Tamilnadu|\n|     Rabi| Narayan|  India|     Gujrat|\n|    Maria|   Johns|  India|  Karnataka|\n+---------+--------+-------+-----------+\n\n[Row(FirstName='Amal', LastName='Das', Country='India', State='West Bengal'), Row(FirstName='Kamal', LastName='Singh', Country='India', State='Tamilnadu'), Row(FirstName='Rabi', LastName='Narayan', Country='India', State='Gujrat'), Row(FirstName='Maria', LastName='Johns', Country='India', State='Karnataka')] \n\nStructType([StructField('FirstName', StringType(), True), StructField('LastName', StringType(), True), StructField('Country', StringType(), True), StructField('State', StringType(), True)])\n",
       "datasetInfos": [],
       "metadata": {},
       "removedWidgets": [],
       "type": "ansi"
      }
     },
     "output_type": "display_data"
    }
   ],
   "source": [
    "from pyspark.sql import SparkSession\n",
    "spark = SparkSession.builder.master(\"local[1]\").appName(\"PySparkExamples\").getOrCreate()\n",
    "# Here local[1] means how many cores local executor will consume, here it is 1\n",
    "# Use local[x] when running in standalone mode. x should be an integer value and should be\n",
    "# greater than 0; this representes how many partitions it should create when using RDD (Resilient\n",
    "# Distributed Dataset)\n",
    "\n",
    "data = [('Amal', 'Das', 'India', 'West Bengal'),\n",
    "        ('Kamal', 'Singh', 'India', 'Tamilnadu'),\n",
    "        ('Rabi', 'Narayan', 'India', 'Gujrat'),\n",
    "        ('Maria', 'Johns', 'India', 'Karnataka')]\n",
    "columns = [\"FirstName\", \"LastName\", \"Country\", \"State\"]\n",
    "df = spark.createDataFrame(data = data, schema = columns)\n",
    "df.show()\n",
    "print (df.collect(), \"\\n\")\n",
    "print (df.schema)"
   ]
  }
 ],
 "metadata": {
  "application/vnd.databricks.v1+notebook": {
   "dashboards": [],
   "language": "python",
   "notebookMetadata": {
    "pythonIndentUnit": 4
   },
   "notebookName": "FirstProg",
   "notebookOrigID": 1171087659855596,
   "widgets": {}
  },
  "kernelspec": {
   "display_name": "Python 3",
   "language": "python",
   "name": "python3"
  },
  "language_info": {
   "codemirror_mode": {
    "name": "ipython",
    "version": 3
   },
   "file_extension": ".py",
   "mimetype": "text/x-python",
   "name": "python",
   "nbconvert_exporter": "python",
   "pygments_lexer": "ipython3",
   "version": "3.8.8"
  }
 },
 "nbformat": 4,
 "nbformat_minor": 4
}
